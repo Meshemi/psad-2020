{
 "cells": [
  {
   "cell_type": "markdown",
   "metadata": {},
   "source": [
    "# Языковая модель"
   ]
  },
  {
   "cell_type": "markdown",
   "metadata": {},
   "source": [
    "Построим языковую модель сначала вручную на простом синтетическом корпусе, затем обучим модель из пакета `nltk` на стихотворении \"Дом, который построил Джек\""
   ]
  },
  {
   "cell_type": "markdown",
   "metadata": {},
   "source": [
    "## Импорты"
   ]
  },
  {
   "cell_type": "code",
   "execution_count": 1,
   "metadata": {},
   "outputs": [],
   "source": [
    "from collections import Counter\n",
    "\n",
    "import nltk.lm as lm\n",
    "from nltk.util import ngrams as nltk_ngrams\n",
    "import numpy as np\n",
    "import scipy.stats as st"
   ]
  },
  {
   "cell_type": "markdown",
   "metadata": {},
   "source": [
    "## Пример"
   ]
  },
  {
   "cell_type": "code",
   "execution_count": 2,
   "metadata": {},
   "outputs": [
    {
     "data": {
      "text/plain": [
       "['SOS', 'SOS', 'А', 'Б', 'А', 'Б', 'А', 'Б', 'А', 'Б']"
      ]
     },
     "execution_count": 2,
     "metadata": {},
     "output_type": "execute_result"
    }
   ],
   "source": [
    "text = 'SOS SOS ' + 'А Б ' * 100 + 'EOS'\n",
    "tokens = text.split()\n",
    "n = len(tokens)\n",
    "tokens[:10]"
   ]
  },
  {
   "cell_type": "code",
   "execution_count": 3,
   "metadata": {},
   "outputs": [],
   "source": [
    "def ngrams_and_prefix_counts(tokens, n_max):\n",
    "    # словарь n-грамм и их частот\n",
    "    ngrams_counts = {}\n",
    "    # словарь n-граммных префиксов и их частот\n",
    "    prefix_counts = {}\n",
    "    \n",
    "    n = len(tokens)\n",
    "    for i in range(n_max):\n",
    "        ngrams_counts[i + 1] = Counter([tuple(tokens[j : j + i + 1]) for j in range(n - i)])\n",
    "        prefix_counts[i + 1] = Counter([tuple(tokens[j : j + i] + ['*']) for j in range(n - i)])\n",
    "\n",
    "    return ngrams_counts, prefix_counts"
   ]
  },
  {
   "cell_type": "code",
   "execution_count": 4,
   "metadata": {},
   "outputs": [],
   "source": [
    "ngram_counts, prefix_counts = ngrams_and_prefix_counts(tokens, 3)"
   ]
  },
  {
   "cell_type": "code",
   "execution_count": 5,
   "metadata": {},
   "outputs": [
    {
     "data": {
      "text/plain": [
       "{1: Counter({('SOS',): 2, ('А',): 100, ('Б',): 100, ('EOS',): 1}),\n",
       " 2: Counter({('SOS', 'SOS'): 1,\n",
       "          ('SOS', 'А'): 1,\n",
       "          ('А', 'Б'): 100,\n",
       "          ('Б', 'А'): 99,\n",
       "          ('Б', 'EOS'): 1}),\n",
       " 3: Counter({('SOS', 'SOS', 'А'): 1,\n",
       "          ('SOS', 'А', 'Б'): 1,\n",
       "          ('А', 'Б', 'А'): 99,\n",
       "          ('Б', 'А', 'Б'): 99,\n",
       "          ('А', 'Б', 'EOS'): 1})}"
      ]
     },
     "execution_count": 5,
     "metadata": {},
     "output_type": "execute_result"
    }
   ],
   "source": [
    "ngram_counts"
   ]
  },
  {
   "cell_type": "code",
   "execution_count": 6,
   "metadata": {},
   "outputs": [
    {
     "data": {
      "text/plain": [
       "{1: Counter({('*',): 203}),\n",
       " 2: Counter({('SOS', '*'): 2, ('А', '*'): 100, ('Б', '*'): 100}),\n",
       " 3: Counter({('SOS', 'SOS', '*'): 1,\n",
       "          ('SOS', 'А', '*'): 1,\n",
       "          ('А', 'Б', '*'): 100,\n",
       "          ('Б', 'А', '*'): 99})}"
      ]
     },
     "execution_count": 6,
     "metadata": {},
     "output_type": "execute_result"
    }
   ],
   "source": [
    "prefix_counts"
   ]
  },
  {
   "cell_type": "markdown",
   "metadata": {},
   "source": [
    "### N-граммы и их частотные вероятности"
   ]
  },
  {
   "cell_type": "markdown",
   "metadata": {},
   "source": [
    "$\\hat p_i = \\hat p(w_i)$"
   ]
  },
  {
   "cell_type": "code",
   "execution_count": 7,
   "metadata": {},
   "outputs": [],
   "source": [
    "def unigram_probas(ngram_counts):\n",
    "    p1 = {}\n",
    "    n = sum(ngram_counts[1].values())\n",
    "    for w in ngram_counts[1]:\n",
    "        p1[w] = ngram_counts[1][w] / n\n",
    "    return p1"
   ]
  },
  {
   "cell_type": "code",
   "execution_count": 8,
   "metadata": {},
   "outputs": [
    {
     "data": {
      "text/plain": [
       "{('SOS',): 0.009852216748768473,\n",
       " ('А',): 0.49261083743842365,\n",
       " ('Б',): 0.49261083743842365,\n",
       " ('EOS',): 0.0049261083743842365}"
      ]
     },
     "execution_count": 8,
     "metadata": {},
     "output_type": "execute_result"
    }
   ],
   "source": [
    "p1 = unigram_probas(ngram_counts)\n",
    "p1"
   ]
  },
  {
   "cell_type": "markdown",
   "metadata": {},
   "source": [
    "$\\hat p_{i, i - 1} = \\hat p(w_i|w_{i - 1})$"
   ]
  },
  {
   "cell_type": "code",
   "execution_count": 9,
   "metadata": {},
   "outputs": [],
   "source": [
    "def bigram_probas(ngram_counts, prefix_counts):\n",
    "    p2 = {}\n",
    "    for w in ngram_counts[2]:\n",
    "        pre_w = tuple([w[0]] + ['*'])\n",
    "        p2[u'{1}|{0}'.format(*w)] = ngram_counts[2][w] / prefix_counts[2][pre_w]\n",
    "    return p2"
   ]
  },
  {
   "cell_type": "code",
   "execution_count": 10,
   "metadata": {},
   "outputs": [
    {
     "data": {
      "text/plain": [
       "{'SOS|SOS': 0.5, 'А|SOS': 0.5, 'Б|А': 1.0, 'А|Б': 0.99, 'EOS|Б': 0.01}"
      ]
     },
     "execution_count": 10,
     "metadata": {},
     "output_type": "execute_result"
    }
   ],
   "source": [
    "p2 = bigram_probas(ngram_counts, prefix_counts)\n",
    "p2"
   ]
  },
  {
   "cell_type": "markdown",
   "metadata": {},
   "source": [
    "$\\hat p_{i, i - 1, i - 2} = \\hat p(w_i|w_{i - 1}, w_{i - 2})$"
   ]
  },
  {
   "cell_type": "code",
   "execution_count": 11,
   "metadata": {},
   "outputs": [],
   "source": [
    "def trigram_probas(ngram_counts, prefix_counts):\n",
    "    p3 = {}\n",
    "    for w in ngram_counts[3]:\n",
    "        pre_w = w[:2] + tuple(['*'])\n",
    "        p3[u'{2}|{1},{0}'.format(*w)] = ngram_counts[3][w] / prefix_counts[3][pre_w]\n",
    "    return p3"
   ]
  },
  {
   "cell_type": "code",
   "execution_count": 12,
   "metadata": {},
   "outputs": [
    {
     "data": {
      "text/plain": [
       "{'А|SOS,SOS': 1.0,\n",
       " 'Б|А,SOS': 1.0,\n",
       " 'А|Б,А': 0.99,\n",
       " 'Б|А,Б': 1.0,\n",
       " 'EOS|Б,А': 0.01}"
      ]
     },
     "execution_count": 12,
     "metadata": {},
     "output_type": "execute_result"
    }
   ],
   "source": [
    "p3 =  trigram_probas(ngram_counts, prefix_counts)\n",
    "p3"
   ]
  },
  {
   "cell_type": "markdown",
   "metadata": {},
   "source": [
    "### Проверка гипотезы, что триграммную модель можно свести к биграммной против правосторонней альтернативы"
   ]
  },
  {
   "cell_type": "markdown",
   "metadata": {},
   "source": [
    "Статистика:"
   ]
  },
  {
   "cell_type": "markdown",
   "metadata": {},
   "source": [
    "$$-2 \\log (\\prod_{i, j, k = 1}^m (\\hat p_{ij} / \\hat p_{ijk})^{n_{ijk}}) = \\sum_{i, j, k}^m -2 n_{ijk} \\log \\hat p_{ij} + 2 n_{ijk} \\log \\hat p_{ijk} = \\sum_{i = 3}^N -2 \\log \\hat p_{i,i - 1} + 2 \\log \\hat p_{i, i - 1, i - 2},$$\n",
    "$$n_{ijk} = |\\{X_t: X_t = O_i, X_{t + 1} = O_j, X_{t + 2} = O_k\\}|$$"
   ]
  },
  {
   "cell_type": "code",
   "execution_count": 13,
   "metadata": {},
   "outputs": [],
   "source": [
    "def chi2_statistic(p2, p3, tokens):\n",
    "    stat2 = []\n",
    "    stat3 = []\n",
    "    n = len(tokens)\n",
    "    for i in range(n - 2):\n",
    "        w = tokens[i : i + 3]\n",
    "        ngram3 = '{2}|{1},{0}'.format(*w)\n",
    "        ngram2 = '{1}|{0}'.format(*w)\n",
    "\n",
    "        stat2.append(np.log(p2[ngram2]))\n",
    "        stat3.append(np.log(p3[ngram3]))\n",
    "    return - 2 * np.sum(stat2) + 2 * np.sum(stat3)"
   ]
  },
  {
   "cell_type": "code",
   "execution_count": 14,
   "metadata": {},
   "outputs": [],
   "source": [
    "m = len(p3)\n",
    "stat = chi2_statistic(p2, p3, tokens)"
   ]
  },
  {
   "cell_type": "code",
   "execution_count": 15,
   "metadata": {},
   "outputs": [
    {
     "name": "stdout",
     "output_type": "stream",
     "text": [
      "p-value = 1.0\n"
     ]
    }
   ],
   "source": [
    "print(f'p-value = {1 - st.distributions.chi2(m * ((m - 1) ** 2) - 1).cdf(stat)}')"
   ]
  },
  {
   "cell_type": "markdown",
   "metadata": {},
   "source": [
    "Гипотеза отвергается"
   ]
  },
  {
   "cell_type": "markdown",
   "metadata": {},
   "source": [
    "## Другой пример"
   ]
  },
  {
   "cell_type": "code",
   "execution_count": 16,
   "metadata": {},
   "outputs": [
    {
     "data": {
      "text/plain": [
       "['SOS', 'SOS', 'А', 'Б', 'Б', 'А', 'Б', 'А', 'Б', 'А']"
      ]
     },
     "execution_count": 16,
     "metadata": {},
     "output_type": "execute_result"
    }
   ],
   "source": [
    "text = 'SOS SOS ' + 'А Б Б А Б А Б А Б Б А А ' * 100\n",
    "tokens = text.split()\n",
    "tokens[:10]"
   ]
  },
  {
   "cell_type": "code",
   "execution_count": 17,
   "metadata": {},
   "outputs": [],
   "source": [
    "ngram_counts, prefix_counts = ngrams_and_prefix_counts(tokens, 3)"
   ]
  },
  {
   "cell_type": "code",
   "execution_count": 18,
   "metadata": {},
   "outputs": [
    {
     "data": {
      "text/plain": [
       "{1: Counter({('SOS',): 2, ('А',): 600, ('Б',): 600}),\n",
       " 2: Counter({('SOS', 'SOS'): 1,\n",
       "          ('SOS', 'А'): 1,\n",
       "          ('А', 'Б'): 400,\n",
       "          ('Б', 'Б'): 200,\n",
       "          ('Б', 'А'): 400,\n",
       "          ('А', 'А'): 199}),\n",
       " 3: Counter({('SOS', 'SOS', 'А'): 1,\n",
       "          ('SOS', 'А', 'Б'): 1,\n",
       "          ('А', 'Б', 'Б'): 200,\n",
       "          ('Б', 'Б', 'А'): 200,\n",
       "          ('Б', 'А', 'Б'): 300,\n",
       "          ('А', 'Б', 'А'): 200,\n",
       "          ('Б', 'А', 'А'): 100,\n",
       "          ('А', 'А', 'А'): 99,\n",
       "          ('А', 'А', 'Б'): 99})}"
      ]
     },
     "execution_count": 18,
     "metadata": {},
     "output_type": "execute_result"
    }
   ],
   "source": [
    "ngram_counts"
   ]
  },
  {
   "cell_type": "code",
   "execution_count": 19,
   "metadata": {},
   "outputs": [
    {
     "data": {
      "text/plain": [
       "{1: Counter({('*',): 1202}),\n",
       " 2: Counter({('SOS', '*'): 2, ('А', '*'): 599, ('Б', '*'): 600}),\n",
       " 3: Counter({('SOS', 'SOS', '*'): 1,\n",
       "          ('SOS', 'А', '*'): 1,\n",
       "          ('А', 'Б', '*'): 400,\n",
       "          ('Б', 'Б', '*'): 200,\n",
       "          ('Б', 'А', '*'): 400,\n",
       "          ('А', 'А', '*'): 198})}"
      ]
     },
     "execution_count": 19,
     "metadata": {},
     "output_type": "execute_result"
    }
   ],
   "source": [
    "prefix_counts"
   ]
  },
  {
   "cell_type": "code",
   "execution_count": 20,
   "metadata": {},
   "outputs": [
    {
     "data": {
      "text/plain": [
       "{('SOS',): 0.0016638935108153079,\n",
       " ('А',): 0.49916805324459235,\n",
       " ('Б',): 0.49916805324459235}"
      ]
     },
     "execution_count": 20,
     "metadata": {},
     "output_type": "execute_result"
    }
   ],
   "source": [
    "p1 = unigram_probas(ngram_counts)\n",
    "p1"
   ]
  },
  {
   "cell_type": "code",
   "execution_count": 21,
   "metadata": {},
   "outputs": [
    {
     "data": {
      "text/plain": [
       "{'SOS|SOS': 0.5,\n",
       " 'А|SOS': 0.5,\n",
       " 'Б|А': 0.667779632721202,\n",
       " 'Б|Б': 0.3333333333333333,\n",
       " 'А|Б': 0.6666666666666666,\n",
       " 'А|А': 0.332220367278798}"
      ]
     },
     "execution_count": 21,
     "metadata": {},
     "output_type": "execute_result"
    }
   ],
   "source": [
    "p2 = bigram_probas(ngram_counts, prefix_counts)\n",
    "p2"
   ]
  },
  {
   "cell_type": "code",
   "execution_count": 22,
   "metadata": {},
   "outputs": [
    {
     "data": {
      "text/plain": [
       "{'А|SOS,SOS': 1.0,\n",
       " 'Б|А,SOS': 1.0,\n",
       " 'Б|Б,А': 0.5,\n",
       " 'А|Б,Б': 1.0,\n",
       " 'Б|А,Б': 0.75,\n",
       " 'А|Б,А': 0.5,\n",
       " 'А|А,Б': 0.25,\n",
       " 'А|А,А': 0.5,\n",
       " 'Б|А,А': 0.5}"
      ]
     },
     "execution_count": 22,
     "metadata": {},
     "output_type": "execute_result"
    }
   ],
   "source": [
    "p3 =  trigram_probas(ngram_counts, prefix_counts)\n",
    "p3"
   ]
  },
  {
   "cell_type": "markdown",
   "metadata": {},
   "source": [
    "### Проверка той же гипотезы"
   ]
  },
  {
   "cell_type": "code",
   "execution_count": 23,
   "metadata": {},
   "outputs": [],
   "source": [
    "stat = chi2_statistic(p2, p3, tokens)"
   ]
  },
  {
   "cell_type": "code",
   "execution_count": 24,
   "metadata": {},
   "outputs": [
    {
     "name": "stdout",
     "output_type": "stream",
     "text": [
      "p-value = 0.0\n"
     ]
    }
   ],
   "source": [
    "print(f'p-value = {1 - st.distributions.chi2(m * ((m - 1) ** 2) - 1).cdf(stat)}')"
   ]
  },
  {
   "cell_type": "markdown",
   "metadata": {},
   "source": [
    "Гипотеза не отвергается"
   ]
  },
  {
   "cell_type": "markdown",
   "metadata": {},
   "source": [
    "### Сглаживание Лапласа"
   ]
  },
  {
   "cell_type": "code",
   "execution_count": 25,
   "metadata": {},
   "outputs": [
    {
     "data": {
      "text/plain": [
       "[('SOS', 'SOS', 'А'),\n",
       " ('SOS', 'А', 'Б'),\n",
       " ('А', 'Б', 'Б'),\n",
       " ('Б', 'Б', 'А'),\n",
       " ('Б', 'А', 'Б'),\n",
       " ('А', 'Б', 'А'),\n",
       " ('Б', 'А', 'Б'),\n",
       " ('А', 'Б', 'А'),\n",
       " ('Б', 'А', 'Б'),\n",
       " ('А', 'Б', 'Б')]"
      ]
     },
     "execution_count": 25,
     "metadata": {},
     "output_type": "execute_result"
    }
   ],
   "source": [
    "n1 = list(nltk_ngrams(tokens, 1))\n",
    "n2 = list(nltk_ngrams(tokens, 2))\n",
    "n3 = list(nltk_ngrams(tokens, 3))\n",
    "n3[:10]"
   ]
  },
  {
   "cell_type": "code",
   "execution_count": 26,
   "metadata": {},
   "outputs": [],
   "source": [
    "laplace = lm.Laplace(order=3)\n",
    "laplace.fit([n1] + [n2] + [n3], vocabulary_text=list(set(tokens)))\n",
    "regular_lm = lm.MLE(order=3)\n",
    "regular_lm.fit([n1] + [n2] + [n3], vocabulary_text=list(set(tokens)))"
   ]
  },
  {
   "cell_type": "markdown",
   "metadata": {},
   "source": [
    "#### Перплексия"
   ]
  },
  {
   "cell_type": "markdown",
   "metadata": {},
   "source": [
    "(Меньше => лучше)"
   ]
  },
  {
   "cell_type": "code",
   "execution_count": 27,
   "metadata": {},
   "outputs": [
    {
     "data": {
      "text/plain": [
       "(2.024429736885131, 2.0224364471218337)"
      ]
     },
     "execution_count": 27,
     "metadata": {},
     "output_type": "execute_result"
    }
   ],
   "source": [
    "laplace.perplexity(n1), regular_lm.perplexity(n1)"
   ]
  },
  {
   "cell_type": "code",
   "execution_count": 28,
   "metadata": {},
   "outputs": [
    {
     "data": {
      "text/plain": [
       "(1206.000000000001, inf)"
      ]
     },
     "execution_count": 28,
     "metadata": {},
     "output_type": "execute_result"
    }
   ],
   "source": [
    "foo = [('b'), ('a'), ('r')]\n",
    "laplace.perplexity(foo), regular_lm.perplexity(foo)"
   ]
  },
  {
   "cell_type": "markdown",
   "metadata": {},
   "source": [
    "#### Сглаженная по Лапласу оценка вероятности"
   ]
  },
  {
   "cell_type": "markdown",
   "metadata": {},
   "source": [
    "$$p_L(w_i) = \\frac{c_i + 1}{\\sum_{i = 1}^v c_i + v}$$\n",
    "$$p_L(w_i|w_j) = \\frac{c_{ij} + 1}{\\sum_{j=1}^v (c_{ij} + 1)} = \\frac{c_{ij} + 1}{c_i + v}$$"
   ]
  },
  {
   "cell_type": "markdown",
   "metadata": {},
   "source": [
    "$p_L('А'|'SOS')$"
   ]
  },
  {
   "cell_type": "code",
   "execution_count": 29,
   "metadata": {},
   "outputs": [
    {
     "data": {
      "text/plain": [
       "(0.3333333333333333, 0.5)"
      ]
     },
     "execution_count": 29,
     "metadata": {},
     "output_type": "execute_result"
    }
   ],
   "source": [
    "laplace.score('А', context=['SOS']), regular_lm.score('А', context=['SOS'])"
   ]
  },
  {
   "cell_type": "markdown",
   "metadata": {},
   "source": [
    "$p_L('SOS')$"
   ]
  },
  {
   "cell_type": "code",
   "execution_count": 30,
   "metadata": {},
   "outputs": [
    {
     "data": {
      "text/plain": [
       "(0.0024875621890547263, 0.0016638935108153079)"
      ]
     },
     "execution_count": 30,
     "metadata": {},
     "output_type": "execute_result"
    }
   ],
   "source": [
    "laplace.score('SOS'), regular_lm.score('SOS')"
   ]
  },
  {
   "cell_type": "markdown",
   "metadata": {},
   "source": [
    "Эти n-граммы не встречались в тексте:"
   ]
  },
  {
   "cell_type": "code",
   "execution_count": 31,
   "metadata": {},
   "outputs": [
    {
     "data": {
      "text/plain": [
       "(0.16666666666666666, 0.25, 0.0008291873963515755)"
      ]
     },
     "execution_count": 31,
     "metadata": {},
     "output_type": "execute_result"
    }
   ],
   "source": [
    "laplace.score('C', context=['SOS']), laplace.score('ыаываа', context=['B']), laplace.score('B')"
   ]
  },
  {
   "cell_type": "code",
   "execution_count": 32,
   "metadata": {},
   "outputs": [
    {
     "data": {
      "text/plain": [
       "(0.0, 0, 0.0)"
      ]
     },
     "execution_count": 32,
     "metadata": {},
     "output_type": "execute_result"
    }
   ],
   "source": [
    "regular_lm.score('C', context=['SOS']), regular_lm.score('ыаываа', context=['B']), regular_lm.score('B')"
   ]
  },
  {
   "cell_type": "markdown",
   "metadata": {},
   "source": [
    "## Генерация текста"
   ]
  },
  {
   "cell_type": "markdown",
   "metadata": {},
   "source": [
    "\"Дом, который построил Джек\""
   ]
  },
  {
   "cell_type": "code",
   "execution_count": 33,
   "metadata": {},
   "outputs": [],
   "source": [
    "from nltk.tokenize import RegexpTokenizer\n",
    "rt = RegexpTokenizer(u'\\w+')"
   ]
  },
  {
   "cell_type": "code",
   "execution_count": 34,
   "metadata": {},
   "outputs": [],
   "source": [
    "with open('jack.txt') as f:\n",
    "    text = f.read().lower()"
   ]
  },
  {
   "cell_type": "code",
   "execution_count": 35,
   "metadata": {},
   "outputs": [
    {
     "data": {
      "text/plain": [
       "(247, 57)"
      ]
     },
     "execution_count": 35,
     "metadata": {},
     "output_type": "execute_result"
    }
   ],
   "source": [
    "tokens = rt.tokenize(text)\n",
    "len(tokens), len(set(tokens))"
   ]
  },
  {
   "cell_type": "code",
   "execution_count": 36,
   "metadata": {},
   "outputs": [],
   "source": [
    "n1 = list(nltk_ngrams(tokens, 1) )\n",
    "n2 = list(nltk_ngrams(tokens, 2))\n",
    "n3 = list(nltk_ngrams(tokens, 3))"
   ]
  },
  {
   "cell_type": "code",
   "execution_count": 37,
   "metadata": {},
   "outputs": [],
   "source": [
    "laplace = lm.Laplace(order=3)\n",
    "laplace.fit([n1] + [n2] + [n3], vocabulary_text=list(set(tokens)))"
   ]
  },
  {
   "cell_type": "code",
   "execution_count": 38,
   "metadata": {},
   "outputs": [
    {
     "data": {
      "text/plain": [
       "'птица синица которая часто ворует пшеницу которая в тёмном чулане хранится в доме который построил джек а это старушка седая и строгая которая доит корову безрогую лягнувшую старого пса без хвоста который за шиворот треплет кота который пугает и ловит синицу которая часто ворует пшеницу которая в тёмном чулане хранится'"
      ]
     },
     "execution_count": 38,
     "metadata": {},
     "output_type": "execute_result"
    }
   ],
   "source": [
    "' '.join(laplace.generate(50, random_seed=42))"
   ]
  },
  {
   "cell_type": "code",
   "execution_count": 39,
   "metadata": {},
   "outputs": [
    {
     "data": {
      "text/plain": [
       "'вот два петуха которые будят того пастуха который бранится с коровницей строгою которая доит корову безрогую лягнувшую старого пса без хвоста который за шиворот треплет кота который пугает и ловит синицу которая часто ворует пшеницу которая в тёмном чулане хранится в доме который построил джек а это корова безрогая лягнувшая'"
      ]
     },
     "execution_count": 39,
     "metadata": {},
     "output_type": "execute_result"
    }
   ],
   "source": [
    "' '.join(laplace.generate(50, text_seed='вот дом который построил джек'.split()))"
   ]
  },
  {
   "cell_type": "code",
   "execution_count": 40,
   "metadata": {},
   "outputs": [
    {
     "data": {
      "text/plain": [
       "'два петуха которые будят того пастуха который бранится с коровницей строгою которая доит корову безрогую лягнувшую старого пса без хвоста который за шиворот треплет кота который пугает и ловит синицу которая часто ворует пшеницу которая в тёмном чулане хранится в доме который построил джек а это весёлая птица синица которая'"
      ]
     },
     "execution_count": 40,
     "metadata": {},
     "output_type": "execute_result"
    }
   ],
   "source": [
    "' '.join(laplace.generate(50, text_seed='привет как дела'.split()))"
   ]
  },
  {
   "cell_type": "code",
   "execution_count": null,
   "metadata": {},
   "outputs": [],
   "source": []
  }
 ],
 "metadata": {
  "kernelspec": {
   "display_name": "Python 3.6.6 (pyenv)",
   "language": "python",
   "name": "pyenv3.6.6"
  },
  "language_info": {
   "codemirror_mode": {
    "name": "ipython",
    "version": 3
   },
   "file_extension": ".py",
   "mimetype": "text/x-python",
   "name": "python",
   "nbconvert_exporter": "python",
   "pygments_lexer": "ipython3",
   "version": "3.6.6"
  }
 },
 "nbformat": 4,
 "nbformat_minor": 4
}
