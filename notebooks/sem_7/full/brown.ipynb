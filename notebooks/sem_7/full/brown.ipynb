{
 "cells": [
  {
   "cell_type": "markdown",
   "metadata": {},
   "source": [
    "# Скрытая марковская модель"
   ]
  },
  {
   "cell_type": "markdown",
   "metadata": {},
   "source": [
    "В данной работе будет рассмотрена скрытая марковская модель или hidden markov model (HMM) для задачи определения, является ли буква гласной или нет."
   ]
  },
  {
   "cell_type": "markdown",
   "metadata": {},
   "source": [
    "## Импорты, загрузка и подготовка данных"
   ]
  },
  {
   "cell_type": "code",
   "execution_count": 1,
   "metadata": {},
   "outputs": [],
   "source": [
    "import re\n",
    "\n",
    "import numpy as np\n",
    "import nltk\n",
    "from nltk.tag import hmm\n",
    "from nltk.corpus import brown\n",
    "import pandas as pd"
   ]
  },
  {
   "cell_type": "code",
   "execution_count": 2,
   "metadata": {},
   "outputs": [
    {
     "name": "stderr",
     "output_type": "stream",
     "text": [
      "[nltk_data] Downloading package brown to /home/twlvth/nltk_data...\n",
      "[nltk_data]   Unzipping corpora/brown.zip.\n"
     ]
    }
   ],
   "source": [
    "nltk.download('brown')\n",
    "english = re.compile('^[a-z]+$')"
   ]
  },
  {
   "cell_type": "markdown",
   "metadata": {},
   "source": [
    "Каждый токен переводим в нижний регистр, оставляем только токены в латинице "
   ]
  },
  {
   "cell_type": "code",
   "execution_count": 3,
   "metadata": {},
   "outputs": [
    {
     "name": "stdout",
     "output_type": "stream",
     "text": [
      "Number of tokens: 981716\n"
     ]
    }
   ],
   "source": [
    "tokens = []\n",
    "for sent in brown.sents():\n",
    "    for w in sent:\n",
    "        w = w.lower()\n",
    "        if english.match(w):\n",
    "                tokens.append(w)\n",
    "print(f'Number of tokens: {len(tokens)}')"
   ]
  },
  {
   "cell_type": "code",
   "execution_count": 4,
   "metadata": {},
   "outputs": [
    {
     "data": {
      "text/plain": [
       "(5579335,\n",
       " 'the fulton county grand jury said friday an investigation of recent primary election produced no evi')"
      ]
     },
     "execution_count": 4,
     "metadata": {},
     "output_type": "execute_result"
    }
   ],
   "source": [
    "text = ' '.join(tokens)\n",
    "len(text), text[:100]"
   ]
  },
  {
   "cell_type": "markdown",
   "metadata": {},
   "source": [
    "## Unsupervised обучение скрытой марковской модели (Алгоритм Баума-Велша)"
   ]
  },
  {
   "cell_type": "markdown",
   "metadata": {},
   "source": [
    "Извлечем \"словарь\" - множество всех букв"
   ]
  },
  {
   "cell_type": "code",
   "execution_count": 5,
   "metadata": {},
   "outputs": [
    {
     "data": {
      "text/plain": [
       "27"
      ]
     },
     "execution_count": 5,
     "metadata": {},
     "output_type": "execute_result"
    }
   ],
   "source": [
    "vocab = sorted(list(set(text)))\n",
    "len(vocab)"
   ]
  },
  {
   "cell_type": "markdown",
   "metadata": {},
   "source": [
    "Обучение"
   ]
  },
  {
   "cell_type": "code",
   "execution_count": 6,
   "metadata": {},
   "outputs": [],
   "source": [
    "trainer = hmm.HiddenMarkovModelTrainer(range(2), vocab)"
   ]
  },
  {
   "cell_type": "code",
   "execution_count": 7,
   "metadata": {},
   "outputs": [
    {
     "name": "stdout",
     "output_type": "stream",
     "text": [
      "iteration 0 logprob -245753.192254148\n",
      "iteration 1 logprob -205572.80184320567\n",
      "iteration 2 logprob -205474.42046654748\n",
      "iteration 3 logprob -205398.91249035764\n",
      "iteration 4 logprob -205335.90739825784\n",
      "iteration 5 logprob -205279.1175605272\n",
      "iteration 6 logprob -205224.5351019055\n",
      "iteration 7 logprob -205169.6013560973\n",
      "iteration 8 logprob -205112.80920344943\n",
      "iteration 9 logprob -205053.49705048298\n",
      "iteration 10 logprob -204991.71232615146\n",
      "iteration 11 logprob -204928.0813018238\n",
      "iteration 12 logprob -204863.65900253117\n",
      "iteration 13 logprob -204799.75797225125\n",
      "iteration 14 logprob -204737.77034030575\n",
      "iteration 15 logprob -204679.0069611271\n",
      "iteration 16 logprob -204624.5797564362\n",
      "iteration 17 logprob -204575.3400475508\n",
      "iteration 18 logprob -204531.8546765011\n",
      "iteration 19 logprob -204494.3832365968\n",
      "iteration 20 logprob -204462.84901943678\n",
      "iteration 21 logprob -204436.84423482\n",
      "iteration 22 logprob -204415.70614163717\n",
      "iteration 23 logprob -204398.64542127788\n",
      "iteration 24 logprob -204384.87232856566\n",
      "iteration 25 logprob -204373.68098228407\n",
      "iteration 26 logprob -204364.4857289598\n",
      "iteration 27 logprob -204356.82352460155\n",
      "iteration 28 logprob -204350.33904935126\n",
      "iteration 29 logprob -204344.76428654263\n",
      "iteration 30 logprob -204339.89872847038\n",
      "iteration 31 logprob -204335.59266437212\n",
      "iteration 32 logprob -204331.73401612832\n",
      "iteration 33 logprob -204328.23837284418\n",
      "iteration 34 logprob -204325.04162321484\n",
      "iteration 35 logprob -204322.09456820285\n",
      "iteration 36 logprob -204319.3590080391\n",
      "iteration 37 logprob -204316.80490929188\n",
      "iteration 38 logprob -204314.40834774004\n",
      "iteration 39 logprob -204312.15000898627\n",
      "iteration 40 logprob -204310.0140906728\n",
      "iteration 41 logprob -204307.98749462745\n",
      "iteration 42 logprob -204306.05922772342\n",
      "iteration 43 logprob -204304.219950154\n",
      "iteration 44 logprob -204302.46163914131\n",
      "iteration 45 logprob -204300.7773271804\n",
      "iteration 46 logprob -204299.16090547282\n",
      "iteration 47 logprob -204297.60697203004\n",
      "iteration 48 logprob -204296.1107083409\n",
      "iteration 49 logprob -204294.66778638161\n"
     ]
    }
   ],
   "source": [
    "tagger = trainer.train_unsupervised([text[:50000]], max_iterations=50)"
   ]
  },
  {
   "cell_type": "markdown",
   "metadata": {},
   "source": [
    "### Исследуем полученную модель"
   ]
  },
  {
   "cell_type": "markdown",
   "metadata": {},
   "source": [
    "Матрица переходов $\\{a_{ij} = p(s_j|s_i)\\}_{i,j = 1}^{|S|}$"
   ]
  },
  {
   "cell_type": "code",
   "execution_count": 8,
   "metadata": {},
   "outputs": [
    {
     "data": {
      "text/html": [
       "<div>\n",
       "<style scoped>\n",
       "    .dataframe tbody tr th:only-of-type {\n",
       "        vertical-align: middle;\n",
       "    }\n",
       "\n",
       "    .dataframe tbody tr th {\n",
       "        vertical-align: top;\n",
       "    }\n",
       "\n",
       "    .dataframe thead th {\n",
       "        text-align: right;\n",
       "    }\n",
       "</style>\n",
       "<table border=\"1\" class=\"dataframe\">\n",
       "  <thead>\n",
       "    <tr style=\"text-align: right;\">\n",
       "      <th></th>\n",
       "      <th>0</th>\n",
       "      <th>1</th>\n",
       "    </tr>\n",
       "  </thead>\n",
       "  <tbody>\n",
       "    <tr>\n",
       "      <th>0</th>\n",
       "      <td>0.766817</td>\n",
       "      <td>0.233183</td>\n",
       "    </tr>\n",
       "    <tr>\n",
       "      <th>1</th>\n",
       "      <td>0.379457</td>\n",
       "      <td>0.620543</td>\n",
       "    </tr>\n",
       "  </tbody>\n",
       "</table>\n",
       "</div>"
      ],
      "text/plain": [
       "          0         1\n",
       "0  0.766817  0.233183\n",
       "1  0.379457  0.620543"
      ]
     },
     "execution_count": 8,
     "metadata": {},
     "output_type": "execute_result"
    }
   ],
   "source": [
    "trans_matr = pd.DataFrame(data=np.array([\n",
    "    [2 ** log_p for log_p in tagger._transitions[0]._data],\n",
    "    [2 ** log_p for log_p in tagger._transitions[1]._data]\n",
    "]),\n",
    "                         columns=[0, 1],\n",
    "                         index=[0, 1])\n",
    "trans_matr"
   ]
  },
  {
   "cell_type": "code",
   "execution_count": 9,
   "metadata": {},
   "outputs": [
    {
     "data": {
      "text/plain": [
       "0    1.0\n",
       "1    1.0\n",
       "dtype: float64"
      ]
     },
     "execution_count": 9,
     "metadata": {},
     "output_type": "execute_result"
    }
   ],
   "source": [
    "trans_matr.sum(axis=1)"
   ]
  },
  {
   "cell_type": "markdown",
   "metadata": {},
   "source": [
    "Матрица выходных вероятностей $\\{ b_{ij} = p(x_j|s_i) \\}_{i, j = 1}^{|S|, |X|}$"
   ]
  },
  {
   "cell_type": "code",
   "execution_count": 10,
   "metadata": {},
   "outputs": [
    {
     "data": {
      "text/html": [
       "<div>\n",
       "<style scoped>\n",
       "    .dataframe tbody tr th:only-of-type {\n",
       "        vertical-align: middle;\n",
       "    }\n",
       "\n",
       "    .dataframe tbody tr th {\n",
       "        vertical-align: top;\n",
       "    }\n",
       "\n",
       "    .dataframe thead th {\n",
       "        text-align: right;\n",
       "    }\n",
       "</style>\n",
       "<table border=\"1\" class=\"dataframe\">\n",
       "  <thead>\n",
       "    <tr style=\"text-align: right;\">\n",
       "      <th></th>\n",
       "      <th></th>\n",
       "      <th>a</th>\n",
       "      <th>b</th>\n",
       "      <th>c</th>\n",
       "      <th>d</th>\n",
       "      <th>e</th>\n",
       "      <th>f</th>\n",
       "      <th>g</th>\n",
       "      <th>h</th>\n",
       "      <th>i</th>\n",
       "      <th>...</th>\n",
       "      <th>q</th>\n",
       "      <th>r</th>\n",
       "      <th>s</th>\n",
       "      <th>t</th>\n",
       "      <th>u</th>\n",
       "      <th>v</th>\n",
       "      <th>w</th>\n",
       "      <th>x</th>\n",
       "      <th>y</th>\n",
       "      <th>z</th>\n",
       "    </tr>\n",
       "  </thead>\n",
       "  <tbody>\n",
       "    <tr>\n",
       "      <th>0</th>\n",
       "      <td>0.191898</td>\n",
       "      <td>0.083814</td>\n",
       "      <td>0.009678</td>\n",
       "      <td>0.026559</td>\n",
       "      <td>0.049537</td>\n",
       "      <td>0.152913</td>\n",
       "      <td>3.088636e-08</td>\n",
       "      <td>0.008149</td>\n",
       "      <td>6.148013e-02</td>\n",
       "      <td>0.050879</td>\n",
       "      <td>...</td>\n",
       "      <td>2.737425e-13</td>\n",
       "      <td>0.039770</td>\n",
       "      <td>0.082238</td>\n",
       "      <td>0.116546</td>\n",
       "      <td>0.000232</td>\n",
       "      <td>0.008488</td>\n",
       "      <td>0.015652</td>\n",
       "      <td>3.616430e-03</td>\n",
       "      <td>0.019588</td>\n",
       "      <td>0.000967</td>\n",
       "    </tr>\n",
       "    <tr>\n",
       "      <th>1</th>\n",
       "      <td>0.126219</td>\n",
       "      <td>0.043683</td>\n",
       "      <td>0.014885</td>\n",
       "      <td>0.033339</td>\n",
       "      <td>0.011817</td>\n",
       "      <td>0.028238</td>\n",
       "      <td>4.808024e-02</td>\n",
       "      <td>0.024572</td>\n",
       "      <td>8.189423e-08</td>\n",
       "      <td>0.076839</td>\n",
       "      <td>...</td>\n",
       "      <td>2.101871e-03</td>\n",
       "      <td>0.069643</td>\n",
       "      <td>0.012672</td>\n",
       "      <td>0.019635</td>\n",
       "      <td>0.057792</td>\n",
       "      <td>0.008256</td>\n",
       "      <td>0.005636</td>\n",
       "      <td>8.331189e-08</td>\n",
       "      <td>0.002962</td>\n",
       "      <td>0.000004</td>\n",
       "    </tr>\n",
       "  </tbody>\n",
       "</table>\n",
       "<p>2 rows × 27 columns</p>\n",
       "</div>"
      ],
      "text/plain": [
       "                    a         b         c         d         e             f  \\\n",
       "0  0.191898  0.083814  0.009678  0.026559  0.049537  0.152913  3.088636e-08   \n",
       "1  0.126219  0.043683  0.014885  0.033339  0.011817  0.028238  4.808024e-02   \n",
       "\n",
       "          g             h         i  ...             q         r         s  \\\n",
       "0  0.008149  6.148013e-02  0.050879  ...  2.737425e-13  0.039770  0.082238   \n",
       "1  0.024572  8.189423e-08  0.076839  ...  2.101871e-03  0.069643  0.012672   \n",
       "\n",
       "          t         u         v         w             x         y         z  \n",
       "0  0.116546  0.000232  0.008488  0.015652  3.616430e-03  0.019588  0.000967  \n",
       "1  0.019635  0.057792  0.008256  0.005636  8.331189e-08  0.002962  0.000004  \n",
       "\n",
       "[2 rows x 27 columns]"
      ]
     },
     "execution_count": 10,
     "metadata": {},
     "output_type": "execute_result"
    }
   ],
   "source": [
    "out_matr = pd.DataFrame(data=np.array([\n",
    "    [2 ** log_p for log_p in tagger._outputs[0]._data],\n",
    "    [2 ** log_p for log_p in tagger._outputs[1]._data]\n",
    "]),\n",
    "                        index=[0, 1],\n",
    "                        columns=vocab)\n",
    "out_matr"
   ]
  },
  {
   "cell_type": "code",
   "execution_count": 11,
   "metadata": {},
   "outputs": [
    {
     "data": {
      "text/plain": [
       "0    1.0\n",
       "1    1.0\n",
       "dtype: float64"
      ]
     },
     "execution_count": 11,
     "metadata": {},
     "output_type": "execute_result"
    }
   ],
   "source": [
    "out_matr.sum(axis=1)"
   ]
  },
  {
   "cell_type": "markdown",
   "metadata": {},
   "source": [
    "## Supervised обучение скрытой марковской модели (максимум правдоподобия)"
   ]
  },
  {
   "cell_type": "code",
   "execution_count": 12,
   "metadata": {},
   "outputs": [],
   "source": [
    "def make_tag(c):\n",
    "    if c in 'aeiou':\n",
    "        return (c,'1')\n",
    "    else:\n",
    "        return (c,'0')\n",
    "supervised = [make_tag(c) for c in text]"
   ]
  },
  {
   "cell_type": "code",
   "execution_count": 13,
   "metadata": {},
   "outputs": [],
   "source": [
    "tagger = trainer.train_supervised([supervised[:500]])"
   ]
  },
  {
   "cell_type": "markdown",
   "metadata": {},
   "source": [
    "### Исследуем полученную модель"
   ]
  },
  {
   "cell_type": "markdown",
   "metadata": {},
   "source": [
    "Частоты совстречаемостей тегов"
   ]
  },
  {
   "cell_type": "code",
   "execution_count": 14,
   "metadata": {},
   "outputs": [
    {
     "name": "stdout",
     "output_type": "stream",
     "text": [
      "0 {'_freqdist': FreqDist({'0': 199, '1': 142})}\n",
      "1 {'_freqdist': FreqDist({'0': 142, '1': 16})}\n"
     ]
    }
   ],
   "source": [
    "for t in tagger._transitions:\n",
    "    print(t, tagger._transitions[t].__dict__)"
   ]
  },
  {
   "cell_type": "markdown",
   "metadata": {},
   "source": [
    "Матрица переходов $\\{a_{ij} = p(s_j|s_i)\\}_{i,j = 1}^{|S|}$"
   ]
  },
  {
   "cell_type": "code",
   "execution_count": 15,
   "metadata": {},
   "outputs": [
    {
     "data": {
      "text/html": [
       "<div>\n",
       "<style scoped>\n",
       "    .dataframe tbody tr th:only-of-type {\n",
       "        vertical-align: middle;\n",
       "    }\n",
       "\n",
       "    .dataframe tbody tr th {\n",
       "        vertical-align: top;\n",
       "    }\n",
       "\n",
       "    .dataframe thead th {\n",
       "        text-align: right;\n",
       "    }\n",
       "</style>\n",
       "<table border=\"1\" class=\"dataframe\">\n",
       "  <thead>\n",
       "    <tr style=\"text-align: right;\">\n",
       "      <th></th>\n",
       "      <th>0</th>\n",
       "      <th>1</th>\n",
       "    </tr>\n",
       "  </thead>\n",
       "  <tbody>\n",
       "    <tr>\n",
       "      <th>0</th>\n",
       "      <td>0.583578</td>\n",
       "      <td>0.416422</td>\n",
       "    </tr>\n",
       "    <tr>\n",
       "      <th>1</th>\n",
       "      <td>0.898734</td>\n",
       "      <td>0.101266</td>\n",
       "    </tr>\n",
       "  </tbody>\n",
       "</table>\n",
       "</div>"
      ],
      "text/plain": [
       "          0         1\n",
       "0  0.583578  0.416422\n",
       "1  0.898734  0.101266"
      ]
     },
     "execution_count": 15,
     "metadata": {},
     "output_type": "execute_result"
    }
   ],
   "source": [
    "trans_matr = pd.DataFrame(data=np.array([\n",
    "    [tagger._transitions['0'].prob('0'), tagger._transitions['0'].prob('1')],\n",
    "    [tagger._transitions['1'].prob('0'), tagger._transitions['1'].prob('1')]\n",
    "]),\n",
    "                         columns=[0, 1],\n",
    "                         index=[0, 1])\n",
    "trans_matr"
   ]
  },
  {
   "cell_type": "code",
   "execution_count": 16,
   "metadata": {},
   "outputs": [
    {
     "data": {
      "text/plain": [
       "0    1.0\n",
       "1    1.0\n",
       "dtype: float64"
      ]
     },
     "execution_count": 16,
     "metadata": {},
     "output_type": "execute_result"
    }
   ],
   "source": [
    "trans_matr.sum(axis=1)"
   ]
  },
  {
   "cell_type": "markdown",
   "metadata": {},
   "source": [
    "Матрица выходных вероятностей $\\{ b_{ij} = p(x_j|s_i) \\}_{i, j = 1}^{|S|, |X|}$"
   ]
  },
  {
   "cell_type": "code",
   "execution_count": 17,
   "metadata": {},
   "outputs": [
    {
     "data": {
      "text/html": [
       "<div>\n",
       "<style scoped>\n",
       "    .dataframe tbody tr th:only-of-type {\n",
       "        vertical-align: middle;\n",
       "    }\n",
       "\n",
       "    .dataframe tbody tr th {\n",
       "        vertical-align: top;\n",
       "    }\n",
       "\n",
       "    .dataframe thead th {\n",
       "        text-align: right;\n",
       "    }\n",
       "</style>\n",
       "<table border=\"1\" class=\"dataframe\">\n",
       "  <thead>\n",
       "    <tr style=\"text-align: right;\">\n",
       "      <th></th>\n",
       "      <th></th>\n",
       "      <th>a</th>\n",
       "      <th>b</th>\n",
       "      <th>c</th>\n",
       "      <th>d</th>\n",
       "      <th>e</th>\n",
       "      <th>f</th>\n",
       "      <th>g</th>\n",
       "      <th>h</th>\n",
       "      <th>i</th>\n",
       "      <th>...</th>\n",
       "      <th>q</th>\n",
       "      <th>r</th>\n",
       "      <th>s</th>\n",
       "      <th>t</th>\n",
       "      <th>u</th>\n",
       "      <th>v</th>\n",
       "      <th>w</th>\n",
       "      <th>x</th>\n",
       "      <th>y</th>\n",
       "      <th>z</th>\n",
       "    </tr>\n",
       "  </thead>\n",
       "  <tbody>\n",
       "    <tr>\n",
       "      <th>0</th>\n",
       "      <td>0.236842</td>\n",
       "      <td>0.000000</td>\n",
       "      <td>0.008772</td>\n",
       "      <td>0.05848</td>\n",
       "      <td>0.049708</td>\n",
       "      <td>0.000000</td>\n",
       "      <td>0.02924</td>\n",
       "      <td>0.023392</td>\n",
       "      <td>0.070175</td>\n",
       "      <td>0.000000</td>\n",
       "      <td>...</td>\n",
       "      <td>0.0</td>\n",
       "      <td>0.096491</td>\n",
       "      <td>0.052632</td>\n",
       "      <td>0.128655</td>\n",
       "      <td>0.000000</td>\n",
       "      <td>0.01462</td>\n",
       "      <td>0.017544</td>\n",
       "      <td>0.002924</td>\n",
       "      <td>0.035088</td>\n",
       "      <td>0.0</td>\n",
       "    </tr>\n",
       "    <tr>\n",
       "      <th>1</th>\n",
       "      <td>0.000000</td>\n",
       "      <td>0.177215</td>\n",
       "      <td>0.000000</td>\n",
       "      <td>0.00000</td>\n",
       "      <td>0.000000</td>\n",
       "      <td>0.348101</td>\n",
       "      <td>0.00000</td>\n",
       "      <td>0.000000</td>\n",
       "      <td>0.000000</td>\n",
       "      <td>0.208861</td>\n",
       "      <td>...</td>\n",
       "      <td>0.0</td>\n",
       "      <td>0.000000</td>\n",
       "      <td>0.000000</td>\n",
       "      <td>0.000000</td>\n",
       "      <td>0.101266</td>\n",
       "      <td>0.00000</td>\n",
       "      <td>0.000000</td>\n",
       "      <td>0.000000</td>\n",
       "      <td>0.000000</td>\n",
       "      <td>0.0</td>\n",
       "    </tr>\n",
       "  </tbody>\n",
       "</table>\n",
       "<p>2 rows × 27 columns</p>\n",
       "</div>"
      ],
      "text/plain": [
       "                    a         b        c         d         e        f  \\\n",
       "0  0.236842  0.000000  0.008772  0.05848  0.049708  0.000000  0.02924   \n",
       "1  0.000000  0.177215  0.000000  0.00000  0.000000  0.348101  0.00000   \n",
       "\n",
       "          g         h         i  ...    q         r         s         t  \\\n",
       "0  0.023392  0.070175  0.000000  ...  0.0  0.096491  0.052632  0.128655   \n",
       "1  0.000000  0.000000  0.208861  ...  0.0  0.000000  0.000000  0.000000   \n",
       "\n",
       "          u        v         w         x         y    z  \n",
       "0  0.000000  0.01462  0.017544  0.002924  0.035088  0.0  \n",
       "1  0.101266  0.00000  0.000000  0.000000  0.000000  0.0  \n",
       "\n",
       "[2 rows x 27 columns]"
      ]
     },
     "execution_count": 17,
     "metadata": {},
     "output_type": "execute_result"
    }
   ],
   "source": [
    "out_matr = pd.DataFrame(data=np.array([\n",
    "    [tagger._outputs['0'].prob(c) for c in vocab],\n",
    "    [tagger._outputs['1'].prob(c) for c in vocab]\n",
    "]),\n",
    "                        index=[0, 1],\n",
    "                        columns=vocab)\n",
    "out_matr"
   ]
  },
  {
   "cell_type": "code",
   "execution_count": 18,
   "metadata": {},
   "outputs": [
    {
     "data": {
      "text/plain": [
       "0    1.0\n",
       "1    1.0\n",
       "dtype: float64"
      ]
     },
     "execution_count": 18,
     "metadata": {},
     "output_type": "execute_result"
    }
   ],
   "source": [
    "out_matr.sum(axis=1)"
   ]
  }
 ],
 "metadata": {
  "kernelspec": {
   "display_name": "Python 3.6.6 (pyenv)",
   "language": "python",
   "name": "pyenv3.6.6"
  },
  "language_info": {
   "codemirror_mode": {
    "name": "ipython",
    "version": 3
   },
   "file_extension": ".py",
   "mimetype": "text/x-python",
   "name": "python",
   "nbconvert_exporter": "python",
   "pygments_lexer": "ipython3",
   "version": "3.6.6"
  }
 },
 "nbformat": 4,
 "nbformat_minor": 4
}
