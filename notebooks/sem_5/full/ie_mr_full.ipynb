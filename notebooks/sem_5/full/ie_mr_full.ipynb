{
 "cells": [
  {
   "cell_type": "markdown",
   "metadata": {},
   "source": [
    "# IE vs Murders Rate\n",
    "\n",
    "**Disclaimer: пример выдуман, данных нет. Ноутбук приведен для наглядности.**"
   ]
  },
  {
   "cell_type": "markdown",
   "metadata": {},
   "source": [
    "# Вариант 1\n",
    "Пусть число убийств и процент пользователей Internet Explorer линейно зависят от года:"
   ]
  },
  {
   "cell_type": "code",
   "execution_count": null,
   "metadata": {},
   "outputs": [],
   "source": [
    "import numpy as np\n",
    "import scipy.stats as st\n",
    "import matplotlib.pylab as plt\n",
    "_ = plt.xkcd()"
   ]
  },
  {
   "cell_type": "code",
   "execution_count": null,
   "metadata": {},
   "outputs": [],
   "source": [
    "rs = np.random.RandomState(0)\n",
    "years = np.arange(2006, 2012)\n",
    "ie_users = -0.075 *  years + 151.25 + rs.uniform(size=years.shape[0])*0.1\n",
    "ie_users\n"
   ]
  },
  {
   "cell_type": "code",
   "execution_count": null,
   "metadata": {},
   "outputs": [],
   "source": [
    "rs = np.random.RandomState(0)\n",
    "murder_num = -0.075 *  years + 151. + rs.uniform(size=years.shape[0])*0.1\n",
    "murder_num"
   ]
  },
  {
   "cell_type": "code",
   "execution_count": null,
   "metadata": {},
   "outputs": [],
   "source": [
    "plt.bar(years, ie_users, color='g')\n",
    "plt.plot(years, murder_num, c='b')\n",
    "\n",
    "plt.show()"
   ]
  },
  {
   "cell_type": "code",
   "execution_count": null,
   "metadata": {},
   "outputs": [],
   "source": [
    "r12 = st.pearsonr(ie_users, murder_num)[0]\n",
    "r12"
   ]
  },
  {
   "cell_type": "code",
   "execution_count": null,
   "metadata": {},
   "outputs": [],
   "source": [
    "r13 = st.pearsonr(ie_users, years)[0]\n",
    "r13"
   ]
  },
  {
   "cell_type": "code",
   "execution_count": null,
   "metadata": {},
   "outputs": [],
   "source": [
    "r23 = st.pearsonr(murder_num, years)[0]\n",
    "r23"
   ]
  },
  {
   "cell_type": "markdown",
   "metadata": {},
   "source": [
    "## Условная корреляция\n",
    "$$r_{1,2|3} = \\frac{r_{1, 2} - r_{1, 3}*r_{2, 3}}{\\sqrt[]{(1-r_{1, 3}^2)(1-r_{2, 3}^2)}}$$"
   ]
  },
  {
   "cell_type": "code",
   "execution_count": null,
   "metadata": {},
   "outputs": [],
   "source": [
    "(r12 - r13 * r23)/np.sqrt((1 - r13**2)*(1 - r23**2)) ### Ваш код 1,2|3"
   ]
  },
  {
   "cell_type": "markdown",
   "metadata": {},
   "source": [
    "# Вариант 2\n",
    "Оба показателя линейно зависят от числа компьютеров в мире.\n",
    "Число компьютеров зависит от года."
   ]
  },
  {
   "cell_type": "code",
   "execution_count": null,
   "metadata": {},
   "outputs": [],
   "source": [
    "rs = np.random.RandomState(0)\n",
    "comp_num = 10**9+np.exp(years-2006)*0.5*10**7 + rs.randint(low=0, high=10**8, size=years.shape[0])\n",
    "\n",
    "plt.plot(years, comp_num)\n",
    "plt.show()"
   ]
  },
  {
   "cell_type": "code",
   "execution_count": null,
   "metadata": {},
   "outputs": [],
   "source": [
    "rs = np.random.RandomState(0)\n",
    "ie_users =   -0.6/10**9 *  comp_num+1.4 + rs.uniform(size=years.shape[0])*0.1\n",
    "ie_users \n"
   ]
  },
  {
   "cell_type": "code",
   "execution_count": null,
   "metadata": {},
   "outputs": [],
   "source": [
    "rs = np.random.RandomState(0)\n",
    "murder_num =  -0.6/10**9 *  comp_num+1.15 + rs.uniform(size=years.shape[0])*0.1\n",
    "murder_num"
   ]
  },
  {
   "cell_type": "code",
   "execution_count": null,
   "metadata": {},
   "outputs": [],
   "source": [
    "plt.bar(years, ie_users, color='g')\n",
    "plt.plot(years, murder_num, c='b')\n",
    "\n",
    "plt.show()"
   ]
  },
  {
   "cell_type": "code",
   "execution_count": null,
   "metadata": {},
   "outputs": [],
   "source": [
    "st.pearsonr(years, ie_users)[0]"
   ]
  },
  {
   "cell_type": "code",
   "execution_count": null,
   "metadata": {},
   "outputs": [],
   "source": [
    "st.pearsonr(comp_num, ie_users)[0]"
   ]
  },
  {
   "cell_type": "code",
   "execution_count": null,
   "metadata": {},
   "outputs": [],
   "source": [
    "st.spearmanr(years, ie_users)[0]"
   ]
  },
  {
   "cell_type": "code",
   "execution_count": null,
   "metadata": {},
   "outputs": [],
   "source": [
    "st.spearmanr(comp_num, ie_users)[0]"
   ]
  },
  {
   "cell_type": "code",
   "execution_count": null,
   "metadata": {},
   "outputs": [],
   "source": [
    "r12 = st.pearsonr(ie_users, murder_num)[0]\n",
    "r12"
   ]
  },
  {
   "cell_type": "code",
   "execution_count": null,
   "metadata": {},
   "outputs": [],
   "source": [
    "r13 = st.pearsonr(murder_num, comp_num)[0]\n",
    "r13"
   ]
  },
  {
   "cell_type": "code",
   "execution_count": null,
   "metadata": {},
   "outputs": [],
   "source": [
    "r23 = st.pearsonr(ie_users, comp_num)[0]\n",
    "r23"
   ]
  },
  {
   "cell_type": "markdown",
   "metadata": {},
   "source": [
    "## Условная корреляция\n",
    "$$r_{1,2|3} = \\frac{r_{1, 2} - r_{1, 3}*r_{2, 3}}{\\sqrt[]{(1-r_{1, 3}^2)(1-r_{2, 3}^2)}}$$"
   ]
  },
  {
   "cell_type": "code",
   "execution_count": null,
   "metadata": {},
   "outputs": [],
   "source": [
    "(r12-r13*r23)/np.sqrt((1-r13**2)*(1-r23**2)) ### Ваш код 1,2|3"
   ]
  },
  {
   "cell_type": "markdown",
   "metadata": {},
   "source": [
    "# Вариант 3\n",
    "Пусть процент убийств снижается с процентом взрослого населения в стране.\n",
    "Доля IE возрастает.\n"
   ]
  },
  {
   "cell_type": "code",
   "execution_count": null,
   "metadata": {},
   "outputs": [],
   "source": [
    "rs = np.random.RandomState(0)\n",
    "adult = np.array([32,35,  38, 38, 39, 39])\n",
    "murder_num = -0.6/10**9 *  comp_num + 0.3 + rs.uniform(size=years.shape[0])*0.1 + adult/40\n",
    "murder_num"
   ]
  },
  {
   "cell_type": "code",
   "execution_count": null,
   "metadata": {},
   "outputs": [],
   "source": [
    "rs = np.random.RandomState(0)\n",
    "ie_users =  -0.6/10**9 *  comp_num+2.2 + rs.uniform(size=years.shape[0])*0.1 - adult/40\n",
    "ie_users \n"
   ]
  },
  {
   "cell_type": "code",
   "execution_count": null,
   "metadata": {},
   "outputs": [],
   "source": [
    "plt.bar(years, ie_users, color='g')\n",
    "plt.plot(years, murder_num, c='b')\n",
    "\n",
    "plt.show()"
   ]
  },
  {
   "cell_type": "code",
   "execution_count": null,
   "metadata": {},
   "outputs": [],
   "source": [
    "r12 = st.pearsonr(ie_users, murder_num)[0]\n",
    "r12"
   ]
  },
  {
   "cell_type": "code",
   "execution_count": null,
   "metadata": {},
   "outputs": [],
   "source": [
    "r13 = st.pearsonr(murder_num, comp_num)[0]\n",
    "r13"
   ]
  },
  {
   "cell_type": "code",
   "execution_count": null,
   "metadata": {},
   "outputs": [],
   "source": [
    "r23 = st.pearsonr(ie_users, comp_num)[0]\n",
    "r23"
   ]
  },
  {
   "cell_type": "markdown",
   "metadata": {},
   "source": [
    "## Условная корреляция\n",
    "$$r_{1,2|3} = \\frac{r_{1, 2} - r_{1, 3}*r_{2, 3}}{\\sqrt[]{(1-r_{1, 3}^2)(1-r_{2, 3}^2)}}$$"
   ]
  },
  {
   "cell_type": "code",
   "execution_count": null,
   "metadata": {},
   "outputs": [],
   "source": [
    "(r12 - r13*r23)/np.sqrt((1-r13**2)*(1-r23**2)) ### Ваш код 1,2|3"
   ]
  },
  {
   "cell_type": "code",
   "execution_count": null,
   "metadata": {},
   "outputs": [],
   "source": [
    "r14 = st.pearsonr(murder_num, adult)[0]\n",
    "r14"
   ]
  },
  {
   "cell_type": "code",
   "execution_count": null,
   "metadata": {},
   "outputs": [],
   "source": [
    "r24 = st.pearsonr(ie_users, adult)[0]\n",
    "r24"
   ]
  },
  {
   "cell_type": "code",
   "execution_count": null,
   "metadata": {},
   "outputs": [],
   "source": [
    "(r12 - r14*r24)/np.sqrt((1 - r14**2)*(1 - r24**2)) ### Ваш код 1,2|4"
   ]
  },
  {
   "cell_type": "markdown",
   "metadata": {},
   "source": [
    "## Условная корреляция через матрицу\n",
    "$$r_{i,j}|other= \\frac{r_{i,j}}{r_{ii}, r_{jj}}$$"
   ]
  },
  {
   "cell_type": "markdown",
   "metadata": {},
   "source": [
    "### Pearson"
   ]
  },
  {
   "cell_type": "code",
   "execution_count": null,
   "metadata": {},
   "outputs": [],
   "source": [
    "matrix = np.zeros((4,4))\n",
    "datasets = [ie_users, murder_num, comp_num, adult]\n",
    "for i in range(4):\n",
    "    for j in range(i,4):\n",
    "        matrix[i,j] = matrix[j,i] = st.pearsonr(datasets[i], datasets[j])[0] ### Ваш код тут\n",
    "matrix"
   ]
  },
  {
   "cell_type": "code",
   "execution_count": null,
   "metadata": {},
   "outputs": [],
   "source": [
    "R = np.linalg.inv(matrix)\n",
    "R"
   ]
  },
  {
   "cell_type": "code",
   "execution_count": null,
   "metadata": {},
   "outputs": [],
   "source": [
    "-R[1,0]/np.sqrt(R[0,0]*R[1,1]) ### Ваш код тут 1,0|all"
   ]
  },
  {
   "cell_type": "markdown",
   "metadata": {},
   "source": [
    "### Kendal"
   ]
  },
  {
   "cell_type": "code",
   "execution_count": null,
   "metadata": {},
   "outputs": [],
   "source": [
    "matrix = np.zeros((4,4))\n",
    "datasets = [ie_users, murder_num, comp_num, adult]\n",
    "for i in range(4):\n",
    "    for j in range(i,4):\n",
    "        matrix[i,j] = matrix[j,i] = st.kendalltau(datasets[i], datasets[j])[0] ### Ваш код тут\n",
    "matrix"
   ]
  },
  {
   "cell_type": "code",
   "execution_count": null,
   "metadata": {},
   "outputs": [],
   "source": [
    "R = np.linalg.inv(matrix)\n",
    "R"
   ]
  },
  {
   "cell_type": "code",
   "execution_count": null,
   "metadata": {},
   "outputs": [],
   "source": [
    "-R[1,0]/np.sqrt(R[0,0]*R[1,1]) ### Ваш код тут 1,0|all"
   ]
  }
 ],
 "metadata": {
  "kernelspec": {
   "display_name": "Python 3",
   "language": "python",
   "name": "python3"
  },
  "language_info": {
   "codemirror_mode": {
    "name": "ipython",
    "version": 3
   },
   "file_extension": ".py",
   "mimetype": "text/x-python",
   "name": "python",
   "nbconvert_exporter": "python",
   "pygments_lexer": "ipython3",
   "version": "3.6.2"
  }
 },
 "nbformat": 4,
 "nbformat_minor": 2
}
