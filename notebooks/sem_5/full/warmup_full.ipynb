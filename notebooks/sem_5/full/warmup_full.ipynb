{
 "cells": [
  {
   "cell_type": "code",
   "execution_count": null,
   "metadata": {},
   "outputs": [],
   "source": [
    "import numpy as np\n",
    "import scipy.stats as st\n",
    "import matplotlib.pylab as plt"
   ]
  },
  {
   "cell_type": "markdown",
   "metadata": {},
   "source": [
    "# О корреляции"
   ]
  },
  {
   "cell_type": "markdown",
   "metadata": {},
   "source": [
    "## Задача"
   ]
  },
  {
   "cell_type": "markdown",
   "metadata": {},
   "source": [
    "Рассмотрим задачу нахождения корреляции Пирсона для двух случайных величин:\n",
    "\n",
    "$X_1 \\sim \\mathcal{N}(0,1)$, $X_2 = X_1 + \\alpha\\varepsilon, \\quad \\varepsilon \\sim\\mathcal{N}(0,1)$\n",
    "\n",
    "Какова их корреляция?"
   ]
  },
  {
   "cell_type": "code",
   "execution_count": null,
   "metadata": {},
   "outputs": [],
   "source": [
    "n = 10\n",
    "\n",
    "alpha = 0.5\n",
    "data1 = np.random.randn(n)\n",
    "data2 = data1 + alpha*np.random.randn(n)\n",
    "mean1 = mean2 = 0\n",
    "disp1 = 1 ### Ваш код\n",
    "disp2 = 1 + alpha**2 ### Ваш код\n",
    "corr = 1.0/np.sqrt(disp2)\n",
    "print (corr, disp2)"
   ]
  },
  {
   "cell_type": "markdown",
   "metadata": {},
   "source": [
    "## Проверка гипотезы о независимости"
   ]
  },
  {
   "cell_type": "code",
   "execution_count": null,
   "metadata": {},
   "outputs": [],
   "source": [
    "noises = np.arange(0.5, 10.0, 0.5)\n",
    "\n",
    "for noise in noises:    \n",
    "    results_t = []\n",
    "    results_z = []\n",
    "    corr = 1.0/np.sqrt(1+noise**2)\n",
    "    for _ in range(1000):\n",
    "        data1 = np.random.randn(n)\n",
    "        data2 = data1 + noise*np.random.randn(n)\n",
    "        \n",
    "        pearson = st.pearsonr(data1, data2)[0]\n",
    "        if pearson == 1.:\n",
    "            pearson = 0.99999\n",
    "        \n",
    "        T = pearson * np.sqrt(n-2)/(np.sqrt(1 - pearson**2)) ### Ваш код\n",
    "        t_pval = 2 *(1 - st.distributions.t(n-2).cdf(abs(T)))\n",
    "\n",
    "        Z = np.arctanh(pearson)*np.sqrt(n - 3) ### Ваш код\n",
    "        z_pval = 2*(1 - st.distributions.norm.cdf(abs(Z)))\n",
    "\n",
    "        t_res = t_pval>=0.05\n",
    "        z_res = z_pval>=0.05\n",
    "        results_t.append(t_res)\n",
    "        results_z.append(z_res)\n",
    "        \n",
    "    print(noise, ':', corr, np.mean(results_t), np.mean(results_z))"
   ]
  },
  {
   "cell_type": "markdown",
   "metadata": {},
   "source": [
    "## Добавление выброса"
   ]
  },
  {
   "cell_type": "code",
   "execution_count": null,
   "metadata": {},
   "outputs": [],
   "source": [
    "n = 100000\n",
    "data1 = np.random.randn(n)\n",
    "data2 = data1 + 0.2*np.random.randn(n)\n",
    "mean1 = mean2 = 0\n",
    "disp1 = 1\n",
    "disp2 = 1+1**2\n",
    "corr = 1.0/np.sqrt(disp2)\n",
    "corr"
   ]
  },
  {
   "cell_type": "code",
   "execution_count": null,
   "metadata": {},
   "outputs": [],
   "source": [
    "data1[0] += 9999"
   ]
  },
  {
   "cell_type": "code",
   "execution_count": null,
   "metadata": {},
   "outputs": [],
   "source": [
    "st.pearsonr(data1, data2)[0]"
   ]
  },
  {
   "cell_type": "code",
   "execution_count": null,
   "metadata": {},
   "outputs": [],
   "source": [
    "st.spearmanr(data1, data2)[0]"
   ]
  },
  {
   "cell_type": "code",
   "execution_count": null,
   "metadata": {},
   "outputs": [],
   "source": [
    "st.kendalltau(data1, data2)[0]"
   ]
  },
  {
   "cell_type": "markdown",
   "metadata": {},
   "source": [
    "## Корреляция рангов"
   ]
  },
  {
   "cell_type": "markdown",
   "metadata": {},
   "source": [
    "### Ранги"
   ]
  },
  {
   "cell_type": "code",
   "execution_count": null,
   "metadata": {},
   "outputs": [],
   "source": [
    "data = [6, 1, 5, 4, 3, 2]\n",
    "st.rankdata(data)"
   ]
  },
  {
   "cell_type": "code",
   "execution_count": null,
   "metadata": {},
   "outputs": [],
   "source": [
    "np.argsort(np.argsort(data))+1 ### Ваш код"
   ]
  },
  {
   "cell_type": "markdown",
   "metadata": {},
   "source": [
    "### К задаче"
   ]
  },
  {
   "cell_type": "code",
   "execution_count": null,
   "metadata": {},
   "outputs": [],
   "source": [
    "ranks1 = st.rankdata(data1)\n",
    "ranks2 = st.rankdata(data2)"
   ]
  },
  {
   "cell_type": "code",
   "execution_count": null,
   "metadata": {},
   "outputs": [],
   "source": [
    "st.pearsonr(ranks1, ranks2)"
   ]
  }
 ],
 "metadata": {
  "kernelspec": {
   "display_name": "Python 3",
   "language": "python",
   "name": "python3"
  },
  "language_info": {
   "codemirror_mode": {
    "name": "ipython",
    "version": 3
   },
   "file_extension": ".py",
   "mimetype": "text/x-python",
   "name": "python",
   "nbconvert_exporter": "python",
   "pygments_lexer": "ipython3",
   "version": "3.6.2"
  }
 },
 "nbformat": 4,
 "nbformat_minor": 2
}
