{
 "cells": [
  {
   "cell_type": "markdown",
   "metadata": {},
   "source": [
    "# Causality"
   ]
  },
  {
   "cell_type": "markdown",
   "metadata": {},
   "source": [
    "`pip3 install -r requirements.txt (--user, если не используете виртуальное окружение)`"
   ]
  },
  {
   "cell_type": "code",
   "execution_count": 1,
   "metadata": {},
   "outputs": [],
   "source": [
    "import numpy as np\n",
    "import networkx as nx\n",
    "import matplotlib.pylab as plt\n",
    "%matplotlib inline"
   ]
  },
  {
   "cell_type": "markdown",
   "metadata": {},
   "source": [
    "## Связь в линейной регрессии"
   ]
  },
  {
   "cell_type": "markdown",
   "metadata": {},
   "source": [
    "### Fork"
   ]
  },
  {
   "cell_type": "markdown",
   "metadata": {},
   "source": [
    "Смоделируем зависимости,соответствующие типу Fork. Заметим, что здесь есть только одна переменная, которая является экзогенной (Z), то есть она не зависит ни от какой другой переменной в системе (не зависит от X, Y, эндогенных переменных).\n",
    "```\n",
    "Z->X, Z->Y, X->Y\n",
    "```"
   ]
  },
  {
   "cell_type": "markdown",
   "metadata": {},
   "source": [
    "![title](fork.png)"
   ]
  },
  {
   "cell_type": "code",
   "execution_count": 3,
   "metadata": {},
   "outputs": [],
   "source": [
    "rs = np.random.RandomState(42)\n",
    "N = 10000\n",
    "Z = rs.randn(10000)\n",
    "X = 0.5 * Z + rs.randn(10000) \n",
    "Y = 0.3 * Z + 0.4 * X + rs.randn(10000)"
   ]
  },
  {
   "cell_type": "markdown",
   "metadata": {},
   "source": [
    "Построим две регрессии Y ~ X, Y ~ Z + X. Что можно сказать о 95% доверительном интервале (confint) на коэффициент регрессии перед X в двух этих моделях?"
   ]
  },
  {
   "cell_type": "code",
   "execution_count": 4,
   "metadata": {},
   "outputs": [
    {
     "data": {
      "text/html": [
       "<table class=\"simpletable\">\n",
       "<caption>OLS Regression Results</caption>\n",
       "<tr>\n",
       "  <th>Dep. Variable:</th>            <td>y</td>        <th>  R-squared (uncentered):</th>      <td>   0.318</td> \n",
       "</tr>\n",
       "<tr>\n",
       "  <th>Model:</th>                   <td>OLS</td>       <th>  Adj. R-squared (uncentered):</th> <td>   0.318</td> \n",
       "</tr>\n",
       "<tr>\n",
       "  <th>Method:</th>             <td>Least Squares</td>  <th>  F-statistic:       </th>          <td>   2331.</td> \n",
       "</tr>\n",
       "<tr>\n",
       "  <th>Date:</th>             <td>Tue, 12 May 2020</td> <th>  Prob (F-statistic):</th>           <td>  0.00</td>  \n",
       "</tr>\n",
       "<tr>\n",
       "  <th>Time:</th>                 <td>18:12:46</td>     <th>  Log-Likelihood:    </th>          <td> -14096.</td> \n",
       "</tr>\n",
       "<tr>\n",
       "  <th>No. Observations:</th>      <td> 10000</td>      <th>  AIC:               </th>          <td>2.820e+04</td>\n",
       "</tr>\n",
       "<tr>\n",
       "  <th>Df Residuals:</th>          <td>  9998</td>      <th>  BIC:               </th>          <td>2.821e+04</td>\n",
       "</tr>\n",
       "<tr>\n",
       "  <th>Df Model:</th>              <td>     2</td>      <th>                     </th>              <td> </td>    \n",
       "</tr>\n",
       "<tr>\n",
       "  <th>Covariance Type:</th>      <td>nonrobust</td>    <th>                     </th>              <td> </td>    \n",
       "</tr>\n",
       "</table>\n",
       "<table class=\"simpletable\">\n",
       "<tr>\n",
       "   <td></td>     <th>coef</th>     <th>std err</th>      <th>t</th>      <th>P>|t|</th>  <th>[0.025</th>    <th>0.975]</th>  \n",
       "</tr>\n",
       "<tr>\n",
       "  <th>x1</th> <td>    0.4266</td> <td>    0.010</td> <td>   43.099</td> <td> 0.000</td> <td>    0.407</td> <td>    0.446</td>\n",
       "</tr>\n",
       "<tr>\n",
       "  <th>x2</th> <td>    0.3134</td> <td>    0.011</td> <td>   28.467</td> <td> 0.000</td> <td>    0.292</td> <td>    0.335</td>\n",
       "</tr>\n",
       "</table>\n",
       "<table class=\"simpletable\">\n",
       "<tr>\n",
       "  <th>Omnibus:</th>       <td> 3.320</td> <th>  Durbin-Watson:     </th> <td>   1.995</td>\n",
       "</tr>\n",
       "<tr>\n",
       "  <th>Prob(Omnibus):</th> <td> 0.190</td> <th>  Jarque-Bera (JB):  </th> <td>   3.163</td>\n",
       "</tr>\n",
       "<tr>\n",
       "  <th>Skew:</th>          <td> 0.007</td> <th>  Prob(JB):          </th> <td>   0.206</td>\n",
       "</tr>\n",
       "<tr>\n",
       "  <th>Kurtosis:</th>      <td> 2.914</td> <th>  Cond. No.          </th> <td>    1.63</td>\n",
       "</tr>\n",
       "</table><br/><br/>Warnings:<br/>[1] Standard Errors assume that the covariance matrix of the errors is correctly specified."
      ],
      "text/plain": [
       "<class 'statsmodels.iolib.summary.Summary'>\n",
       "\"\"\"\n",
       "                                 OLS Regression Results                                \n",
       "=======================================================================================\n",
       "Dep. Variable:                      y   R-squared (uncentered):                   0.318\n",
       "Model:                            OLS   Adj. R-squared (uncentered):              0.318\n",
       "Method:                 Least Squares   F-statistic:                              2331.\n",
       "Date:                Tue, 12 May 2020   Prob (F-statistic):                        0.00\n",
       "Time:                        18:12:46   Log-Likelihood:                         -14096.\n",
       "No. Observations:               10000   AIC:                                  2.820e+04\n",
       "Df Residuals:                    9998   BIC:                                  2.821e+04\n",
       "Df Model:                           2                                                  \n",
       "Covariance Type:            nonrobust                                                  \n",
       "==============================================================================\n",
       "                 coef    std err          t      P>|t|      [0.025      0.975]\n",
       "------------------------------------------------------------------------------\n",
       "x1             0.4266      0.010     43.099      0.000       0.407       0.446\n",
       "x2             0.3134      0.011     28.467      0.000       0.292       0.335\n",
       "==============================================================================\n",
       "Omnibus:                        3.320   Durbin-Watson:                   1.995\n",
       "Prob(Omnibus):                  0.190   Jarque-Bera (JB):                3.163\n",
       "Skew:                           0.007   Prob(JB):                        0.206\n",
       "Kurtosis:                       2.914   Cond. No.                         1.63\n",
       "==============================================================================\n",
       "\n",
       "Warnings:\n",
       "[1] Standard Errors assume that the covariance matrix of the errors is correctly specified.\n",
       "\"\"\""
      ]
     },
     "execution_count": 4,
     "metadata": {},
     "output_type": "execute_result"
    }
   ],
   "source": [
    "from statsmodels.regression.linear_model import OLS\n",
    "l1 = OLS(Y, np.vstack([X, Z]).T).fit()\n",
    "l1.summary()"
   ]
  },
  {
   "cell_type": "code",
   "execution_count": 5,
   "metadata": {},
   "outputs": [
    {
     "data": {
      "text/html": [
       "<table class=\"simpletable\">\n",
       "<caption>OLS Regression Results</caption>\n",
       "<tr>\n",
       "  <th>Dep. Variable:</th>            <td>y</td>        <th>  R-squared (uncentered):</th>      <td>   0.263</td> \n",
       "</tr>\n",
       "<tr>\n",
       "  <th>Model:</th>                   <td>OLS</td>       <th>  Adj. R-squared (uncentered):</th> <td>   0.263</td> \n",
       "</tr>\n",
       "<tr>\n",
       "  <th>Method:</th>             <td>Least Squares</td>  <th>  F-statistic:       </th>          <td>   3564.</td> \n",
       "</tr>\n",
       "<tr>\n",
       "  <th>Date:</th>             <td>Tue, 12 May 2020</td> <th>  Prob (F-statistic):</th>           <td>  0.00</td>  \n",
       "</tr>\n",
       "<tr>\n",
       "  <th>Time:</th>                 <td>18:12:46</td>     <th>  Log-Likelihood:    </th>          <td> -14486.</td> \n",
       "</tr>\n",
       "<tr>\n",
       "  <th>No. Observations:</th>      <td> 10000</td>      <th>  AIC:               </th>          <td>2.897e+04</td>\n",
       "</tr>\n",
       "<tr>\n",
       "  <th>Df Residuals:</th>          <td>  9999</td>      <th>  BIC:               </th>          <td>2.898e+04</td>\n",
       "</tr>\n",
       "<tr>\n",
       "  <th>Df Model:</th>              <td>     1</td>      <th>                     </th>              <td> </td>    \n",
       "</tr>\n",
       "<tr>\n",
       "  <th>Covariance Type:</th>      <td>nonrobust</td>    <th>                     </th>              <td> </td>    \n",
       "</tr>\n",
       "</table>\n",
       "<table class=\"simpletable\">\n",
       "<tr>\n",
       "   <td></td>     <th>coef</th>     <th>std err</th>      <th>t</th>      <th>P>|t|</th>  <th>[0.025</th>    <th>0.975]</th>  \n",
       "</tr>\n",
       "<tr>\n",
       "  <th>x1</th> <td>    0.5511</td> <td>    0.009</td> <td>   59.699</td> <td> 0.000</td> <td>    0.533</td> <td>    0.569</td>\n",
       "</tr>\n",
       "</table>\n",
       "<table class=\"simpletable\">\n",
       "<tr>\n",
       "  <th>Omnibus:</th>       <td> 0.062</td> <th>  Durbin-Watson:     </th> <td>   1.995</td>\n",
       "</tr>\n",
       "<tr>\n",
       "  <th>Prob(Omnibus):</th> <td> 0.969</td> <th>  Jarque-Bera (JB):  </th> <td>   0.051</td>\n",
       "</tr>\n",
       "<tr>\n",
       "  <th>Skew:</th>          <td>-0.004</td> <th>  Prob(JB):          </th> <td>   0.975</td>\n",
       "</tr>\n",
       "<tr>\n",
       "  <th>Kurtosis:</th>      <td> 3.007</td> <th>  Cond. No.          </th> <td>    1.00</td>\n",
       "</tr>\n",
       "</table><br/><br/>Warnings:<br/>[1] Standard Errors assume that the covariance matrix of the errors is correctly specified."
      ],
      "text/plain": [
       "<class 'statsmodels.iolib.summary.Summary'>\n",
       "\"\"\"\n",
       "                                 OLS Regression Results                                \n",
       "=======================================================================================\n",
       "Dep. Variable:                      y   R-squared (uncentered):                   0.263\n",
       "Model:                            OLS   Adj. R-squared (uncentered):              0.263\n",
       "Method:                 Least Squares   F-statistic:                              3564.\n",
       "Date:                Tue, 12 May 2020   Prob (F-statistic):                        0.00\n",
       "Time:                        18:12:46   Log-Likelihood:                         -14486.\n",
       "No. Observations:               10000   AIC:                                  2.897e+04\n",
       "Df Residuals:                    9999   BIC:                                  2.898e+04\n",
       "Df Model:                           1                                                  \n",
       "Covariance Type:            nonrobust                                                  \n",
       "==============================================================================\n",
       "                 coef    std err          t      P>|t|      [0.025      0.975]\n",
       "------------------------------------------------------------------------------\n",
       "x1             0.5511      0.009     59.699      0.000       0.533       0.569\n",
       "==============================================================================\n",
       "Omnibus:                        0.062   Durbin-Watson:                   1.995\n",
       "Prob(Omnibus):                  0.969   Jarque-Bera (JB):                0.051\n",
       "Skew:                          -0.004   Prob(JB):                        0.975\n",
       "Kurtosis:                       3.007   Cond. No.                         1.00\n",
       "==============================================================================\n",
       "\n",
       "Warnings:\n",
       "[1] Standard Errors assume that the covariance matrix of the errors is correctly specified.\n",
       "\"\"\""
      ]
     },
     "execution_count": 5,
     "metadata": {},
     "output_type": "execute_result"
    }
   ],
   "source": [
    "from statsmodels.regression.linear_model import OLS\n",
    "l1 = OLS(Y, np.vstack([X]).T).fit()\n",
    "l1.summary()"
   ]
  },
  {
   "cell_type": "markdown",
   "metadata": {},
   "source": [
    "### Collider"
   ]
  },
  {
   "cell_type": "markdown",
   "metadata": {},
   "source": [
    "Рассмотрим collider:\n",
    "```\n",
    "X -> Z\n",
    "X -> Y\n",
    "Y -> Z\n",
    "```"
   ]
  },
  {
   "cell_type": "markdown",
   "metadata": {},
   "source": [
    "![title](collider.png)"
   ]
  },
  {
   "cell_type": "code",
   "execution_count": 6,
   "metadata": {},
   "outputs": [],
   "source": [
    "X = rs.randn(N)\n",
    "Y = 0.7 * X + rs.randn(N)\n",
    "Z = 1.2 * X + 0.6 * Y + rs.randn(N)"
   ]
  },
  {
   "cell_type": "code",
   "execution_count": 7,
   "metadata": {},
   "outputs": [
    {
     "data": {
      "text/html": [
       "<table class=\"simpletable\">\n",
       "<caption>OLS Regression Results</caption>\n",
       "<tr>\n",
       "  <th>Dep. Variable:</th>            <td>y</td>        <th>  R-squared (uncentered):</th>      <td>   0.504</td> \n",
       "</tr>\n",
       "<tr>\n",
       "  <th>Model:</th>                   <td>OLS</td>       <th>  Adj. R-squared (uncentered):</th> <td>   0.504</td> \n",
       "</tr>\n",
       "<tr>\n",
       "  <th>Method:</th>             <td>Least Squares</td>  <th>  F-statistic:       </th>          <td>   5084.</td> \n",
       "</tr>\n",
       "<tr>\n",
       "  <th>Date:</th>             <td>Tue, 12 May 2020</td> <th>  Prob (F-statistic):</th>           <td>  0.00</td>  \n",
       "</tr>\n",
       "<tr>\n",
       "  <th>Time:</th>                 <td>18:14:20</td>     <th>  Log-Likelihood:    </th>          <td> -12730.</td> \n",
       "</tr>\n",
       "<tr>\n",
       "  <th>No. Observations:</th>      <td> 10000</td>      <th>  AIC:               </th>          <td>2.546e+04</td>\n",
       "</tr>\n",
       "<tr>\n",
       "  <th>Df Residuals:</th>          <td>  9998</td>      <th>  BIC:               </th>          <td>2.548e+04</td>\n",
       "</tr>\n",
       "<tr>\n",
       "  <th>Df Model:</th>              <td>     2</td>      <th>                     </th>              <td> </td>    \n",
       "</tr>\n",
       "<tr>\n",
       "  <th>Covariance Type:</th>      <td>nonrobust</td>    <th>                     </th>              <td> </td>    \n",
       "</tr>\n",
       "</table>\n",
       "<table class=\"simpletable\">\n",
       "<tr>\n",
       "   <td></td>     <th>coef</th>     <th>std err</th>      <th>t</th>      <th>P>|t|</th>  <th>[0.025</th>    <th>0.975]</th>  \n",
       "</tr>\n",
       "<tr>\n",
       "  <th>x1</th> <td>    0.0107</td> <td>    0.015</td> <td>    0.725</td> <td> 0.468</td> <td>   -0.018</td> <td>    0.040</td>\n",
       "</tr>\n",
       "<tr>\n",
       "  <th>x2</th> <td>    0.4311</td> <td>    0.007</td> <td>   58.298</td> <td> 0.000</td> <td>    0.417</td> <td>    0.446</td>\n",
       "</tr>\n",
       "</table>\n",
       "<table class=\"simpletable\">\n",
       "<tr>\n",
       "  <th>Omnibus:</th>       <td> 0.285</td> <th>  Durbin-Watson:     </th> <td>   2.008</td>\n",
       "</tr>\n",
       "<tr>\n",
       "  <th>Prob(Omnibus):</th> <td> 0.867</td> <th>  Jarque-Bera (JB):  </th> <td>   0.269</td>\n",
       "</tr>\n",
       "<tr>\n",
       "  <th>Skew:</th>          <td>-0.012</td> <th>  Prob(JB):          </th> <td>   0.874</td>\n",
       "</tr>\n",
       "<tr>\n",
       "  <th>Kurtosis:</th>      <td> 3.010</td> <th>  Cond. No.          </th> <td>    4.02</td>\n",
       "</tr>\n",
       "</table><br/><br/>Warnings:<br/>[1] Standard Errors assume that the covariance matrix of the errors is correctly specified."
      ],
      "text/plain": [
       "<class 'statsmodels.iolib.summary.Summary'>\n",
       "\"\"\"\n",
       "                                 OLS Regression Results                                \n",
       "=======================================================================================\n",
       "Dep. Variable:                      y   R-squared (uncentered):                   0.504\n",
       "Model:                            OLS   Adj. R-squared (uncentered):              0.504\n",
       "Method:                 Least Squares   F-statistic:                              5084.\n",
       "Date:                Tue, 12 May 2020   Prob (F-statistic):                        0.00\n",
       "Time:                        18:14:20   Log-Likelihood:                         -12730.\n",
       "No. Observations:               10000   AIC:                                  2.546e+04\n",
       "Df Residuals:                    9998   BIC:                                  2.548e+04\n",
       "Df Model:                           2                                                  \n",
       "Covariance Type:            nonrobust                                                  \n",
       "==============================================================================\n",
       "                 coef    std err          t      P>|t|      [0.025      0.975]\n",
       "------------------------------------------------------------------------------\n",
       "x1             0.0107      0.015      0.725      0.468      -0.018       0.040\n",
       "x2             0.4311      0.007     58.298      0.000       0.417       0.446\n",
       "==============================================================================\n",
       "Omnibus:                        0.285   Durbin-Watson:                   2.008\n",
       "Prob(Omnibus):                  0.867   Jarque-Bera (JB):                0.269\n",
       "Skew:                          -0.012   Prob(JB):                        0.874\n",
       "Kurtosis:                       3.010   Cond. No.                         4.02\n",
       "==============================================================================\n",
       "\n",
       "Warnings:\n",
       "[1] Standard Errors assume that the covariance matrix of the errors is correctly specified.\n",
       "\"\"\""
      ]
     },
     "execution_count": 7,
     "metadata": {},
     "output_type": "execute_result"
    }
   ],
   "source": [
    "from statsmodels.regression.linear_model import OLS\n",
    "l1 = OLS(Y, np.vstack([X, Z]).T).fit()\n",
    "l1.summary()"
   ]
  },
  {
   "cell_type": "code",
   "execution_count": 8,
   "metadata": {},
   "outputs": [
    {
     "data": {
      "text/html": [
       "<table class=\"simpletable\">\n",
       "<caption>OLS Regression Results</caption>\n",
       "<tr>\n",
       "  <th>Dep. Variable:</th>            <td>y</td>        <th>  R-squared (uncentered):</th>      <td>   0.336</td> \n",
       "</tr>\n",
       "<tr>\n",
       "  <th>Model:</th>                   <td>OLS</td>       <th>  Adj. R-squared (uncentered):</th> <td>   0.336</td> \n",
       "</tr>\n",
       "<tr>\n",
       "  <th>Method:</th>             <td>Least Squares</td>  <th>  F-statistic:       </th>          <td>   5053.</td> \n",
       "</tr>\n",
       "<tr>\n",
       "  <th>Date:</th>             <td>Tue, 12 May 2020</td> <th>  Prob (F-statistic):</th>           <td>  0.00</td>  \n",
       "</tr>\n",
       "<tr>\n",
       "  <th>Time:</th>                 <td>18:15:08</td>     <th>  Log-Likelihood:    </th>          <td> -14193.</td> \n",
       "</tr>\n",
       "<tr>\n",
       "  <th>No. Observations:</th>      <td> 10000</td>      <th>  AIC:               </th>          <td>2.839e+04</td>\n",
       "</tr>\n",
       "<tr>\n",
       "  <th>Df Residuals:</th>          <td>  9999</td>      <th>  BIC:               </th>          <td>2.839e+04</td>\n",
       "</tr>\n",
       "<tr>\n",
       "  <th>Df Model:</th>              <td>     1</td>      <th>                     </th>              <td> </td>    \n",
       "</tr>\n",
       "<tr>\n",
       "  <th>Covariance Type:</th>      <td>nonrobust</td>    <th>                     </th>              <td> </td>    \n",
       "</tr>\n",
       "</table>\n",
       "<table class=\"simpletable\">\n",
       "<tr>\n",
       "   <td></td>     <th>coef</th>     <th>std err</th>      <th>t</th>      <th>P>|t|</th>  <th>[0.025</th>    <th>0.975]</th>  \n",
       "</tr>\n",
       "<tr>\n",
       "  <th>x1</th> <td>    0.7079</td> <td>    0.010</td> <td>   71.083</td> <td> 0.000</td> <td>    0.688</td> <td>    0.727</td>\n",
       "</tr>\n",
       "</table>\n",
       "<table class=\"simpletable\">\n",
       "<tr>\n",
       "  <th>Omnibus:</th>       <td> 3.522</td> <th>  Durbin-Watson:     </th> <td>   1.985</td>\n",
       "</tr>\n",
       "<tr>\n",
       "  <th>Prob(Omnibus):</th> <td> 0.172</td> <th>  Jarque-Bera (JB):  </th> <td>   3.548</td>\n",
       "</tr>\n",
       "<tr>\n",
       "  <th>Skew:</th>          <td>-0.045</td> <th>  Prob(JB):          </th> <td>   0.170</td>\n",
       "</tr>\n",
       "<tr>\n",
       "  <th>Kurtosis:</th>      <td> 2.978</td> <th>  Cond. No.          </th> <td>    1.00</td>\n",
       "</tr>\n",
       "</table><br/><br/>Warnings:<br/>[1] Standard Errors assume that the covariance matrix of the errors is correctly specified."
      ],
      "text/plain": [
       "<class 'statsmodels.iolib.summary.Summary'>\n",
       "\"\"\"\n",
       "                                 OLS Regression Results                                \n",
       "=======================================================================================\n",
       "Dep. Variable:                      y   R-squared (uncentered):                   0.336\n",
       "Model:                            OLS   Adj. R-squared (uncentered):              0.336\n",
       "Method:                 Least Squares   F-statistic:                              5053.\n",
       "Date:                Tue, 12 May 2020   Prob (F-statistic):                        0.00\n",
       "Time:                        18:15:08   Log-Likelihood:                         -14193.\n",
       "No. Observations:               10000   AIC:                                  2.839e+04\n",
       "Df Residuals:                    9999   BIC:                                  2.839e+04\n",
       "Df Model:                           1                                                  \n",
       "Covariance Type:            nonrobust                                                  \n",
       "==============================================================================\n",
       "                 coef    std err          t      P>|t|      [0.025      0.975]\n",
       "------------------------------------------------------------------------------\n",
       "x1             0.7079      0.010     71.083      0.000       0.688       0.727\n",
       "==============================================================================\n",
       "Omnibus:                        3.522   Durbin-Watson:                   1.985\n",
       "Prob(Omnibus):                  0.172   Jarque-Bera (JB):                3.548\n",
       "Skew:                          -0.045   Prob(JB):                        0.170\n",
       "Kurtosis:                       2.978   Cond. No.                         1.00\n",
       "==============================================================================\n",
       "\n",
       "Warnings:\n",
       "[1] Standard Errors assume that the covariance matrix of the errors is correctly specified.\n",
       "\"\"\""
      ]
     },
     "execution_count": 8,
     "metadata": {},
     "output_type": "execute_result"
    }
   ],
   "source": [
    "from statsmodels.regression.linear_model import OLS\n",
    "l1 = OLS(Y, np.vstack([X]).T).fit()\n",
    "l1.summary()"
   ]
  },
  {
   "cell_type": "code",
   "execution_count": 9,
   "metadata": {},
   "outputs": [
    {
     "data": {
      "text/html": [
       "<table class=\"simpletable\">\n",
       "<caption>OLS Regression Results</caption>\n",
       "<tr>\n",
       "  <th>Dep. Variable:</th>            <td>y</td>        <th>  R-squared (uncentered):</th>      <td>   0.504</td> \n",
       "</tr>\n",
       "<tr>\n",
       "  <th>Model:</th>                   <td>OLS</td>       <th>  Adj. R-squared (uncentered):</th> <td>   0.504</td> \n",
       "</tr>\n",
       "<tr>\n",
       "  <th>Method:</th>             <td>Least Squares</td>  <th>  F-statistic:       </th>          <td>1.017e+04</td>\n",
       "</tr>\n",
       "<tr>\n",
       "  <th>Date:</th>             <td>Tue, 12 May 2020</td> <th>  Prob (F-statistic):</th>           <td>  0.00</td>  \n",
       "</tr>\n",
       "<tr>\n",
       "  <th>Time:</th>                 <td>18:15:40</td>     <th>  Log-Likelihood:    </th>          <td> -12730.</td> \n",
       "</tr>\n",
       "<tr>\n",
       "  <th>No. Observations:</th>      <td> 10000</td>      <th>  AIC:               </th>          <td>2.546e+04</td>\n",
       "</tr>\n",
       "<tr>\n",
       "  <th>Df Residuals:</th>          <td>  9999</td>      <th>  BIC:               </th>          <td>2.547e+04</td>\n",
       "</tr>\n",
       "<tr>\n",
       "  <th>Df Model:</th>              <td>     1</td>      <th>                     </th>              <td> </td>    \n",
       "</tr>\n",
       "<tr>\n",
       "  <th>Covariance Type:</th>      <td>nonrobust</td>    <th>                     </th>              <td> </td>    \n",
       "</tr>\n",
       "</table>\n",
       "<table class=\"simpletable\">\n",
       "<tr>\n",
       "   <td></td>     <th>coef</th>     <th>std err</th>      <th>t</th>      <th>P>|t|</th>  <th>[0.025</th>    <th>0.975]</th>  \n",
       "</tr>\n",
       "<tr>\n",
       "  <th>x1</th> <td>    0.4355</td> <td>    0.004</td> <td>  100.838</td> <td> 0.000</td> <td>    0.427</td> <td>    0.444</td>\n",
       "</tr>\n",
       "</table>\n",
       "<table class=\"simpletable\">\n",
       "<tr>\n",
       "  <th>Omnibus:</th>       <td> 0.272</td> <th>  Durbin-Watson:     </th> <td>   2.008</td>\n",
       "</tr>\n",
       "<tr>\n",
       "  <th>Prob(Omnibus):</th> <td> 0.873</td> <th>  Jarque-Bera (JB):  </th> <td>   0.256</td>\n",
       "</tr>\n",
       "<tr>\n",
       "  <th>Skew:</th>          <td>-0.011</td> <th>  Prob(JB):          </th> <td>   0.880</td>\n",
       "</tr>\n",
       "<tr>\n",
       "  <th>Kurtosis:</th>      <td> 3.010</td> <th>  Cond. No.          </th> <td>    1.00</td>\n",
       "</tr>\n",
       "</table><br/><br/>Warnings:<br/>[1] Standard Errors assume that the covariance matrix of the errors is correctly specified."
      ],
      "text/plain": [
       "<class 'statsmodels.iolib.summary.Summary'>\n",
       "\"\"\"\n",
       "                                 OLS Regression Results                                \n",
       "=======================================================================================\n",
       "Dep. Variable:                      y   R-squared (uncentered):                   0.504\n",
       "Model:                            OLS   Adj. R-squared (uncentered):              0.504\n",
       "Method:                 Least Squares   F-statistic:                          1.017e+04\n",
       "Date:                Tue, 12 May 2020   Prob (F-statistic):                        0.00\n",
       "Time:                        18:15:40   Log-Likelihood:                         -12730.\n",
       "No. Observations:               10000   AIC:                                  2.546e+04\n",
       "Df Residuals:                    9999   BIC:                                  2.547e+04\n",
       "Df Model:                           1                                                  \n",
       "Covariance Type:            nonrobust                                                  \n",
       "==============================================================================\n",
       "                 coef    std err          t      P>|t|      [0.025      0.975]\n",
       "------------------------------------------------------------------------------\n",
       "x1             0.4355      0.004    100.838      0.000       0.427       0.444\n",
       "==============================================================================\n",
       "Omnibus:                        0.272   Durbin-Watson:                   2.008\n",
       "Prob(Omnibus):                  0.873   Jarque-Bera (JB):                0.256\n",
       "Skew:                          -0.011   Prob(JB):                        0.880\n",
       "Kurtosis:                       3.010   Cond. No.                         1.00\n",
       "==============================================================================\n",
       "\n",
       "Warnings:\n",
       "[1] Standard Errors assume that the covariance matrix of the errors is correctly specified.\n",
       "\"\"\""
      ]
     },
     "execution_count": 9,
     "metadata": {},
     "output_type": "execute_result"
    }
   ],
   "source": [
    "from statsmodels.regression.linear_model import OLS\n",
    "l1 = OLS(Y, np.vstack([Z]).T).fit()\n",
    "l1.summary()"
   ]
  },
  {
   "cell_type": "markdown",
   "metadata": {},
   "source": [
    "## DAGs (Directed Acyclic Graphs)"
   ]
  },
  {
   "cell_type": "code",
   "execution_count": 10,
   "metadata": {},
   "outputs": [],
   "source": [
    "from causalgraphicalmodels import CausalGraphicalModel"
   ]
  },
  {
   "cell_type": "code",
   "execution_count": 11,
   "metadata": {},
   "outputs": [
    {
     "data": {
      "image/svg+xml": [
       "<?xml version=\"1.0\" encoding=\"UTF-8\" standalone=\"no\"?>\n",
       "<!DOCTYPE svg PUBLIC \"-//W3C//DTD SVG 1.1//EN\"\n",
       " \"http://www.w3.org/Graphics/SVG/1.1/DTD/svg11.dtd\">\n",
       "<!-- Generated by graphviz version 2.44.0 (0)\n",
       " -->\n",
       "<!-- Pages: 1 -->\n",
       "<svg width=\"90pt\" height=\"260pt\"\n",
       " viewBox=\"0.00 0.00 90.00 260.00\" xmlns=\"http://www.w3.org/2000/svg\" xmlns:xlink=\"http://www.w3.org/1999/xlink\">\n",
       "<g id=\"graph0\" class=\"graph\" transform=\"scale(1 1) rotate(0) translate(4 256)\">\n",
       "<polygon fill=\"white\" stroke=\"transparent\" points=\"-4,4 -4,-256 86,-256 86,4 -4,4\"/>\n",
       "<!-- Y -->\n",
       "<g id=\"node1\" class=\"node\">\n",
       "<title>Y</title>\n",
       "<ellipse fill=\"none\" stroke=\"black\" cx=\"27\" cy=\"-18\" rx=\"27\" ry=\"18\"/>\n",
       "<text text-anchor=\"middle\" x=\"27\" y=\"-14.3\" font-family=\"Times,serif\" font-size=\"14.00\">Y</text>\n",
       "</g>\n",
       "<!-- X -->\n",
       "<g id=\"node2\" class=\"node\">\n",
       "<title>X</title>\n",
       "<ellipse fill=\"none\" stroke=\"black\" cx=\"55\" cy=\"-162\" rx=\"27\" ry=\"18\"/>\n",
       "<text text-anchor=\"middle\" x=\"55\" y=\"-158.3\" font-family=\"Times,serif\" font-size=\"14.00\">X</text>\n",
       "</g>\n",
       "<!-- Z -->\n",
       "<g id=\"node3\" class=\"node\">\n",
       "<title>Z</title>\n",
       "<ellipse fill=\"none\" stroke=\"black\" cx=\"55\" cy=\"-90\" rx=\"27\" ry=\"18\"/>\n",
       "<text text-anchor=\"middle\" x=\"55\" y=\"-86.3\" font-family=\"Times,serif\" font-size=\"14.00\">Z</text>\n",
       "</g>\n",
       "<!-- X&#45;&gt;Z -->\n",
       "<g id=\"edge4\" class=\"edge\">\n",
       "<title>X&#45;&gt;Z</title>\n",
       "<path fill=\"none\" stroke=\"black\" d=\"M55,-143.7C55,-135.98 55,-126.71 55,-118.11\"/>\n",
       "<polygon fill=\"black\" stroke=\"black\" points=\"58.5,-118.1 55,-108.1 51.5,-118.1 58.5,-118.1\"/>\n",
       "</g>\n",
       "<!-- Z&#45;&gt;Y -->\n",
       "<g id=\"edge3\" class=\"edge\">\n",
       "<title>Z&#45;&gt;Y</title>\n",
       "<path fill=\"none\" stroke=\"black\" d=\"M48.36,-72.41C45.09,-64.22 41.06,-54.14 37.38,-44.95\"/>\n",
       "<polygon fill=\"black\" stroke=\"black\" points=\"40.55,-43.45 33.59,-35.47 34.05,-46.05 40.55,-43.45\"/>\n",
       "</g>\n",
       "<!-- U -->\n",
       "<g id=\"node4\" class=\"node\">\n",
       "<title>U</title>\n",
       "<ellipse fill=\"none\" stroke=\"black\" cx=\"27\" cy=\"-234\" rx=\"27\" ry=\"18\"/>\n",
       "<text text-anchor=\"middle\" x=\"27\" y=\"-230.3\" font-family=\"Times,serif\" font-size=\"14.00\">U</text>\n",
       "</g>\n",
       "<!-- U&#45;&gt;Y -->\n",
       "<g id=\"edge1\" class=\"edge\">\n",
       "<title>U&#45;&gt;Y</title>\n",
       "<path fill=\"none\" stroke=\"black\" d=\"M23.75,-215.89C21.95,-205.54 19.91,-192.06 19,-180 15.41,-132.13 15.41,-119.87 19,-72 19.64,-63.52 20.84,-54.34 22.12,-46.04\"/>\n",
       "<polygon fill=\"black\" stroke=\"black\" points=\"25.58,-46.55 23.75,-36.11 18.68,-45.41 25.58,-46.55\"/>\n",
       "</g>\n",
       "<!-- U&#45;&gt;X -->\n",
       "<g id=\"edge2\" class=\"edge\">\n",
       "<title>U&#45;&gt;X</title>\n",
       "<path fill=\"none\" stroke=\"black\" d=\"M33.64,-216.41C36.91,-208.22 40.94,-198.14 44.62,-188.95\"/>\n",
       "<polygon fill=\"black\" stroke=\"black\" points=\"47.95,-190.05 48.41,-179.47 41.45,-187.45 47.95,-190.05\"/>\n",
       "</g>\n",
       "</g>\n",
       "</svg>\n"
      ],
      "text/plain": [
       "<graphviz.dot.Digraph at 0x7f6979a014a8>"
      ]
     },
     "execution_count": 11,
     "metadata": {},
     "output_type": "execute_result"
    }
   ],
   "source": [
    "G = CausalGraphicalModel(nodes=['U', 'Z', 'X', 'Y'], edges=[\n",
    "    ('U', 'Y'),\n",
    "    ('U', 'X'),\n",
    "    ('X', 'Z'),\n",
    "    ('Z', 'Y')\n",
    "])\n",
    "G.draw()"
   ]
  },
  {
   "cell_type": "markdown",
   "metadata": {},
   "source": [
    "Пути из U в Y"
   ]
  },
  {
   "cell_type": "code",
   "execution_count": 12,
   "metadata": {},
   "outputs": [
    {
     "data": {
      "text/plain": [
       "[['U', 'Y'], ['U', 'X', 'Z', 'Y']]"
      ]
     },
     "execution_count": 12,
     "metadata": {},
     "output_type": "execute_result"
    }
   ],
   "source": [
    "list(nx.all_simple_paths(G.dag, 'U', 'Y'))"
   ]
  },
  {
   "cell_type": "code",
   "execution_count": 13,
   "metadata": {},
   "outputs": [
    {
     "data": {
      "text/plain": [
       "[['U', 'Y'], ['U', 'X', 'Z', 'Y']]"
      ]
     },
     "execution_count": 13,
     "metadata": {},
     "output_type": "execute_result"
    }
   ],
   "source": [
    "list(nx.all_simple_paths(G.dag.to_undirected(), 'U', 'Y'))"
   ]
  },
  {
   "cell_type": "code",
   "execution_count": 14,
   "metadata": {},
   "outputs": [
    {
     "data": {
      "text/plain": [
       "[['X', 'U', 'Y'], ['X', 'Z', 'Y']]"
      ]
     },
     "execution_count": 14,
     "metadata": {},
     "output_type": "execute_result"
    }
   ],
   "source": [
    "list(nx.all_simple_paths(G.dag.to_undirected(), 'X', 'Y'))"
   ]
  },
  {
   "cell_type": "code",
   "execution_count": 15,
   "metadata": {},
   "outputs": [
    {
     "data": {
      "text/plain": [
       "[('Y', 'X', {'U', 'Z'}), ('Z', 'U', {'X'})]"
      ]
     },
     "execution_count": 15,
     "metadata": {},
     "output_type": "execute_result"
    }
   ],
   "source": [
    "G.get_all_independence_relationships()"
   ]
  },
  {
   "cell_type": "code",
   "execution_count": 16,
   "metadata": {},
   "outputs": [
    {
     "data": {
      "text/plain": [
       "'P(U)P(X|U)P(Z|X)P(Y|U,Z)'"
      ]
     },
     "execution_count": 16,
     "metadata": {},
     "output_type": "execute_result"
    }
   ],
   "source": [
    "G.get_distribution()"
   ]
  },
  {
   "cell_type": "code",
   "execution_count": 17,
   "metadata": {},
   "outputs": [
    {
     "data": {
      "image/svg+xml": [
       "<?xml version=\"1.0\" encoding=\"UTF-8\" standalone=\"no\"?>\n",
       "<!DOCTYPE svg PUBLIC \"-//W3C//DTD SVG 1.1//EN\"\n",
       " \"http://www.w3.org/Graphics/SVG/1.1/DTD/svg11.dtd\">\n",
       "<!-- Generated by graphviz version 2.44.0 (0)\n",
       " -->\n",
       "<!-- Pages: 1 -->\n",
       "<svg width=\"138pt\" height=\"196pt\"\n",
       " viewBox=\"0.00 0.00 138.00 196.00\" xmlns=\"http://www.w3.org/2000/svg\" xmlns:xlink=\"http://www.w3.org/1999/xlink\">\n",
       "<g id=\"graph0\" class=\"graph\" transform=\"scale(1 1) rotate(0) translate(4 192)\">\n",
       "<polygon fill=\"white\" stroke=\"transparent\" points=\"-4,4 -4,-192 134,-192 134,4 -4,4\"/>\n",
       "<!-- Y -->\n",
       "<g id=\"node1\" class=\"node\">\n",
       "<title>Y</title>\n",
       "<ellipse fill=\"none\" stroke=\"black\" cx=\"67\" cy=\"-18\" rx=\"27\" ry=\"18\"/>\n",
       "<text text-anchor=\"middle\" x=\"67\" y=\"-14.3\" font-family=\"Times,serif\" font-size=\"14.00\">Y</text>\n",
       "</g>\n",
       "<!-- X -->\n",
       "<g id=\"node2\" class=\"node\">\n",
       "<title>X</title>\n",
       "<ellipse fill=\"none\" stroke=\"black\" cx=\"31\" cy=\"-166\" rx=\"27\" ry=\"18\"/>\n",
       "<ellipse fill=\"none\" stroke=\"black\" cx=\"31\" cy=\"-166\" rx=\"31\" ry=\"22\"/>\n",
       "<text text-anchor=\"middle\" x=\"31\" y=\"-162.3\" font-family=\"Times,serif\" font-size=\"14.00\">X</text>\n",
       "</g>\n",
       "<!-- Z -->\n",
       "<g id=\"node3\" class=\"node\">\n",
       "<title>Z</title>\n",
       "<ellipse fill=\"none\" stroke=\"black\" cx=\"31\" cy=\"-90\" rx=\"27\" ry=\"18\"/>\n",
       "<text text-anchor=\"middle\" x=\"31\" y=\"-86.3\" font-family=\"Times,serif\" font-size=\"14.00\">Z</text>\n",
       "</g>\n",
       "<!-- X&#45;&gt;Z -->\n",
       "<g id=\"edge1\" class=\"edge\">\n",
       "<title>X&#45;&gt;Z</title>\n",
       "<path fill=\"none\" stroke=\"black\" d=\"M31,-143.99C31,-136.06 31,-126.91 31,-118.48\"/>\n",
       "<polygon fill=\"black\" stroke=\"black\" points=\"34.5,-118.31 31,-108.31 27.5,-118.31 34.5,-118.31\"/>\n",
       "</g>\n",
       "<!-- Z&#45;&gt;Y -->\n",
       "<g id=\"edge2\" class=\"edge\">\n",
       "<title>Z&#45;&gt;Y</title>\n",
       "<path fill=\"none\" stroke=\"black\" d=\"M39.35,-72.76C43.71,-64.28 49.15,-53.71 54.04,-44.2\"/>\n",
       "<polygon fill=\"black\" stroke=\"black\" points=\"57.23,-45.64 58.7,-35.15 51.01,-42.44 57.23,-45.64\"/>\n",
       "</g>\n",
       "<!-- U -->\n",
       "<g id=\"node4\" class=\"node\">\n",
       "<title>U</title>\n",
       "<ellipse fill=\"none\" stroke=\"black\" cx=\"103\" cy=\"-90\" rx=\"27\" ry=\"18\"/>\n",
       "<text text-anchor=\"middle\" x=\"103\" y=\"-86.3\" font-family=\"Times,serif\" font-size=\"14.00\">U</text>\n",
       "</g>\n",
       "<!-- U&#45;&gt;Y -->\n",
       "<g id=\"edge3\" class=\"edge\">\n",
       "<title>U&#45;&gt;Y</title>\n",
       "<path fill=\"none\" stroke=\"black\" d=\"M94.65,-72.76C90.29,-64.28 84.85,-53.71 79.96,-44.2\"/>\n",
       "<polygon fill=\"black\" stroke=\"black\" points=\"82.99,-42.44 75.3,-35.15 76.77,-45.64 82.99,-42.44\"/>\n",
       "</g>\n",
       "</g>\n",
       "</svg>\n"
      ],
      "text/plain": [
       "<graphviz.dot.Digraph at 0x7f6979a01470>"
      ]
     },
     "execution_count": 17,
     "metadata": {},
     "output_type": "execute_result"
    }
   ],
   "source": [
    "G.do('X').draw()"
   ]
  },
  {
   "cell_type": "code",
   "execution_count": 18,
   "metadata": {},
   "outputs": [
    {
     "data": {
      "image/svg+xml": [
       "<?xml version=\"1.0\" encoding=\"UTF-8\" standalone=\"no\"?>\n",
       "<!DOCTYPE svg PUBLIC \"-//W3C//DTD SVG 1.1//EN\"\n",
       " \"http://www.w3.org/Graphics/SVG/1.1/DTD/svg11.dtd\">\n",
       "<!-- Generated by graphviz version 2.44.0 (0)\n",
       " -->\n",
       "<!-- Pages: 1 -->\n",
       "<svg width=\"90pt\" height=\"260pt\"\n",
       " viewBox=\"0.00 0.00 90.00 260.00\" xmlns=\"http://www.w3.org/2000/svg\" xmlns:xlink=\"http://www.w3.org/1999/xlink\">\n",
       "<g id=\"graph0\" class=\"graph\" transform=\"scale(1 1) rotate(0) translate(4 256)\">\n",
       "<polygon fill=\"white\" stroke=\"transparent\" points=\"-4,4 -4,-256 86,-256 86,4 -4,4\"/>\n",
       "<!-- Y -->\n",
       "<g id=\"node1\" class=\"node\">\n",
       "<title>Y</title>\n",
       "<ellipse fill=\"none\" stroke=\"black\" cx=\"27\" cy=\"-18\" rx=\"27\" ry=\"18\"/>\n",
       "<text text-anchor=\"middle\" x=\"27\" y=\"-14.3\" font-family=\"Times,serif\" font-size=\"14.00\">Y</text>\n",
       "</g>\n",
       "<!-- X -->\n",
       "<g id=\"node2\" class=\"node\">\n",
       "<title>X</title>\n",
       "<ellipse fill=\"none\" stroke=\"black\" cx=\"55\" cy=\"-162\" rx=\"27\" ry=\"18\"/>\n",
       "<text text-anchor=\"middle\" x=\"55\" y=\"-158.3\" font-family=\"Times,serif\" font-size=\"14.00\">X</text>\n",
       "</g>\n",
       "<!-- Z -->\n",
       "<g id=\"node3\" class=\"node\">\n",
       "<title>Z</title>\n",
       "<ellipse fill=\"none\" stroke=\"black\" cx=\"55\" cy=\"-90\" rx=\"27\" ry=\"18\"/>\n",
       "<text text-anchor=\"middle\" x=\"55\" y=\"-86.3\" font-family=\"Times,serif\" font-size=\"14.00\">Z</text>\n",
       "</g>\n",
       "<!-- X&#45;&gt;Z -->\n",
       "<g id=\"edge4\" class=\"edge\">\n",
       "<title>X&#45;&gt;Z</title>\n",
       "<path fill=\"none\" stroke=\"black\" d=\"M55,-143.7C55,-135.98 55,-126.71 55,-118.11\"/>\n",
       "<polygon fill=\"black\" stroke=\"black\" points=\"58.5,-118.1 55,-108.1 51.5,-118.1 58.5,-118.1\"/>\n",
       "</g>\n",
       "<!-- Z&#45;&gt;Y -->\n",
       "<g id=\"edge3\" class=\"edge\">\n",
       "<title>Z&#45;&gt;Y</title>\n",
       "<path fill=\"none\" stroke=\"black\" d=\"M48.36,-72.41C45.09,-64.22 41.06,-54.14 37.38,-44.95\"/>\n",
       "<polygon fill=\"black\" stroke=\"black\" points=\"40.55,-43.45 33.59,-35.47 34.05,-46.05 40.55,-43.45\"/>\n",
       "</g>\n",
       "<!-- U -->\n",
       "<g id=\"node4\" class=\"node\">\n",
       "<title>U</title>\n",
       "<ellipse fill=\"none\" stroke=\"black\" cx=\"27\" cy=\"-234\" rx=\"27\" ry=\"18\"/>\n",
       "<text text-anchor=\"middle\" x=\"27\" y=\"-230.3\" font-family=\"Times,serif\" font-size=\"14.00\">U</text>\n",
       "</g>\n",
       "<!-- U&#45;&gt;Y -->\n",
       "<g id=\"edge1\" class=\"edge\">\n",
       "<title>U&#45;&gt;Y</title>\n",
       "<path fill=\"none\" stroke=\"black\" d=\"M23.75,-215.89C21.95,-205.54 19.91,-192.06 19,-180 15.41,-132.13 15.41,-119.87 19,-72 19.64,-63.52 20.84,-54.34 22.12,-46.04\"/>\n",
       "<polygon fill=\"black\" stroke=\"black\" points=\"25.58,-46.55 23.75,-36.11 18.68,-45.41 25.58,-46.55\"/>\n",
       "</g>\n",
       "<!-- U&#45;&gt;X -->\n",
       "<g id=\"edge2\" class=\"edge\">\n",
       "<title>U&#45;&gt;X</title>\n",
       "<path fill=\"none\" stroke=\"black\" d=\"M33.64,-216.41C36.91,-208.22 40.94,-198.14 44.62,-188.95\"/>\n",
       "<polygon fill=\"black\" stroke=\"black\" points=\"47.95,-190.05 48.41,-179.47 41.45,-187.45 47.95,-190.05\"/>\n",
       "</g>\n",
       "</g>\n",
       "</svg>\n"
      ],
      "text/plain": [
       "<graphviz.dot.Digraph at 0x7f6979a01748>"
      ]
     },
     "execution_count": 18,
     "metadata": {},
     "output_type": "execute_result"
    }
   ],
   "source": [
    "G.draw()"
   ]
  },
  {
   "cell_type": "code",
   "execution_count": 19,
   "metadata": {},
   "outputs": [
    {
     "data": {
      "text/plain": [
       "frozenset({frozenset({'U'})})"
      ]
     },
     "execution_count": 19,
     "metadata": {},
     "output_type": "execute_result"
    }
   ],
   "source": [
    "G.get_all_backdoor_adjustment_sets('X','Y')"
   ]
  },
  {
   "cell_type": "code",
   "execution_count": 20,
   "metadata": {},
   "outputs": [
    {
     "data": {
      "text/plain": [
       "frozenset({frozenset({'Z'})})"
      ]
     },
     "execution_count": 20,
     "metadata": {},
     "output_type": "execute_result"
    }
   ],
   "source": [
    "G.get_all_frontdoor_adjustment_sets('X','Y')"
   ]
  },
  {
   "cell_type": "code",
   "execution_count": 21,
   "metadata": {},
   "outputs": [
    {
     "data": {
      "text/plain": [
       "frozenset({frozenset()})"
      ]
     },
     "execution_count": 21,
     "metadata": {},
     "output_type": "execute_result"
    }
   ],
   "source": [
    "G.get_all_frontdoor_adjustment_sets('Y','X')"
   ]
  },
  {
   "cell_type": "markdown",
   "metadata": {},
   "source": [
    "## Inductive search"
   ]
  },
  {
   "cell_type": "markdown",
   "metadata": {},
   "source": [
    "Допустим, у нас есть несколько событий:\n",
    "\n",
    "1. Продажа мороженного (ICE)\n",
    "2. Количество преступлений (CRIMES)\n",
    "3. Количество полицейских на тысячу человек (POLICE)\n",
    "4. Средняя температура (TEMP)\n",
    "5. Количество скачиваний браузера IE (IE)\n",
    "6. Количество зараженных компьютеров (COMP)\n",
    "7. Уровень загрязнения воздуха (AIR)"
   ]
  },
  {
   "cell_type": "code",
   "execution_count": 22,
   "metadata": {},
   "outputs": [
    {
     "data": {
      "image/svg+xml": [
       "<?xml version=\"1.0\" encoding=\"UTF-8\" standalone=\"no\"?>\n",
       "<!DOCTYPE svg PUBLIC \"-//W3C//DTD SVG 1.1//EN\"\n",
       " \"http://www.w3.org/Graphics/SVG/1.1/DTD/svg11.dtd\">\n",
       "<!-- Generated by graphviz version 2.44.0 (0)\n",
       " -->\n",
       "<!-- Pages: 1 -->\n",
       "<svg width=\"345pt\" height=\"116pt\"\n",
       " viewBox=\"0.00 0.00 344.74 116.00\" xmlns=\"http://www.w3.org/2000/svg\" xmlns:xlink=\"http://www.w3.org/1999/xlink\">\n",
       "<g id=\"graph0\" class=\"graph\" transform=\"scale(1 1) rotate(0) translate(4 112)\">\n",
       "<polygon fill=\"white\" stroke=\"transparent\" points=\"-4,4 -4,-112 340.74,-112 340.74,4 -4,4\"/>\n",
       "<!-- POLICE -->\n",
       "<g id=\"node1\" class=\"node\">\n",
       "<title>POLICE</title>\n",
       "<ellipse fill=\"none\" stroke=\"black\" cx=\"47.45\" cy=\"-90\" rx=\"47.39\" ry=\"18\"/>\n",
       "<text text-anchor=\"middle\" x=\"47.45\" y=\"-86.3\" font-family=\"Times,serif\" font-size=\"14.00\">POLICE</text>\n",
       "</g>\n",
       "<!-- CRIMES -->\n",
       "<g id=\"node7\" class=\"node\">\n",
       "<title>CRIMES</title>\n",
       "<ellipse fill=\"none\" stroke=\"black\" cx=\"51.45\" cy=\"-18\" rx=\"50.09\" ry=\"18\"/>\n",
       "<text text-anchor=\"middle\" x=\"51.45\" y=\"-14.3\" font-family=\"Times,serif\" font-size=\"14.00\">CRIMES</text>\n",
       "</g>\n",
       "<!-- POLICE&#45;&gt;CRIMES -->\n",
       "<g id=\"edge1\" class=\"edge\">\n",
       "<title>POLICE&#45;&gt;CRIMES</title>\n",
       "<path fill=\"none\" stroke=\"black\" d=\"M48.43,-71.7C48.88,-63.98 49.41,-54.71 49.9,-46.11\"/>\n",
       "<polygon fill=\"black\" stroke=\"black\" points=\"53.39,-46.29 50.47,-36.1 46.4,-45.89 53.39,-46.29\"/>\n",
       "</g>\n",
       "<!-- IE -->\n",
       "<g id=\"node2\" class=\"node\">\n",
       "<title>IE</title>\n",
       "<ellipse fill=\"none\" stroke=\"black\" cx=\"237.45\" cy=\"-90\" rx=\"27\" ry=\"18\"/>\n",
       "<text text-anchor=\"middle\" x=\"237.45\" y=\"-86.3\" font-family=\"Times,serif\" font-size=\"14.00\">IE</text>\n",
       "</g>\n",
       "<!-- COMP -->\n",
       "<g id=\"node3\" class=\"node\">\n",
       "<title>COMP</title>\n",
       "<ellipse fill=\"none\" stroke=\"black\" cx=\"237.45\" cy=\"-18\" rx=\"40.09\" ry=\"18\"/>\n",
       "<text text-anchor=\"middle\" x=\"237.45\" y=\"-14.3\" font-family=\"Times,serif\" font-size=\"14.00\">COMP</text>\n",
       "</g>\n",
       "<!-- IE&#45;&gt;COMP -->\n",
       "<g id=\"edge4\" class=\"edge\">\n",
       "<title>IE&#45;&gt;COMP</title>\n",
       "<path fill=\"none\" stroke=\"black\" d=\"M237.45,-71.7C237.45,-63.98 237.45,-54.71 237.45,-46.11\"/>\n",
       "<polygon fill=\"black\" stroke=\"black\" points=\"240.95,-46.1 237.45,-36.1 233.95,-46.1 240.95,-46.1\"/>\n",
       "</g>\n",
       "<!-- ICE -->\n",
       "<g id=\"node4\" class=\"node\">\n",
       "<title>ICE</title>\n",
       "<ellipse fill=\"none\" stroke=\"black\" cx=\"151.45\" cy=\"-18\" rx=\"27.9\" ry=\"18\"/>\n",
       "<text text-anchor=\"middle\" x=\"151.45\" y=\"-14.3\" font-family=\"Times,serif\" font-size=\"14.00\">ICE</text>\n",
       "</g>\n",
       "<!-- TEMP -->\n",
       "<g id=\"node5\" class=\"node\">\n",
       "<title>TEMP</title>\n",
       "<ellipse fill=\"none\" stroke=\"black\" cx=\"151.45\" cy=\"-90\" rx=\"38.99\" ry=\"18\"/>\n",
       "<text text-anchor=\"middle\" x=\"151.45\" y=\"-86.3\" font-family=\"Times,serif\" font-size=\"14.00\">TEMP</text>\n",
       "</g>\n",
       "<!-- TEMP&#45;&gt;ICE -->\n",
       "<g id=\"edge2\" class=\"edge\">\n",
       "<title>TEMP&#45;&gt;ICE</title>\n",
       "<path fill=\"none\" stroke=\"black\" d=\"M151.45,-71.7C151.45,-63.98 151.45,-54.71 151.45,-46.11\"/>\n",
       "<polygon fill=\"black\" stroke=\"black\" points=\"154.95,-46.1 151.45,-36.1 147.95,-46.1 154.95,-46.1\"/>\n",
       "</g>\n",
       "<!-- TEMP&#45;&gt;CRIMES -->\n",
       "<g id=\"edge3\" class=\"edge\">\n",
       "<title>TEMP&#45;&gt;CRIMES</title>\n",
       "<path fill=\"none\" stroke=\"black\" d=\"M130.73,-74.5C116.63,-64.63 97.74,-51.41 81.94,-40.35\"/>\n",
       "<polygon fill=\"black\" stroke=\"black\" points=\"83.73,-37.32 73.53,-34.46 79.71,-43.06 83.73,-37.32\"/>\n",
       "</g>\n",
       "<!-- AIR -->\n",
       "<g id=\"node6\" class=\"node\">\n",
       "<title>AIR</title>\n",
       "<ellipse fill=\"none\" stroke=\"black\" cx=\"309.45\" cy=\"-90\" rx=\"27.1\" ry=\"18\"/>\n",
       "<text text-anchor=\"middle\" x=\"309.45\" y=\"-86.3\" font-family=\"Times,serif\" font-size=\"14.00\">AIR</text>\n",
       "</g>\n",
       "</g>\n",
       "</svg>\n"
      ],
      "text/plain": [
       "<graphviz.dot.Digraph at 0x7f6979a01550>"
      ]
     },
     "execution_count": 22,
     "metadata": {},
     "output_type": "execute_result"
    }
   ],
   "source": [
    "G = CausalGraphicalModel(nodes=['ICE','CRIMES','POLICE', 'TEMP','IE','COMP', 'AIR'], \n",
    "edges=[('TEMP','ICE'),  ('TEMP','CRIMES'), ('IE','COMP'), ('POLICE', 'CRIMES')])\n",
    "G.draw()"
   ]
  },
  {
   "cell_type": "code",
   "execution_count": 23,
   "metadata": {},
   "outputs": [],
   "source": [
    "from causality.inference.search import IC\n",
    "from causality.inference.independence_tests import MutualInformationTest\n",
    "import pandas as pd\n",
    "import seaborn as sns"
   ]
  },
  {
   "cell_type": "code",
   "execution_count": 24,
   "metadata": {},
   "outputs": [],
   "source": [
    "police = rs.uniform(low=1, high=100, size=1000)\n",
    "temp = rs.uniform(low=-40, high=40, size=1000)\n",
    "air = rs.uniform(size=1000)\n",
    "crimes = (temp + 40) / police\n",
    "ice = temp + 40\n",
    "ie = rs.uniform(size=1000)\n",
    "comp = ie**2\n",
    "dataframe = pd.DataFrame({'police':police, 'temp':temp, 'air':air, 'crimes':crimes, 'ice':ice, 'ie':ie, 'comp':comp})"
   ]
  },
  {
   "cell_type": "code",
   "execution_count": 28,
   "metadata": {},
   "outputs": [],
   "source": [
    "import statsmodels.api as sm\n",
    "\n",
    "class OLS_test():\n",
    "    def __init__(self, y, x, z, data, alpha):\n",
    "        self.regression = sm.OLS.from_formula('{0}~{1}'.format(y[0], '+'.join(x + z)), data)\n",
    "        self.result = self.regression.fit()\n",
    "        self.x = x\n",
    "        self.y = y\n",
    "        self.z = z\n",
    "        self.alpha = alpha\n",
    "        print(y, x, z)\n",
    "    def independent(self):\n",
    "        to_fisher = '(' + self.x[0] + '=0)'\n",
    "        return self.result.f_test(to_fisher).pvalue > self.alpha"
   ]
  },
  {
   "cell_type": "code",
   "execution_count": 29,
   "metadata": {},
   "outputs": [
    {
     "name": "stdout",
     "output_type": "stream",
     "text": [
      "['temp'] ['police'] []\n",
      "['air'] ['police'] []\n",
      "['ice'] ['police'] []\n",
      "['crimes'] ['police'] []\n",
      "['ie'] ['police'] []\n",
      "['comp'] ['police'] []\n",
      "['air'] ['temp'] []\n",
      "['ice'] ['temp'] []\n",
      "['crimes'] ['temp'] []\n",
      "['ie'] ['temp'] []\n",
      "['comp'] ['temp'] []\n",
      "['ice'] ['air'] []\n",
      "['crimes'] ['air'] []\n",
      "['ie'] ['air'] []\n",
      "['comp'] ['air'] []\n",
      "['crimes'] ['ice'] []\n",
      "['ie'] ['ice'] []\n",
      "['comp'] ['ice'] []\n",
      "['ie'] ['crimes'] []\n",
      "['comp'] ['crimes'] []\n",
      "['comp'] ['ie'] []\n",
      "['crimes'] ['police'] ['ice']\n",
      "['crimes'] ['police'] ['temp']\n",
      "['ice'] ['temp'] ['crimes']\n",
      "['crimes'] ['temp'] ['ice']\n",
      "['crimes'] ['ice'] ['police']\n",
      "['crimes'] ['ice'] ['temp']\n",
      "['crimes'] ['ice'] ['police', 'temp']\n"
     ]
    }
   ],
   "source": [
    "variable_types = {'police' : 'd', \n",
    "                  'temp' : 'd',\n",
    "                  'air' : 'c',\n",
    "                  'ice' : 'd',\n",
    "                  'crimes' : 'd',\n",
    "                  'ie':'c',\n",
    "                  'comp':'c'}\n",
    "\n",
    "ic_algorithm = IC(OLS_test, alpha=0.05)\n",
    "graph = ic_algorithm.search(dataframe, variable_types)"
   ]
  },
  {
   "cell_type": "code",
   "execution_count": 30,
   "metadata": {},
   "outputs": [
    {
     "name": "stderr",
     "output_type": "stream",
     "text": [
      "/home/twlvth/.pyenv/versions/venv3.7/lib/python3.7/site-packages/networkx/drawing/nx_pylab.py:579: MatplotlibDeprecationWarning: \n",
      "The iterable function was deprecated in Matplotlib 3.1 and will be removed in 3.3. Use np.iterable instead.\n",
      "  if not cb.iterable(width):\n"
     ]
    },
    {
     "data": {
      "image/png": "[encoded data removed]",
      "text/plain": [
       "<Figure size 432x288 with 1 Axes>"
      ]
     },
     "metadata": {},
     "output_type": "display_data"
    }
   ],
   "source": [
    "nx.draw_networkx(graph)"
   ]
  },
  {
   "cell_type": "code",
   "execution_count": 31,
   "metadata": {},
   "outputs": [
    {
     "data": {
      "image/svg+xml": [
       "<?xml version=\"1.0\" encoding=\"UTF-8\" standalone=\"no\"?>\n",
       "<!DOCTYPE svg PUBLIC \"-//W3C//DTD SVG 1.1//EN\"\n",
       " \"http://www.w3.org/Graphics/SVG/1.1/DTD/svg11.dtd\">\n",
       "<!-- Generated by graphviz version 2.44.0 (0)\n",
       " -->\n",
       "<!-- Pages: 1 -->\n",
       "<svg width=\"345pt\" height=\"116pt\"\n",
       " viewBox=\"0.00 0.00 344.74 116.00\" xmlns=\"http://www.w3.org/2000/svg\" xmlns:xlink=\"http://www.w3.org/1999/xlink\">\n",
       "<g id=\"graph0\" class=\"graph\" transform=\"scale(1 1) rotate(0) translate(4 112)\">\n",
       "<polygon fill=\"white\" stroke=\"transparent\" points=\"-4,4 -4,-112 340.74,-112 340.74,4 -4,4\"/>\n",
       "<!-- POLICE -->\n",
       "<g id=\"node1\" class=\"node\">\n",
       "<title>POLICE</title>\n",
       "<ellipse fill=\"none\" stroke=\"black\" cx=\"47.45\" cy=\"-90\" rx=\"47.39\" ry=\"18\"/>\n",
       "<text text-anchor=\"middle\" x=\"47.45\" y=\"-86.3\" font-family=\"Times,serif\" font-size=\"14.00\">POLICE</text>\n",
       "</g>\n",
       "<!-- CRIMES -->\n",
       "<g id=\"node7\" class=\"node\">\n",
       "<title>CRIMES</title>\n",
       "<ellipse fill=\"none\" stroke=\"black\" cx=\"51.45\" cy=\"-18\" rx=\"50.09\" ry=\"18\"/>\n",
       "<text text-anchor=\"middle\" x=\"51.45\" y=\"-14.3\" font-family=\"Times,serif\" font-size=\"14.00\">CRIMES</text>\n",
       "</g>\n",
       "<!-- POLICE&#45;&gt;CRIMES -->\n",
       "<g id=\"edge1\" class=\"edge\">\n",
       "<title>POLICE&#45;&gt;CRIMES</title>\n",
       "<path fill=\"none\" stroke=\"black\" d=\"M48.43,-71.7C48.88,-63.98 49.41,-54.71 49.9,-46.11\"/>\n",
       "<polygon fill=\"black\" stroke=\"black\" points=\"53.39,-46.29 50.47,-36.1 46.4,-45.89 53.39,-46.29\"/>\n",
       "</g>\n",
       "<!-- IE -->\n",
       "<g id=\"node2\" class=\"node\">\n",
       "<title>IE</title>\n",
       "<ellipse fill=\"none\" stroke=\"black\" cx=\"237.45\" cy=\"-90\" rx=\"27\" ry=\"18\"/>\n",
       "<text text-anchor=\"middle\" x=\"237.45\" y=\"-86.3\" font-family=\"Times,serif\" font-size=\"14.00\">IE</text>\n",
       "</g>\n",
       "<!-- COMP -->\n",
       "<g id=\"node3\" class=\"node\">\n",
       "<title>COMP</title>\n",
       "<ellipse fill=\"none\" stroke=\"black\" cx=\"237.45\" cy=\"-18\" rx=\"40.09\" ry=\"18\"/>\n",
       "<text text-anchor=\"middle\" x=\"237.45\" y=\"-14.3\" font-family=\"Times,serif\" font-size=\"14.00\">COMP</text>\n",
       "</g>\n",
       "<!-- IE&#45;&gt;COMP -->\n",
       "<g id=\"edge4\" class=\"edge\">\n",
       "<title>IE&#45;&gt;COMP</title>\n",
       "<path fill=\"none\" stroke=\"black\" d=\"M237.45,-71.7C237.45,-63.98 237.45,-54.71 237.45,-46.11\"/>\n",
       "<polygon fill=\"black\" stroke=\"black\" points=\"240.95,-46.1 237.45,-36.1 233.95,-46.1 240.95,-46.1\"/>\n",
       "</g>\n",
       "<!-- ICE -->\n",
       "<g id=\"node4\" class=\"node\">\n",
       "<title>ICE</title>\n",
       "<ellipse fill=\"none\" stroke=\"black\" cx=\"151.45\" cy=\"-18\" rx=\"27.9\" ry=\"18\"/>\n",
       "<text text-anchor=\"middle\" x=\"151.45\" y=\"-14.3\" font-family=\"Times,serif\" font-size=\"14.00\">ICE</text>\n",
       "</g>\n",
       "<!-- TEMP -->\n",
       "<g id=\"node5\" class=\"node\">\n",
       "<title>TEMP</title>\n",
       "<ellipse fill=\"none\" stroke=\"black\" cx=\"151.45\" cy=\"-90\" rx=\"38.99\" ry=\"18\"/>\n",
       "<text text-anchor=\"middle\" x=\"151.45\" y=\"-86.3\" font-family=\"Times,serif\" font-size=\"14.00\">TEMP</text>\n",
       "</g>\n",
       "<!-- TEMP&#45;&gt;ICE -->\n",
       "<g id=\"edge2\" class=\"edge\">\n",
       "<title>TEMP&#45;&gt;ICE</title>\n",
       "<path fill=\"none\" stroke=\"black\" d=\"M151.45,-71.7C151.45,-63.98 151.45,-54.71 151.45,-46.11\"/>\n",
       "<polygon fill=\"black\" stroke=\"black\" points=\"154.95,-46.1 151.45,-36.1 147.95,-46.1 154.95,-46.1\"/>\n",
       "</g>\n",
       "<!-- TEMP&#45;&gt;CRIMES -->\n",
       "<g id=\"edge3\" class=\"edge\">\n",
       "<title>TEMP&#45;&gt;CRIMES</title>\n",
       "<path fill=\"none\" stroke=\"black\" d=\"M130.73,-74.5C116.63,-64.63 97.74,-51.41 81.94,-40.35\"/>\n",
       "<polygon fill=\"black\" stroke=\"black\" points=\"83.73,-37.32 73.53,-34.46 79.71,-43.06 83.73,-37.32\"/>\n",
       "</g>\n",
       "<!-- AIR -->\n",
       "<g id=\"node6\" class=\"node\">\n",
       "<title>AIR</title>\n",
       "<ellipse fill=\"none\" stroke=\"black\" cx=\"309.45\" cy=\"-90\" rx=\"27.1\" ry=\"18\"/>\n",
       "<text text-anchor=\"middle\" x=\"309.45\" y=\"-86.3\" font-family=\"Times,serif\" font-size=\"14.00\">AIR</text>\n",
       "</g>\n",
       "</g>\n",
       "</svg>\n"
      ],
      "text/plain": [
       "<graphviz.dot.Digraph at 0x7f6979a14908>"
      ]
     },
     "execution_count": 31,
     "metadata": {},
     "output_type": "execute_result"
    }
   ],
   "source": [
    "G = CausalGraphicalModel(nodes=['ICE','CRIMES','POLICE', 'TEMP','IE','COMP', 'AIR'], \n",
    "edges=[('TEMP','ICE'),  ('TEMP','CRIMES'), ('IE','COMP'), ('POLICE', 'CRIMES')])\n",
    "G.draw()"
   ]
  },
  {
   "cell_type": "code",
   "execution_count": 32,
   "metadata": {},
   "outputs": [
    {
     "name": "stdout",
     "output_type": "stream",
     "text": [
      "('police', 'crimes', {'marked': False, 'arrows': ['crimes']})\n",
      "('temp', 'ice', {'marked': False, 'arrows': []})\n",
      "('ice', 'crimes', {'marked': False, 'arrows': ['crimes']})\n",
      "('ie', 'comp', {'marked': False, 'arrows': []})\n"
     ]
    }
   ],
   "source": [
    "for e in graph.edges(data=True):\n",
    "    print(e)"
   ]
  },
  {
   "cell_type": "markdown",
   "metadata": {},
   "source": [
    "## Задача про курение"
   ]
  },
  {
   "cell_type": "code",
   "execution_count": 34,
   "metadata": {},
   "outputs": [
    {
     "data": {
      "text/html": [
       "<div>\n",
       "<style scoped>\n",
       "    .dataframe tbody tr th:only-of-type {\n",
       "        vertical-align: middle;\n",
       "    }\n",
       "\n",
       "    .dataframe tbody tr th {\n",
       "        vertical-align: top;\n",
       "    }\n",
       "\n",
       "    .dataframe thead th {\n",
       "        text-align: right;\n",
       "    }\n",
       "</style>\n",
       "<table border=\"1\" class=\"dataframe\">\n",
       "  <thead>\n",
       "    <tr style=\"text-align: right;\">\n",
       "      <th></th>\n",
       "      <th>smoke</th>\n",
       "      <th>tar</th>\n",
       "      <th>cancer</th>\n",
       "    </tr>\n",
       "  </thead>\n",
       "  <tbody>\n",
       "    <tr>\n",
       "      <th>305</th>\n",
       "      <td>1</td>\n",
       "      <td>1</td>\n",
       "      <td>0</td>\n",
       "    </tr>\n",
       "    <tr>\n",
       "      <th>638</th>\n",
       "      <td>0</td>\n",
       "      <td>0</td>\n",
       "      <td>1</td>\n",
       "    </tr>\n",
       "    <tr>\n",
       "      <th>719</th>\n",
       "      <td>0</td>\n",
       "      <td>0</td>\n",
       "      <td>1</td>\n",
       "    </tr>\n",
       "    <tr>\n",
       "      <th>365</th>\n",
       "      <td>1</td>\n",
       "      <td>1</td>\n",
       "      <td>1</td>\n",
       "    </tr>\n",
       "    <tr>\n",
       "      <th>459</th>\n",
       "      <td>0</td>\n",
       "      <td>0</td>\n",
       "      <td>1</td>\n",
       "    </tr>\n",
       "  </tbody>\n",
       "</table>\n",
       "</div>"
      ],
      "text/plain": [
       "     smoke  tar  cancer\n",
       "305      1    1       0\n",
       "638      0    0       1\n",
       "719      0    0       1\n",
       "365      1    1       1\n",
       "459      0    0       1"
      ]
     },
     "execution_count": 34,
     "metadata": {},
     "output_type": "execute_result"
    }
   ],
   "source": [
    "smoke = []\n",
    "cancer = []\n",
    "tar = []\n",
    "\n",
    "smoke += [1] * 323\n",
    "cancer += [0]*323\n",
    "tar+=[1]*323\n",
    "\n",
    "smoke+=[0]\n",
    "cancer+=[0]\n",
    "tar+=[1]\n",
    "\n",
    "smoke+=[1]*57\n",
    "cancer+=[1]*57\n",
    "tar+=[1]*57\n",
    "\n",
    "smoke+=[0]*19\n",
    "cancer+=[1]*19\n",
    "tar+=[1]*19\n",
    "\n",
    "\n",
    "smoke+=[1]*18\n",
    "cancer+=[0]*18\n",
    "tar+=[0]*18\n",
    "\n",
    "smoke+=[0]*38\n",
    "cancer+=[0]*38\n",
    "tar+=[0]*38\n",
    "\n",
    "smoke+=[1]*2\n",
    "cancer+=[1]*2\n",
    "tar+=[0]*2\n",
    "\n",
    "smoke+=[0]*342\n",
    "cancer+=[1]*342\n",
    "tar+=[0]*342\n",
    "\n",
    "dataframe = pd.DataFrame({'smoke':smoke, 'tar':tar, 'cancer':cancer})\n",
    "dataframe.sample(5)"
   ]
  },
  {
   "cell_type": "markdown",
   "metadata": {},
   "source": [
    "### Строим граф"
   ]
  },
  {
   "cell_type": "code",
   "execution_count": 35,
   "metadata": {},
   "outputs": [],
   "source": [
    "g = nx.DiGraph()"
   ]
  },
  {
   "cell_type": "code",
   "execution_count": 36,
   "metadata": {},
   "outputs": [],
   "source": [
    "g.add_nodes_from(['smoke','cancer','tar'])\n",
    "g.add_edges_from([('tar','cancer'),('smoke','tar')])"
   ]
  },
  {
   "cell_type": "code",
   "execution_count": 37,
   "metadata": {},
   "outputs": [
    {
     "name": "stderr",
     "output_type": "stream",
     "text": [
      "/home/twlvth/.pyenv/versions/venv3.7/lib/python3.7/site-packages/networkx/drawing/nx_pylab.py:579: MatplotlibDeprecationWarning: \n",
      "The iterable function was deprecated in Matplotlib 3.1 and will be removed in 3.3. Use np.iterable instead.\n",
      "  if not cb.iterable(width):\n",
      "/home/twlvth/.pyenv/versions/venv3.7/lib/python3.7/site-packages/networkx/drawing/nx_pylab.py:676: MatplotlibDeprecationWarning: \n",
      "The iterable function was deprecated in Matplotlib 3.1 and will be removed in 3.3. Use np.iterable instead.\n",
      "  if cb.iterable(node_size):  # many node sizes\n"
     ]
    },
    {
     "data": {
      "image/png": "[encoded data removed]",
      "text/plain": [
       "<Figure size 432x288 with 1 Axes>"
      ]
     },
     "metadata": {},
     "output_type": "display_data"
    }
   ],
   "source": [
    "nx.draw_networkx(g)"
   ]
  },
  {
   "cell_type": "markdown",
   "metadata": {},
   "source": [
    "### Иследуем причинность"
   ]
  },
  {
   "cell_type": "code",
   "execution_count": 38,
   "metadata": {},
   "outputs": [
    {
     "data": {
      "text/plain": [
       "{'smoke'}"
      ]
     },
     "execution_count": 38,
     "metadata": {},
     "output_type": "execute_result"
    }
   ],
   "source": [
    "from causality.estimation.adjustments import AdjustForDirectCauses\n",
    "from causality.estimation.nonparametric import CausalEffect\n",
    "adjustment = AdjustForDirectCauses()\n",
    "admissable_set = adjustment.admissable_set(g, ['tar'], ['cancer'])\n",
    "admissable_set"
   ]
  },
  {
   "cell_type": "code",
   "execution_count": 39,
   "metadata": {},
   "outputs": [
    {
     "data": {
      "text/plain": [
       "Index(['smoke', 'tar', 'cancer'], dtype='object')"
      ]
     },
     "execution_count": 39,
     "metadata": {},
     "output_type": "execute_result"
    }
   ],
   "source": [
    "dataframe.columns"
   ]
  },
  {
   "cell_type": "code",
   "execution_count": 40,
   "metadata": {},
   "outputs": [],
   "source": [
    "effect = CausalEffect(dataframe.sample(299), \n",
    "                      ['smoke'], ['cancer'], \n",
    "                      variable_types={'smoke': 'u', 'cancer': 'u', 'tar': 'u'},\n",
    "                      admissable_set=[])"
   ]
  },
  {
   "cell_type": "code",
   "execution_count": 41,
   "metadata": {},
   "outputs": [],
   "source": [
    "smoke = pd.DataFrame({'smoke': [1], 'cancer': [1]})\n",
    "nsmoke = pd.DataFrame({'smoke': [0], 'cancer': [1]})"
   ]
  },
  {
   "cell_type": "code",
   "execution_count": 42,
   "metadata": {},
   "outputs": [
    {
     "data": {
      "text/plain": [
       "-0.5949985668534259"
      ]
     },
     "execution_count": 42,
     "metadata": {},
     "output_type": "execute_result"
    }
   ],
   "source": [
    "effect.pdf(smoke) - effect.pdf(nsmoke)"
   ]
  },
  {
   "cell_type": "code",
   "execution_count": 43,
   "metadata": {},
   "outputs": [
    {
     "data": {
      "text/plain": [
       "array(0.25044395)"
      ]
     },
     "execution_count": 43,
     "metadata": {},
     "output_type": "execute_result"
    }
   ],
   "source": [
    "effect.pdf(smoke)"
   ]
  },
  {
   "cell_type": "code",
   "execution_count": 44,
   "metadata": {},
   "outputs": [
    {
     "data": {
      "text/plain": [
       "array(0.84544252)"
      ]
     },
     "execution_count": 44,
     "metadata": {},
     "output_type": "execute_result"
    }
   ],
   "source": [
    "effect.pdf(nsmoke)"
   ]
  }
 ],
 "metadata": {
  "kernelspec": {
   "display_name": "Python 3.7.3 (pyenv)",
   "language": "python",
   "name": "venv3.7"
  },
  "language_info": {
   "codemirror_mode": {
    "name": "ipython",
    "version": 3
   },
   "file_extension": ".py",
   "mimetype": "text/x-python",
   "name": "python",
   "nbconvert_exporter": "python",
   "pygments_lexer": "ipython3",
   "version": "3.7.3"
  }
 },
 "nbformat": 4,
 "nbformat_minor": 4
}
