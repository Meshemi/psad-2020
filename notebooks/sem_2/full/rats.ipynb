{
 "cells": [
  {
   "cell_type": "markdown",
   "metadata": {},
   "source": [
    "# Продолжительность жизни крыс\n",
    "\n",
    "В исследовании принимало участие 195 крыс. 106 из них держали на строгой диете, оставшиеся 89 — на диете ad libitum. \n",
    "\n",
    "Имеющиеся данные: продолжительность жизни крыс в каждой из групп. Влияет ли диета на продолжительность жизни?"
   ]
  },
  {
   "cell_type": "code",
   "execution_count": 2,
   "metadata": {},
   "outputs": [],
   "source": [
    "import numpy as np\n",
    "import matplotlib.pylab as plt\n",
    "%matplotlib inline\n",
    "import scipy.stats as st\n",
    "from statsmodels.distributions.empirical_distribution import ECDF\n",
    "import seaborn as sns\n",
    "import pandas as pd"
   ]
  },
  {
   "cell_type": "code",
   "execution_count": 3,
   "metadata": {},
   "outputs": [],
   "source": [
    "rats = pd.read_csv('./rats.txt', delimiter='\\t')"
   ]
  },
  {
   "cell_type": "code",
   "execution_count": 4,
   "metadata": {},
   "outputs": [
    {
     "data": {
      "text/html": [
       "<div>\n",
       "<style scoped>\n",
       "    .dataframe tbody tr th:only-of-type {\n",
       "        vertical-align: middle;\n",
       "    }\n",
       "\n",
       "    .dataframe tbody tr th {\n",
       "        vertical-align: top;\n",
       "    }\n",
       "\n",
       "    .dataframe thead th {\n",
       "        text-align: right;\n",
       "    }\n",
       "</style>\n",
       "<table border=\"1\" class=\"dataframe\">\n",
       "  <thead>\n",
       "    <tr style=\"text-align: right;\">\n",
       "      <th></th>\n",
       "      <th>lifespan</th>\n",
       "      <th>diet</th>\n",
       "    </tr>\n",
       "  </thead>\n",
       "  <tbody>\n",
       "    <tr>\n",
       "      <th>0</th>\n",
       "      <td>105</td>\n",
       "      <td>restricted</td>\n",
       "    </tr>\n",
       "    <tr>\n",
       "      <th>1</th>\n",
       "      <td>193</td>\n",
       "      <td>restricted</td>\n",
       "    </tr>\n",
       "    <tr>\n",
       "      <th>2</th>\n",
       "      <td>211</td>\n",
       "      <td>restricted</td>\n",
       "    </tr>\n",
       "    <tr>\n",
       "      <th>3</th>\n",
       "      <td>236</td>\n",
       "      <td>restricted</td>\n",
       "    </tr>\n",
       "    <tr>\n",
       "      <th>4</th>\n",
       "      <td>302</td>\n",
       "      <td>restricted</td>\n",
       "    </tr>\n",
       "  </tbody>\n",
       "</table>\n",
       "</div>"
      ],
      "text/plain": [
       "   lifespan        diet\n",
       "0       105  restricted\n",
       "1       193  restricted\n",
       "2       211  restricted\n",
       "3       236  restricted\n",
       "4       302  restricted"
      ]
     },
     "execution_count": 4,
     "metadata": {},
     "output_type": "execute_result"
    }
   ],
   "source": [
    "rats.head()"
   ]
  },
  {
   "cell_type": "code",
   "execution_count": 6,
   "metadata": {},
   "outputs": [],
   "source": [
    "x1 = rats.loc[rats['diet'] == 'restricted']['lifespan'].values\n",
    "x2 = rats.loc[rats['diet'] == 'ad libitum']['lifespan'].values"
   ]
  },
  {
   "cell_type": "code",
   "execution_count": 7,
   "metadata": {},
   "outputs": [
    {
     "data": {
      "image/png": "[encoded data removed]",
      "text/plain": [
       "<Figure size 432x288 with 1 Axes>"
      ]
     },
     "metadata": {
      "needs_background": "light"
     },
     "output_type": "display_data"
    },
    {
     "data": {
      "text/plain": [
       "<matplotlib.axes._subplots.AxesSubplot at 0x7f4d7bac7c18>"
      ]
     },
     "execution_count": 7,
     "metadata": {},
     "output_type": "execute_result"
    },
    {
     "data": {
      "image/png": "[encoded data removed]",
      "text/plain": [
       "<Figure size 432x288 with 1 Axes>"
      ]
     },
     "metadata": {
      "needs_background": "light"
     },
     "output_type": "display_data"
    }
   ],
   "source": [
    "plt.title('restricted')\n",
    "sns.boxplot(x= x1)\n",
    "plt.show()\n",
    "plt.title('ad libitum')\n",
    "sns.boxplot(x= x2)"
   ]
  },
  {
   "cell_type": "code",
   "execution_count": 17,
   "metadata": {},
   "outputs": [
    {
     "data": {
      "text/plain": [
       "{'_agg_filter': None,\n",
       " '_alpha': None,\n",
       " '_animated': False,\n",
       " '_antialiased': True,\n",
       " '_axes': <matplotlib.axes._subplots.AxesSubplot at 0x7f4d7bafecc0>,\n",
       " '_clipon': True,\n",
       " '_clippath': None,\n",
       " '_color': 'black',\n",
       " '_contains': None,\n",
       " '_dashOffset': None,\n",
       " '_dashSeq': None,\n",
       " '_dashcapstyle': 'butt',\n",
       " '_dashjoinstyle': 'round',\n",
       " '_drawstyle': 'default',\n",
       " '_gid': None,\n",
       " '_in_layout': True,\n",
       " '_invalidx': False,\n",
       " '_invalidy': False,\n",
       " '_label': '_line1',\n",
       " '_linestyle': '-',\n",
       " '_linestyles': None,\n",
       " '_linewidth': 1.0,\n",
       " '_marker': <matplotlib.markers.MarkerStyle at 0x7f4d7b3420f0>,\n",
       " '_markeredgecolor': 'auto',\n",
       " '_markeredgewidth': 1.0,\n",
       " '_markerfacecolor': 'auto',\n",
       " '_markerfacecoloralt': 'none',\n",
       " '_markersize': 6.0,\n",
       " '_markevery': None,\n",
       " '_mouseover': False,\n",
       " '_oid': 0,\n",
       " '_path': Path(array([[  1., 648.],\n",
       "        [  1., 479.]]), None),\n",
       " '_path_effects': [],\n",
       " '_picker': None,\n",
       " '_propobservers': {},\n",
       " '_rasterized': None,\n",
       " '_remove_method': <function list.remove>,\n",
       " '_sketch': None,\n",
       " '_snap': None,\n",
       " '_solidcapstyle': 'projecting',\n",
       " '_solidjoinstyle': 'round',\n",
       " '_stale': True,\n",
       " '_sticky_edges': _XYPair(x=[], y=[]),\n",
       " '_subslice': False,\n",
       " '_transform': <matplotlib.transforms.CompositeGenericTransform at 0x7f4d7b86dfd0>,\n",
       " '_transformSet': True,\n",
       " '_transformed_path': None,\n",
       " '_url': None,\n",
       " '_us_dashOffset': None,\n",
       " '_us_dashSeq': None,\n",
       " '_visible': True,\n",
       " '_x': array([1., 1.]),\n",
       " '_x_filled': None,\n",
       " '_xcid': 2,\n",
       " '_xorig': array([1., 1.]),\n",
       " '_xy': array([[  1., 648.],\n",
       "        [  1., 479.]]),\n",
       " '_y': array([648., 479.]),\n",
       " '_ycid': 2,\n",
       " '_yorig': array([648., 479.]),\n",
       " 'clipbox': <matplotlib.transforms.TransformedBbox at 0x7f4d7b3422e8>,\n",
       " 'eventson': False,\n",
       " 'figure': <Figure size 432x288 with 1 Axes>,\n",
       " 'ind_offset': 0,\n",
       " 'pickradius': 5,\n",
       " 'stale_callback': <function matplotlib.artist._stale_axes_callback(self, val)>,\n",
       " 'verticalOffset': None,\n",
       " 'zorder': 2}"
      ]
     },
     "execution_count": 17,
     "metadata": {},
     "output_type": "execute_result"
    },
    {
     "data": {
      "image/png": "[encoded data removed]",
      "text/plain": [
       "<Figure size 432x288 with 1 Axes>"
      ]
     },
     "metadata": {
      "needs_background": "light"
     },
     "output_type": "display_data"
    }
   ],
   "source": [
    "plt.boxplot(x2)['whiskers'][0].__dict__"
   ]
  },
  {
   "cell_type": "code",
   "execution_count": 19,
   "metadata": {},
   "outputs": [
    {
     "data": {
      "text/plain": [
       "<matplotlib.legend.Legend at 0x7fe4bb5024e0>"
      ]
     },
     "execution_count": 19,
     "metadata": {},
     "output_type": "execute_result"
    },
    {
     "data": {
      "image/png": "[encoded data removed]",
      "text/plain": [
       "<Figure size 432x288 with 1 Axes>"
      ]
     },
     "metadata": {
      "needs_background": "light"
     },
     "output_type": "display_data"
    }
   ],
   "source": [
    "plt.hist(x1, label='restricted')\n",
    "plt.hist(x2, alpha=0.5, label='ad libitum')\n",
    "plt.legend(loc='best')"
   ]
  },
  {
   "cell_type": "markdown",
   "metadata": {},
   "source": [
    "# Нормальность\n",
    "Проверим нормальность выборок: "
   ]
  },
  {
   "cell_type": "code",
   "execution_count": 20,
   "metadata": {},
   "outputs": [
    {
     "data": {
      "image/png": "[encoded data removed]",
      "text/plain": [
       "<Figure size 432x288 with 1 Axes>"
      ]
     },
     "metadata": {
      "needs_background": "light"
     },
     "output_type": "display_data"
    },
    {
     "data": {
      "image/png": "[encoded data removed]",
      "text/plain": [
       "<Figure size 432x288 with 1 Axes>"
      ]
     },
     "metadata": {
      "needs_background": "light"
     },
     "output_type": "display_data"
    }
   ],
   "source": [
    "_ = st.probplot(x1, plot=plt)\n",
    "plt.show()\n",
    "_ = st.probplot(x2, plot=plt)"
   ]
  },
  {
   "cell_type": "code",
   "execution_count": 22,
   "metadata": {},
   "outputs": [
    {
     "name": "stdout",
     "output_type": "stream",
     "text": [
      "(0.9036345481872559, 1.1565858812900842e-06)\n",
      "(0.8444006443023682, 3.081509092339729e-08)\n",
      "(0.9769284725189209, 0.0026380273047834635)\n"
     ]
    }
   ],
   "source": [
    "print (st.shapiro(x1))\n",
    "print (st.shapiro(x2))\n",
    "print (st.shapiro(rats['lifespan'].values))\n"
   ]
  },
  {
   "cell_type": "markdown",
   "metadata": {},
   "source": [
    "Нормальность в обоих случаях отвергается. Попробуем исключить крыс, проживших меньше 400 дней (например, можно предположить, что смерть раньше этого срока вызывается причинами, не связанными с диетой)."
   ]
  },
  {
   "cell_type": "code",
   "execution_count": 23,
   "metadata": {},
   "outputs": [],
   "source": [
    "x1c = x1[np.where(x1>=400)[0]]\n",
    "x2c = x2[np.where(x2>=400)[0]]"
   ]
  },
  {
   "cell_type": "code",
   "execution_count": 24,
   "metadata": {},
   "outputs": [
    {
     "data": {
      "image/png": "[encoded data removed]",
      "text/plain": [
       "<Figure size 432x288 with 1 Axes>"
      ]
     },
     "metadata": {
      "needs_background": "light"
     },
     "output_type": "display_data"
    },
    {
     "data": {
      "image/png": "[encoded data removed]",
      "text/plain": [
       "<Figure size 432x288 with 1 Axes>"
      ]
     },
     "metadata": {
      "needs_background": "light"
     },
     "output_type": "display_data"
    }
   ],
   "source": [
    "_ = st.probplot(x1c, plot=plt)\n",
    "plt.show()\n",
    "_ = st.probplot(x2c, plot=plt)"
   ]
  },
  {
   "cell_type": "code",
   "execution_count": 26,
   "metadata": {},
   "outputs": [
    {
     "name": "stdout",
     "output_type": "stream",
     "text": [
      "(0.9738006591796875, 0.04921640083193779)\n",
      "(0.9765744209289551, 0.11983636021614075)\n"
     ]
    }
   ],
   "source": [
    "print (st.shapiro(x1c))\n",
    "print (st.shapiro(x2c))\n",
    "\n"
   ]
  },
  {
   "cell_type": "markdown",
   "metadata": {},
   "source": [
    "Усечённые выборки можно считать практически нормальными."
   ]
  },
  {
   "cell_type": "markdown",
   "metadata": {},
   "source": [
    "# Сравнение средних\n",
    "$H_0$: продолжительность жизни крыс не меняется при ограничении диеты.\n",
    "\n",
    "$H_1$: крысы на строгой диете живут дольше.\n",
    "\n"
   ]
  },
  {
   "cell_type": "code",
   "execution_count": 29,
   "metadata": {},
   "outputs": [
    {
     "data": {
      "text/plain": [
       "(14.527701019046814, 3.941182274101304e-30, 141.33154919379604)"
      ]
     },
     "execution_count": 29,
     "metadata": {},
     "output_type": "execute_result"
    }
   ],
   "source": [
    "from statsmodels.stats.weightstats import ttest_ind\n",
    "ttest_ind(x1c*1.0,x2c*1.0, alternative='larger', usevar='unequal')"
   ]
  },
  {
   "cell_type": "code",
   "execution_count": 30,
   "metadata": {},
   "outputs": [
    {
     "data": {
      "text/plain": [
       "(14.527701019046814, 7.882364548202608e-30, 141.33154919379604)"
      ]
     },
     "execution_count": 30,
     "metadata": {},
     "output_type": "execute_result"
    }
   ],
   "source": [
    "ttest_ind(x1c*1.0,x2c*1.0, alternative='two-sided', usevar='unequal')"
   ]
  },
  {
   "cell_type": "markdown",
   "metadata": {},
   "source": [
    "На полных выборках:"
   ]
  },
  {
   "cell_type": "code",
   "execution_count": 31,
   "metadata": {},
   "outputs": [
    {
     "data": {
      "text/plain": [
       "(9.161061040974156, 1.4580405594293205e-16, 154.9404956691433)"
      ]
     },
     "execution_count": 31,
     "metadata": {},
     "output_type": "execute_result"
    }
   ],
   "source": [
    "ttest_ind(x1*1.0,x2*1.0, alternative='larger', usevar='unequal')"
   ]
  },
  {
   "cell_type": "code",
   "execution_count": 32,
   "metadata": {},
   "outputs": [
    {
     "data": {
      "text/plain": [
       "(9.161061040974156, 2.916081118858641e-16, 154.9404956691433)"
      ]
     },
     "execution_count": 32,
     "metadata": {},
     "output_type": "execute_result"
    }
   ],
   "source": [
    "ttest_ind(x1*1.0,x2*1.0, alternative='two-sided', usevar='unequal')"
   ]
  },
  {
   "cell_type": "markdown",
   "metadata": {},
   "source": [
    "**Weindruch R., Walford R.L. The Retardation of Aging and Disease by Dietary Restriction. Springfield: Charles C. Thomas, 1988.**"
   ]
  }
 ],
 "metadata": {
  "kernelspec": {
   "display_name": "Python 3",
   "language": "python",
   "name": "python3"
  },
  "language_info": {
   "codemirror_mode": {
    "name": "ipython",
    "version": 3
   },
   "file_extension": ".py",
   "mimetype": "text/x-python",
   "name": "python",
   "nbconvert_exporter": "python",
   "pygments_lexer": "ipython3",
   "version": "3.5.2"
  }
 },
 "nbformat": 4,
 "nbformat_minor": 2
}
