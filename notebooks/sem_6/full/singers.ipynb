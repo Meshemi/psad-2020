{
 "cells": [
  {
   "cell_type": "markdown",
   "metadata": {},
   "source": [
    "# Рост певцов хора\n",
    "В\n",
    "1979 году было опрошено 235 членов нью-йоркской ассоциации хорового пения, для каждого из них известен рост и регистр голоса. Меняется ли средний рост вместе с регистром?\n",
    "\n"
   ]
  },
  {
   "cell_type": "markdown",
   "metadata": {},
   "source": [
    "## Загрузим данные и посмотрим на них"
   ]
  },
  {
   "cell_type": "code",
   "execution_count": 49,
   "metadata": {},
   "outputs": [],
   "source": [
    "import numpy as np\n",
    "import matplotlib.pyplot as plt\n",
    "%matplotlib inline\n",
    "import scipy.stats as st\n",
    "import pandas as pd\n",
    "import seaborn as sns"
   ]
  },
  {
   "cell_type": "code",
   "execution_count": 50,
   "metadata": {},
   "outputs": [],
   "source": [
    "import statsmodels.api as sm"
   ]
  },
  {
   "cell_type": "code",
   "execution_count": 51,
   "metadata": {},
   "outputs": [
    {
     "data": {
      "text/html": [
       "<div>\n",
       "<style scoped>\n",
       "    .dataframe tbody tr th:only-of-type {\n",
       "        vertical-align: middle;\n",
       "    }\n",
       "\n",
       "    .dataframe tbody tr th {\n",
       "        vertical-align: top;\n",
       "    }\n",
       "\n",
       "    .dataframe thead th {\n",
       "        text-align: right;\n",
       "    }\n",
       "</style>\n",
       "<table border=\"1\" class=\"dataframe\">\n",
       "  <thead>\n",
       "    <tr style=\"text-align: right;\">\n",
       "      <th></th>\n",
       "      <th>height</th>\n",
       "      <th>voice.part</th>\n",
       "    </tr>\n",
       "  </thead>\n",
       "  <tbody>\n",
       "    <tr>\n",
       "      <th>0</th>\n",
       "      <td>64</td>\n",
       "      <td>Soprano 1</td>\n",
       "    </tr>\n",
       "    <tr>\n",
       "      <th>1</th>\n",
       "      <td>62</td>\n",
       "      <td>Soprano 1</td>\n",
       "    </tr>\n",
       "    <tr>\n",
       "      <th>2</th>\n",
       "      <td>66</td>\n",
       "      <td>Soprano 1</td>\n",
       "    </tr>\n",
       "    <tr>\n",
       "      <th>3</th>\n",
       "      <td>65</td>\n",
       "      <td>Soprano 1</td>\n",
       "    </tr>\n",
       "    <tr>\n",
       "      <th>4</th>\n",
       "      <td>60</td>\n",
       "      <td>Soprano 1</td>\n",
       "    </tr>\n",
       "  </tbody>\n",
       "</table>\n",
       "</div>"
      ],
      "text/plain": [
       "   height voice.part\n",
       "0      64  Soprano 1\n",
       "1      62  Soprano 1\n",
       "2      66  Soprano 1\n",
       "3      65  Soprano 1\n",
       "4      60  Soprano 1"
      ]
     },
     "execution_count": 51,
     "metadata": {},
     "output_type": "execute_result"
    }
   ],
   "source": [
    "data =  sm.datasets.get_rdataset(\"singer\", \"lattice\").data\n",
    "data.head()"
   ]
  },
  {
   "cell_type": "markdown",
   "metadata": {},
   "source": [
    "Переименуем 2 колонку и переведем рост в сантиметры"
   ]
  },
  {
   "cell_type": "code",
   "execution_count": 52,
   "metadata": {},
   "outputs": [],
   "source": [
    "data.columns = ['height', 'voice']\n",
    "data['height'] *= 2.54"
   ]
  },
  {
   "cell_type": "code",
   "execution_count": 53,
   "metadata": {},
   "outputs": [
    {
     "data": {
      "text/html": [
       "<div>\n",
       "<style scoped>\n",
       "    .dataframe tbody tr th:only-of-type {\n",
       "        vertical-align: middle;\n",
       "    }\n",
       "\n",
       "    .dataframe tbody tr th {\n",
       "        vertical-align: top;\n",
       "    }\n",
       "\n",
       "    .dataframe thead th {\n",
       "        text-align: right;\n",
       "    }\n",
       "</style>\n",
       "<table border=\"1\" class=\"dataframe\">\n",
       "  <thead>\n",
       "    <tr style=\"text-align: right;\">\n",
       "      <th></th>\n",
       "      <th>height</th>\n",
       "      <th>voice</th>\n",
       "    </tr>\n",
       "  </thead>\n",
       "  <tbody>\n",
       "    <tr>\n",
       "      <th>0</th>\n",
       "      <td>162.56</td>\n",
       "      <td>Soprano 1</td>\n",
       "    </tr>\n",
       "    <tr>\n",
       "      <th>1</th>\n",
       "      <td>157.48</td>\n",
       "      <td>Soprano 1</td>\n",
       "    </tr>\n",
       "    <tr>\n",
       "      <th>2</th>\n",
       "      <td>167.64</td>\n",
       "      <td>Soprano 1</td>\n",
       "    </tr>\n",
       "    <tr>\n",
       "      <th>3</th>\n",
       "      <td>165.10</td>\n",
       "      <td>Soprano 1</td>\n",
       "    </tr>\n",
       "    <tr>\n",
       "      <th>4</th>\n",
       "      <td>152.40</td>\n",
       "      <td>Soprano 1</td>\n",
       "    </tr>\n",
       "  </tbody>\n",
       "</table>\n",
       "</div>"
      ],
      "text/plain": [
       "   height      voice\n",
       "0  162.56  Soprano 1\n",
       "1  157.48  Soprano 1\n",
       "2  167.64  Soprano 1\n",
       "3  165.10  Soprano 1\n",
       "4  152.40  Soprano 1"
      ]
     },
     "execution_count": 53,
     "metadata": {},
     "output_type": "execute_result"
    }
   ],
   "source": [
    "data.head()"
   ]
  },
  {
   "cell_type": "code",
   "execution_count": 54,
   "metadata": {},
   "outputs": [
    {
     "data": {
      "text/html": [
       "<div>\n",
       "<style scoped>\n",
       "    .dataframe tbody tr th:only-of-type {\n",
       "        vertical-align: middle;\n",
       "    }\n",
       "\n",
       "    .dataframe tbody tr th {\n",
       "        vertical-align: top;\n",
       "    }\n",
       "\n",
       "    .dataframe thead th {\n",
       "        text-align: right;\n",
       "    }\n",
       "</style>\n",
       "<table border=\"1\" class=\"dataframe\">\n",
       "  <thead>\n",
       "    <tr style=\"text-align: right;\">\n",
       "      <th></th>\n",
       "      <th>height</th>\n",
       "    </tr>\n",
       "  </thead>\n",
       "  <tbody>\n",
       "    <tr>\n",
       "      <th>count</th>\n",
       "      <td>235.000000</td>\n",
       "    </tr>\n",
       "    <tr>\n",
       "      <th>mean</th>\n",
       "      <td>170.936596</td>\n",
       "    </tr>\n",
       "    <tr>\n",
       "      <th>std</th>\n",
       "      <td>9.714908</td>\n",
       "    </tr>\n",
       "    <tr>\n",
       "      <th>min</th>\n",
       "      <td>152.400000</td>\n",
       "    </tr>\n",
       "    <tr>\n",
       "      <th>25%</th>\n",
       "      <td>165.100000</td>\n",
       "    </tr>\n",
       "    <tr>\n",
       "      <th>50%</th>\n",
       "      <td>170.180000</td>\n",
       "    </tr>\n",
       "    <tr>\n",
       "      <th>75%</th>\n",
       "      <td>177.800000</td>\n",
       "    </tr>\n",
       "    <tr>\n",
       "      <th>max</th>\n",
       "      <td>193.040000</td>\n",
       "    </tr>\n",
       "  </tbody>\n",
       "</table>\n",
       "</div>"
      ],
      "text/plain": [
       "           height\n",
       "count  235.000000\n",
       "mean   170.936596\n",
       "std      9.714908\n",
       "min    152.400000\n",
       "25%    165.100000\n",
       "50%    170.180000\n",
       "75%    177.800000\n",
       "max    193.040000"
      ]
     },
     "execution_count": 54,
     "metadata": {},
     "output_type": "execute_result"
    }
   ],
   "source": [
    "data.describe()"
   ]
  },
  {
   "cell_type": "code",
   "execution_count": 55,
   "metadata": {},
   "outputs": [
    {
     "data": {
      "image/png": "[encoded data removed]",
      "text/plain": [
       "<Figure size 432x288 with 1 Axes>"
      ]
     },
     "metadata": {
      "needs_background": "light"
     },
     "output_type": "display_data"
    }
   ],
   "source": [
    "_ = sns.boxplot(x='height', y='voice', data=data)"
   ]
  },
  {
   "cell_type": "markdown",
   "metadata": {},
   "source": [
    "## Однофакторный дисперсионный анализ:"
   ]
  },
  {
   "cell_type": "code",
   "execution_count": 56,
   "metadata": {},
   "outputs": [],
   "source": [
    "import statsmodels.api as sm\n",
    "from statsmodels.formula.api import ols"
   ]
  },
  {
   "cell_type": "code",
   "execution_count": 57,
   "metadata": {},
   "outputs": [
    {
     "data": {
      "text/html": [
       "<div>\n",
       "<style scoped>\n",
       "    .dataframe tbody tr th:only-of-type {\n",
       "        vertical-align: middle;\n",
       "    }\n",
       "\n",
       "    .dataframe tbody tr th {\n",
       "        vertical-align: top;\n",
       "    }\n",
       "\n",
       "    .dataframe thead th {\n",
       "        text-align: right;\n",
       "    }\n",
       "</style>\n",
       "<table border=\"1\" class=\"dataframe\">\n",
       "  <thead>\n",
       "    <tr style=\"text-align: right;\">\n",
       "      <th></th>\n",
       "      <th>df</th>\n",
       "      <th>sum_sq</th>\n",
       "      <th>mean_sq</th>\n",
       "      <th>F</th>\n",
       "      <th>PR(&gt;F)</th>\n",
       "    </tr>\n",
       "  </thead>\n",
       "  <tbody>\n",
       "    <tr>\n",
       "      <th>C(voice)</th>\n",
       "      <td>7.0</td>\n",
       "      <td>12911.303982</td>\n",
       "      <td>1844.471997</td>\n",
       "      <td>45.641891</td>\n",
       "      <td>5.617050e-40</td>\n",
       "    </tr>\n",
       "    <tr>\n",
       "      <th>Residual</th>\n",
       "      <td>227.0</td>\n",
       "      <td>9173.483695</td>\n",
       "      <td>40.411822</td>\n",
       "      <td>NaN</td>\n",
       "      <td>NaN</td>\n",
       "    </tr>\n",
       "  </tbody>\n",
       "</table>\n",
       "</div>"
      ],
      "text/plain": [
       "             df        sum_sq      mean_sq          F        PR(>F)\n",
       "C(voice)    7.0  12911.303982  1844.471997  45.641891  5.617050e-40\n",
       "Residual  227.0   9173.483695    40.411822        NaN           NaN"
      ]
     },
     "execution_count": 57,
     "metadata": {},
     "output_type": "execute_result"
    }
   ],
   "source": [
    "lm = ols('height ~ C(voice)', data=data).fit()\n",
    "table = sm.stats.anova_lm(lm)\n",
    "table"
   ]
  },
  {
   "cell_type": "markdown",
   "metadata": {},
   "source": [
    "Ожидаемое p-value ~ `5.6e-40`"
   ]
  },
  {
   "cell_type": "code",
   "execution_count": 58,
   "metadata": {},
   "outputs": [
    {
     "data": {
      "text/html": [
       "<div>\n",
       "<style scoped>\n",
       "    .dataframe tbody tr th:only-of-type {\n",
       "        vertical-align: middle;\n",
       "    }\n",
       "\n",
       "    .dataframe tbody tr th {\n",
       "        vertical-align: top;\n",
       "    }\n",
       "\n",
       "    .dataframe thead th {\n",
       "        text-align: right;\n",
       "    }\n",
       "</style>\n",
       "<table border=\"1\" class=\"dataframe\">\n",
       "  <thead>\n",
       "    <tr style=\"text-align: right;\">\n",
       "      <th></th>\n",
       "      <th>height</th>\n",
       "    </tr>\n",
       "    <tr>\n",
       "      <th>voice</th>\n",
       "      <th></th>\n",
       "    </tr>\n",
       "  </thead>\n",
       "  <tbody>\n",
       "    <tr>\n",
       "      <th>Alto 1</th>\n",
       "      <td>164.809714</td>\n",
       "    </tr>\n",
       "    <tr>\n",
       "      <th>Alto 2</th>\n",
       "      <td>167.734074</td>\n",
       "    </tr>\n",
       "    <tr>\n",
       "      <th>Bass 1</th>\n",
       "      <td>179.623590</td>\n",
       "    </tr>\n",
       "    <tr>\n",
       "      <th>Bass 2</th>\n",
       "      <td>181.316923</td>\n",
       "    </tr>\n",
       "    <tr>\n",
       "      <th>Soprano 1</th>\n",
       "      <td>163.195000</td>\n",
       "    </tr>\n",
       "    <tr>\n",
       "      <th>Soprano 2</th>\n",
       "      <td>162.475333</td>\n",
       "    </tr>\n",
       "    <tr>\n",
       "      <th>Tenor 1</th>\n",
       "      <td>175.018095</td>\n",
       "    </tr>\n",
       "    <tr>\n",
       "      <th>Tenor 2</th>\n",
       "      <td>177.558095</td>\n",
       "    </tr>\n",
       "  </tbody>\n",
       "</table>\n",
       "</div>"
      ],
      "text/plain": [
       "               height\n",
       "voice                \n",
       "Alto 1     164.809714\n",
       "Alto 2     167.734074\n",
       "Bass 1     179.623590\n",
       "Bass 2     181.316923\n",
       "Soprano 1  163.195000\n",
       "Soprano 2  162.475333\n",
       "Tenor 1    175.018095\n",
       "Tenor 2    177.558095"
      ]
     },
     "execution_count": 58,
     "metadata": {},
     "output_type": "execute_result"
    }
   ],
   "source": [
    "data.groupby('voice').mean()"
   ]
  },
  {
   "cell_type": "markdown",
   "metadata": {},
   "source": [
    "### Критерий Краскела-Уоллиса о равенстве средних:"
   ]
  },
  {
   "cell_type": "code",
   "execution_count": 59,
   "metadata": {},
   "outputs": [
    {
     "data": {
      "text/plain": [
       "KruskalResult(statistic=229.8276956364947, pvalue=5.399740283982908e-46)"
      ]
     },
     "execution_count": 59,
     "metadata": {},
     "output_type": "execute_result"
    }
   ],
   "source": [
    "st.kruskal(*data.groupby('voice').groups.values())"
   ]
  },
  {
   "cell_type": "markdown",
   "metadata": {},
   "source": [
    "### Критерий Бартлетта о равенстве дисперсий:"
   ]
  },
  {
   "cell_type": "code",
   "execution_count": 60,
   "metadata": {},
   "outputs": [
    {
     "data": {
      "text/plain": [
       "BartlettResult(statistic=18.417706445737398, pvalue=0.010221018996479406)"
      ]
     },
     "execution_count": 60,
     "metadata": {},
     "output_type": "execute_result"
    }
   ],
   "source": [
    "st.bartlett(*data.groupby('voice').groups.values())"
   ]
  },
  {
   "cell_type": "markdown",
   "metadata": {},
   "source": [
    "### HSD Тьюки:"
   ]
  },
  {
   "cell_type": "markdown",
   "metadata": {},
   "source": [
    "Проверяем существенность различий между группами"
   ]
  },
  {
   "cell_type": "code",
   "execution_count": 61,
   "metadata": {},
   "outputs": [
    {
     "name": "stdout",
     "output_type": "stream",
     "text": [
      "    Multiple Comparison of Means - Tukey HSD, FWER=0.05     \n",
      "============================================================\n",
      "  group1    group2  meandiff p-adj   lower    upper   reject\n",
      "------------------------------------------------------------\n",
      "   Alto 1    Alto 2   2.9244 0.6065  -2.0572   7.9059  False\n",
      "   Alto 1    Bass 1  14.8139  0.001  10.2856  19.3422   True\n",
      "   Alto 1    Bass 2  16.5072  0.001  11.4718  21.5426   True\n",
      "   Alto 1 Soprano 1  -1.6147    0.9  -6.2314    3.002  False\n",
      "   Alto 1 Soprano 2  -2.3344 0.7959  -7.1733   2.5046  False\n",
      "   Alto 1   Tenor 1  10.2084  0.001   4.8401  15.5767   True\n",
      "   Alto 1   Tenor 2  12.7484  0.001   7.3801  18.1167   True\n",
      "   Alto 2    Bass 1  11.8895  0.001   7.0205  16.7586   True\n",
      "   Alto 2    Bass 2  13.5828  0.001    8.239  18.9267   True\n",
      "   Alto 2 Soprano 1  -4.5391 0.0989  -9.4904   0.4123  False\n",
      "   Alto 2 Soprano 2  -5.2587 0.0423 -10.4179  -0.0995   True\n",
      "   Alto 2   Tenor 1    7.284 0.0027   1.6253  12.9427   True\n",
      "   Alto 2   Tenor 2    9.824  0.001   4.1653  15.4827   True\n",
      "   Bass 1    Bass 2   1.6933    0.9  -3.2307   6.6174  False\n",
      "   Bass 1 Soprano 1 -16.4286  0.001 -20.9236 -11.9335   True\n",
      "   Bass 1 Soprano 2 -17.1483  0.001 -21.8713 -12.4252   True\n",
      "   Bass 1   Tenor 1  -4.6055 0.1348  -9.8696   0.6586  False\n",
      "   Bass 1   Tenor 2  -2.0655    0.9  -7.3296   3.1986  False\n",
      "   Bass 2 Soprano 1 -18.1219  0.001 -23.1274 -13.1164   True\n",
      "   Bass 2 Soprano 2 -18.8416  0.001 -24.0527 -13.6304   True\n",
      "   Bass 2   Tenor 1  -6.2988 0.0192 -12.0049  -0.5927   True\n",
      "   Bass 2   Tenor 2  -3.7588 0.4754  -9.4649   1.9473  False\n",
      "Soprano 1 Soprano 2  -0.7197    0.9  -5.5275   4.0881  False\n",
      "Soprano 1   Tenor 1  11.8231  0.001   6.4828  17.1634   True\n",
      "Soprano 1   Tenor 2  14.3631  0.001   9.0228  19.7034   True\n",
      "Soprano 2   Tenor 1  12.5428  0.001   7.0092  18.0763   True\n",
      "Soprano 2   Tenor 2  15.0828  0.001   9.5492  20.6163   True\n",
      "  Tenor 1   Tenor 2     2.54    0.9   -3.462    8.542  False\n",
      "------------------------------------------------------------\n"
     ]
    }
   ],
   "source": [
    "from statsmodels.stats.multicomp import pairwise_tukeyhsd\n",
    "from statsmodels.stats.multicomp import MultiComparison\n",
    "mc = MultiComparison(data['height'], data['voice'])\n",
    "result = mc.tukeyhsd()\n",
    " \n",
    "print(result)"
   ]
  },
  {
   "cell_type": "markdown",
   "metadata": {},
   "source": [
    "## Итог:\n",
    "\n",
    "- в целом, тип голоса существенно влияет на рост\n",
    "- различия в этом влиянии присутствуют лишь между некоторыми парами голосов"
   ]
  },
  {
   "cell_type": "markdown",
   "metadata": {},
   "source": [
    "**Cleveland W. S. (1993) Visualizing Data. Summit, New Jersey: Hobart Press.**"
   ]
  }
 ],
 "metadata": {
  "kernelspec": {
   "display_name": "Python 3.6.6 (pyenv)",
   "language": "python",
   "name": "pyenv3.6.6"
  },
  "language_info": {
   "codemirror_mode": {
    "name": "ipython",
    "version": 3
   },
   "file_extension": ".py",
   "mimetype": "text/x-python",
   "name": "python",
   "nbconvert_exporter": "python",
   "pygments_lexer": "ipython3",
   "version": "3.6.6"
  }
 },
 "nbformat": 4,
 "nbformat_minor": 4
}
