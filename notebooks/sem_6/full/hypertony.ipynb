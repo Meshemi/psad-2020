{
 "cells": [
  {
   "cell_type": "markdown",
   "metadata": {},
   "source": [
    "# Лечение гипертонии\n",
    "\n",
    "72 пациента проходили лечение от гипертонии. Для лечения использовались три вида лекарств, при этом их эффект изучался как при использовании специальной диеты, так и в её отсутствии; кроме того, в половине случаев применялась психотерапия. Данные — артериальное давление пациента по окончании лечения.\n",
    "\n",
    "Требуется сравнить эффективность методов лечения гипертонии."
   ]
  },
  {
   "cell_type": "markdown",
   "metadata": {},
   "source": [
    "## Загрузим данные и посмотрим на них"
   ]
  },
  {
   "cell_type": "code",
   "execution_count": 1,
   "metadata": {},
   "outputs": [],
   "source": [
    "import numpy as np\n",
    "import matplotlib.pyplot as plt\n",
    "%matplotlib inline\n",
    "import scipy.stats as st\n",
    "import pandas as pd\n",
    "import seaborn as sns"
   ]
  },
  {
   "cell_type": "code",
   "execution_count": 2,
   "metadata": {},
   "outputs": [],
   "source": [
    "data = pd.read_csv('hyper.txt', delimiter='\\t')"
   ]
  },
  {
   "cell_type": "code",
   "execution_count": 3,
   "metadata": {},
   "outputs": [
    {
     "data": {
      "text/html": [
       "<div>\n",
       "<style scoped>\n",
       "    .dataframe tbody tr th:only-of-type {\n",
       "        vertical-align: middle;\n",
       "    }\n",
       "\n",
       "    .dataframe tbody tr th {\n",
       "        vertical-align: top;\n",
       "    }\n",
       "\n",
       "    .dataframe thead th {\n",
       "        text-align: right;\n",
       "    }\n",
       "</style>\n",
       "<table border=\"1\" class=\"dataframe\">\n",
       "  <thead>\n",
       "    <tr style=\"text-align: right;\">\n",
       "      <th></th>\n",
       "      <th>biofeedback</th>\n",
       "      <th>diet</th>\n",
       "      <th>drug</th>\n",
       "      <th>pressure</th>\n",
       "    </tr>\n",
       "  </thead>\n",
       "  <tbody>\n",
       "    <tr>\n",
       "      <th>0</th>\n",
       "      <td>present</td>\n",
       "      <td>absent</td>\n",
       "      <td>1</td>\n",
       "      <td>170</td>\n",
       "    </tr>\n",
       "    <tr>\n",
       "      <th>1</th>\n",
       "      <td>present</td>\n",
       "      <td>absent</td>\n",
       "      <td>1</td>\n",
       "      <td>175</td>\n",
       "    </tr>\n",
       "    <tr>\n",
       "      <th>2</th>\n",
       "      <td>present</td>\n",
       "      <td>absent</td>\n",
       "      <td>1</td>\n",
       "      <td>165</td>\n",
       "    </tr>\n",
       "    <tr>\n",
       "      <th>3</th>\n",
       "      <td>present</td>\n",
       "      <td>absent</td>\n",
       "      <td>1</td>\n",
       "      <td>180</td>\n",
       "    </tr>\n",
       "    <tr>\n",
       "      <th>4</th>\n",
       "      <td>present</td>\n",
       "      <td>absent</td>\n",
       "      <td>1</td>\n",
       "      <td>160</td>\n",
       "    </tr>\n",
       "  </tbody>\n",
       "</table>\n",
       "</div>"
      ],
      "text/plain": [
       "  biofeedback    diet  drug  pressure\n",
       "0     present  absent     1       170\n",
       "1     present  absent     1       175\n",
       "2     present  absent     1       165\n",
       "3     present  absent     1       180\n",
       "4     present  absent     1       160"
      ]
     },
     "execution_count": 3,
     "metadata": {},
     "output_type": "execute_result"
    }
   ],
   "source": [
    "data.head()"
   ]
  },
  {
   "cell_type": "code",
   "execution_count": 95,
   "metadata": {},
   "outputs": [
    {
     "data": {
      "text/html": [
       "<div>\n",
       "<style scoped>\n",
       "    .dataframe tbody tr th:only-of-type {\n",
       "        vertical-align: middle;\n",
       "    }\n",
       "\n",
       "    .dataframe tbody tr th {\n",
       "        vertical-align: top;\n",
       "    }\n",
       "\n",
       "    .dataframe thead th {\n",
       "        text-align: right;\n",
       "    }\n",
       "</style>\n",
       "<table border=\"1\" class=\"dataframe\">\n",
       "  <thead>\n",
       "    <tr style=\"text-align: right;\">\n",
       "      <th></th>\n",
       "      <th>drug</th>\n",
       "      <th>pressure</th>\n",
       "    </tr>\n",
       "  </thead>\n",
       "  <tbody>\n",
       "    <tr>\n",
       "      <th>count</th>\n",
       "      <td>72.000000</td>\n",
       "      <td>72.000000</td>\n",
       "    </tr>\n",
       "    <tr>\n",
       "      <th>mean</th>\n",
       "      <td>2.000000</td>\n",
       "      <td>184.500000</td>\n",
       "    </tr>\n",
       "    <tr>\n",
       "      <th>std</th>\n",
       "      <td>0.822226</td>\n",
       "      <td>17.838872</td>\n",
       "    </tr>\n",
       "    <tr>\n",
       "      <th>min</th>\n",
       "      <td>1.000000</td>\n",
       "      <td>152.000000</td>\n",
       "    </tr>\n",
       "    <tr>\n",
       "      <th>25%</th>\n",
       "      <td>1.000000</td>\n",
       "      <td>170.750000</td>\n",
       "    </tr>\n",
       "    <tr>\n",
       "      <th>50%</th>\n",
       "      <td>2.000000</td>\n",
       "      <td>182.500000</td>\n",
       "    </tr>\n",
       "    <tr>\n",
       "      <th>75%</th>\n",
       "      <td>3.000000</td>\n",
       "      <td>198.250000</td>\n",
       "    </tr>\n",
       "    <tr>\n",
       "      <th>max</th>\n",
       "      <td>3.000000</td>\n",
       "      <td>228.000000</td>\n",
       "    </tr>\n",
       "  </tbody>\n",
       "</table>\n",
       "</div>"
      ],
      "text/plain": [
       "            drug    pressure\n",
       "count  72.000000   72.000000\n",
       "mean    2.000000  184.500000\n",
       "std     0.822226   17.838872\n",
       "min     1.000000  152.000000\n",
       "25%     1.000000  170.750000\n",
       "50%     2.000000  182.500000\n",
       "75%     3.000000  198.250000\n",
       "max     3.000000  228.000000"
      ]
     },
     "execution_count": 95,
     "metadata": {},
     "output_type": "execute_result"
    }
   ],
   "source": [
    "data.describe()"
   ]
  },
  {
   "cell_type": "code",
   "execution_count": 96,
   "metadata": {},
   "outputs": [
    {
     "data": {
      "text/html": [
       "<div>\n",
       "<style scoped>\n",
       "    .dataframe tbody tr th:only-of-type {\n",
       "        vertical-align: middle;\n",
       "    }\n",
       "\n",
       "    .dataframe tbody tr th {\n",
       "        vertical-align: top;\n",
       "    }\n",
       "\n",
       "    .dataframe thead th {\n",
       "        text-align: right;\n",
       "    }\n",
       "</style>\n",
       "<table border=\"1\" class=\"dataframe\">\n",
       "  <thead>\n",
       "    <tr style=\"text-align: right;\">\n",
       "      <th></th>\n",
       "      <th>biofeedback</th>\n",
       "      <th>diet</th>\n",
       "      <th>drug</th>\n",
       "      <th>pressure</th>\n",
       "    </tr>\n",
       "  </thead>\n",
       "  <tbody>\n",
       "    <tr>\n",
       "      <th>9</th>\n",
       "      <td>present</td>\n",
       "      <td>present</td>\n",
       "      <td>1</td>\n",
       "      <td>152</td>\n",
       "    </tr>\n",
       "    <tr>\n",
       "      <th>64</th>\n",
       "      <td>absent</td>\n",
       "      <td>absent</td>\n",
       "      <td>3</td>\n",
       "      <td>224</td>\n",
       "    </tr>\n",
       "    <tr>\n",
       "      <th>3</th>\n",
       "      <td>present</td>\n",
       "      <td>absent</td>\n",
       "      <td>1</td>\n",
       "      <td>180</td>\n",
       "    </tr>\n",
       "    <tr>\n",
       "      <th>33</th>\n",
       "      <td>present</td>\n",
       "      <td>present</td>\n",
       "      <td>3</td>\n",
       "      <td>156</td>\n",
       "    </tr>\n",
       "    <tr>\n",
       "      <th>70</th>\n",
       "      <td>absent</td>\n",
       "      <td>present</td>\n",
       "      <td>3</td>\n",
       "      <td>179</td>\n",
       "    </tr>\n",
       "    <tr>\n",
       "      <th>18</th>\n",
       "      <td>present</td>\n",
       "      <td>present</td>\n",
       "      <td>2</td>\n",
       "      <td>164</td>\n",
       "    </tr>\n",
       "    <tr>\n",
       "      <th>32</th>\n",
       "      <td>present</td>\n",
       "      <td>present</td>\n",
       "      <td>3</td>\n",
       "      <td>183</td>\n",
       "    </tr>\n",
       "    <tr>\n",
       "      <th>4</th>\n",
       "      <td>present</td>\n",
       "      <td>absent</td>\n",
       "      <td>1</td>\n",
       "      <td>160</td>\n",
       "    </tr>\n",
       "    <tr>\n",
       "      <th>27</th>\n",
       "      <td>present</td>\n",
       "      <td>absent</td>\n",
       "      <td>3</td>\n",
       "      <td>170</td>\n",
       "    </tr>\n",
       "    <tr>\n",
       "      <th>66</th>\n",
       "      <td>absent</td>\n",
       "      <td>present</td>\n",
       "      <td>3</td>\n",
       "      <td>205</td>\n",
       "    </tr>\n",
       "  </tbody>\n",
       "</table>\n",
       "</div>"
      ],
      "text/plain": [
       "   biofeedback     diet  drug  pressure\n",
       "9      present  present     1       152\n",
       "64      absent   absent     3       224\n",
       "3      present   absent     1       180\n",
       "33     present  present     3       156\n",
       "70      absent  present     3       179\n",
       "18     present  present     2       164\n",
       "32     present  present     3       183\n",
       "4      present   absent     1       160\n",
       "27     present   absent     3       170\n",
       "66      absent  present     3       205"
      ]
     },
     "execution_count": 96,
     "metadata": {},
     "output_type": "execute_result"
    }
   ],
   "source": [
    "data.sample(10)"
   ]
  },
  {
   "cell_type": "code",
   "execution_count": 97,
   "metadata": {},
   "outputs": [
    {
     "data": {
      "text/plain": [
       "count          72\n",
       "unique          2\n",
       "top       present\n",
       "freq           36\n",
       "Name: biofeedback, dtype: object"
      ]
     },
     "execution_count": 97,
     "metadata": {},
     "output_type": "execute_result"
    }
   ],
   "source": [
    "data['biofeedback'].describe()"
   ]
  },
  {
   "cell_type": "code",
   "execution_count": 98,
   "metadata": {},
   "outputs": [
    {
     "data": {
      "text/plain": [
       "array(['present', 'absent'], dtype=object)"
      ]
     },
     "execution_count": 98,
     "metadata": {},
     "output_type": "execute_result"
    }
   ],
   "source": [
    "data['biofeedback'].unique()"
   ]
  },
  {
   "cell_type": "markdown",
   "metadata": {},
   "source": [
    "### Трехфакторный дисперсионный анализ для пациентов"
   ]
  },
  {
   "cell_type": "code",
   "execution_count": 99,
   "metadata": {},
   "outputs": [],
   "source": [
    "import statsmodels.api as sm\n",
    "from statsmodels.formula.api import ols"
   ]
  },
  {
   "cell_type": "code",
   "execution_count": 100,
   "metadata": {},
   "outputs": [
    {
     "data": {
      "text/html": [
       "<div>\n",
       "<style scoped>\n",
       "    .dataframe tbody tr th:only-of-type {\n",
       "        vertical-align: middle;\n",
       "    }\n",
       "\n",
       "    .dataframe tbody tr th {\n",
       "        vertical-align: top;\n",
       "    }\n",
       "\n",
       "    .dataframe thead th {\n",
       "        text-align: right;\n",
       "    }\n",
       "</style>\n",
       "<table border=\"1\" class=\"dataframe\">\n",
       "  <thead>\n",
       "    <tr style=\"text-align: right;\">\n",
       "      <th></th>\n",
       "      <th>df</th>\n",
       "      <th>sum_sq</th>\n",
       "      <th>mean_sq</th>\n",
       "      <th>F</th>\n",
       "      <th>PR(&gt;F)</th>\n",
       "    </tr>\n",
       "  </thead>\n",
       "  <tbody>\n",
       "    <tr>\n",
       "      <th>C(biofeedback)</th>\n",
       "      <td>1.0</td>\n",
       "      <td>2048.0</td>\n",
       "      <td>2048.000000</td>\n",
       "      <td>13.072340</td>\n",
       "      <td>6.150719e-04</td>\n",
       "    </tr>\n",
       "    <tr>\n",
       "      <th>C(diet)</th>\n",
       "      <td>1.0</td>\n",
       "      <td>5202.0</td>\n",
       "      <td>5202.000000</td>\n",
       "      <td>33.204255</td>\n",
       "      <td>3.053308e-07</td>\n",
       "    </tr>\n",
       "    <tr>\n",
       "      <th>C(drug)</th>\n",
       "      <td>2.0</td>\n",
       "      <td>3675.0</td>\n",
       "      <td>1837.500000</td>\n",
       "      <td>11.728723</td>\n",
       "      <td>5.018624e-05</td>\n",
       "    </tr>\n",
       "    <tr>\n",
       "      <th>C(biofeedback):C(diet)</th>\n",
       "      <td>1.0</td>\n",
       "      <td>32.0</td>\n",
       "      <td>32.000000</td>\n",
       "      <td>0.204255</td>\n",
       "      <td>6.529374e-01</td>\n",
       "    </tr>\n",
       "    <tr>\n",
       "      <th>C(biofeedback):C(drug)</th>\n",
       "      <td>2.0</td>\n",
       "      <td>259.0</td>\n",
       "      <td>129.500000</td>\n",
       "      <td>0.826596</td>\n",
       "      <td>4.424565e-01</td>\n",
       "    </tr>\n",
       "    <tr>\n",
       "      <th>C(diet):C(drug)</th>\n",
       "      <td>2.0</td>\n",
       "      <td>903.0</td>\n",
       "      <td>451.500000</td>\n",
       "      <td>2.881915</td>\n",
       "      <td>6.381527e-02</td>\n",
       "    </tr>\n",
       "    <tr>\n",
       "      <th>C(biofeedback):C(diet):C(drug)</th>\n",
       "      <td>2.0</td>\n",
       "      <td>1075.0</td>\n",
       "      <td>537.500000</td>\n",
       "      <td>3.430851</td>\n",
       "      <td>3.883423e-02</td>\n",
       "    </tr>\n",
       "    <tr>\n",
       "      <th>Residual</th>\n",
       "      <td>60.0</td>\n",
       "      <td>9400.0</td>\n",
       "      <td>156.666667</td>\n",
       "      <td>NaN</td>\n",
       "      <td>NaN</td>\n",
       "    </tr>\n",
       "  </tbody>\n",
       "</table>\n",
       "</div>"
      ],
      "text/plain": [
       "                                  df  sum_sq      mean_sq          F  \\\n",
       "C(biofeedback)                   1.0  2048.0  2048.000000  13.072340   \n",
       "C(diet)                          1.0  5202.0  5202.000000  33.204255   \n",
       "C(drug)                          2.0  3675.0  1837.500000  11.728723   \n",
       "C(biofeedback):C(diet)           1.0    32.0    32.000000   0.204255   \n",
       "C(biofeedback):C(drug)           2.0   259.0   129.500000   0.826596   \n",
       "C(diet):C(drug)                  2.0   903.0   451.500000   2.881915   \n",
       "C(biofeedback):C(diet):C(drug)   2.0  1075.0   537.500000   3.430851   \n",
       "Residual                        60.0  9400.0   156.666667        NaN   \n",
       "\n",
       "                                      PR(>F)  \n",
       "C(biofeedback)                  6.150719e-04  \n",
       "C(diet)                         3.053308e-07  \n",
       "C(drug)                         5.018624e-05  \n",
       "C(biofeedback):C(diet)          6.529374e-01  \n",
       "C(biofeedback):C(drug)          4.424565e-01  \n",
       "C(diet):C(drug)                 6.381527e-02  \n",
       "C(biofeedback):C(diet):C(drug)  3.883423e-02  \n",
       "Residual                                 NaN  "
      ]
     },
     "execution_count": 100,
     "metadata": {},
     "output_type": "execute_result"
    }
   ],
   "source": [
    "lm = ols('pressure ~ C(biofeedback) * C(diet) * C(drug)', data=data).fit()\n",
    "table = sm.stats.anova_lm(lm, typ=1)\n",
    "table"
   ]
  },
  {
   "cell_type": "markdown",
   "metadata": {},
   "source": [
    "Значимые воздействия"
   ]
  },
  {
   "cell_type": "code",
   "execution_count": 101,
   "metadata": {},
   "outputs": [
    {
     "data": {
      "text/html": [
       "<div>\n",
       "<style scoped>\n",
       "    .dataframe tbody tr th:only-of-type {\n",
       "        vertical-align: middle;\n",
       "    }\n",
       "\n",
       "    .dataframe tbody tr th {\n",
       "        vertical-align: top;\n",
       "    }\n",
       "\n",
       "    .dataframe thead th {\n",
       "        text-align: right;\n",
       "    }\n",
       "</style>\n",
       "<table border=\"1\" class=\"dataframe\">\n",
       "  <thead>\n",
       "    <tr style=\"text-align: right;\">\n",
       "      <th></th>\n",
       "      <th>df</th>\n",
       "      <th>sum_sq</th>\n",
       "      <th>mean_sq</th>\n",
       "      <th>F</th>\n",
       "      <th>PR(&gt;F)</th>\n",
       "    </tr>\n",
       "  </thead>\n",
       "  <tbody>\n",
       "    <tr>\n",
       "      <th>C(biofeedback)</th>\n",
       "      <td>1.0</td>\n",
       "      <td>2048.0</td>\n",
       "      <td>2048.0</td>\n",
       "      <td>13.072340</td>\n",
       "      <td>6.150719e-04</td>\n",
       "    </tr>\n",
       "    <tr>\n",
       "      <th>C(diet)</th>\n",
       "      <td>1.0</td>\n",
       "      <td>5202.0</td>\n",
       "      <td>5202.0</td>\n",
       "      <td>33.204255</td>\n",
       "      <td>3.053308e-07</td>\n",
       "    </tr>\n",
       "    <tr>\n",
       "      <th>C(drug)</th>\n",
       "      <td>2.0</td>\n",
       "      <td>3675.0</td>\n",
       "      <td>1837.5</td>\n",
       "      <td>11.728723</td>\n",
       "      <td>5.018624e-05</td>\n",
       "    </tr>\n",
       "    <tr>\n",
       "      <th>C(biofeedback):C(diet):C(drug)</th>\n",
       "      <td>2.0</td>\n",
       "      <td>1075.0</td>\n",
       "      <td>537.5</td>\n",
       "      <td>3.430851</td>\n",
       "      <td>3.883423e-02</td>\n",
       "    </tr>\n",
       "  </tbody>\n",
       "</table>\n",
       "</div>"
      ],
      "text/plain": [
       "                                 df  sum_sq  mean_sq          F        PR(>F)\n",
       "C(biofeedback)                  1.0  2048.0   2048.0  13.072340  6.150719e-04\n",
       "C(diet)                         1.0  5202.0   5202.0  33.204255  3.053308e-07\n",
       "C(drug)                         2.0  3675.0   1837.5  11.728723  5.018624e-05\n",
       "C(biofeedback):C(diet):C(drug)  2.0  1075.0    537.5   3.430851  3.883423e-02"
      ]
     },
     "execution_count": 101,
     "metadata": {},
     "output_type": "execute_result"
    }
   ],
   "source": [
    "table[table['PR(>F)'] < 0.05]"
   ]
  },
  {
   "cell_type": "markdown",
   "metadata": {},
   "source": [
    "#### Построим графики взаимодействий"
   ]
  },
  {
   "cell_type": "markdown",
   "metadata": {},
   "source": [
    "$$X_{ijk} = \\mu + \\alpha_i + \\beta_j + \\gamma_{ij} + \\varepsilon_{ijk},$$\n",
    "$$i = 1, ..., K_1,\\ j = 1, ..., K_2,\\ k = 1, ..., n.$$\n",
    "\n",
    "- $\\mu$ -- общее среднее значение признака,\n",
    "- $\\alpha_i$ -- воздействие уровня $i$ фактора $f_1$,\n",
    "- $\\beta_j$ -- воздействие уровня $j$ фактора $f_2$,\n",
    "- $\\gamma_{ij}$ -- дополнительное воздействие комбинации уровней $i$ и $j$ факторов $f_1$ и $f_2$,\n",
    "- $\\varepsilon_{ijk}$ -- случайные независимые одинаково распределенные ошибки"
   ]
  },
  {
   "cell_type": "code",
   "execution_count": 102,
   "metadata": {},
   "outputs": [
    {
     "data": {
      "image/png": "[encoded data removed]",
      "text/plain": [
       "<Figure size 432x288 with 1 Axes>"
      ]
     },
     "metadata": {
      "needs_background": "light"
     },
     "output_type": "display_data"
    },
    {
     "data": {
      "text/plain": [
       "<matplotlib.axes._subplots.AxesSubplot at 0x7fc19836ff28>"
      ]
     },
     "execution_count": 102,
     "metadata": {},
     "output_type": "execute_result"
    },
    {
     "data": {
      "image/png": "[encoded data removed]",
      "text/plain": [
       "<Figure size 432x288 with 1 Axes>"
      ]
     },
     "metadata": {
      "needs_background": "light"
     },
     "output_type": "display_data"
    }
   ],
   "source": [
    "plt.title('Diet: absent')\n",
    "sns.pointplot(x=\"biofeedback\", y=\"pressure\", data=data.loc[data['diet']=='absent'], hue='drug')\n",
    "\n",
    "plt.show()\n",
    "plt.title('Diet: present')\n",
    "sns.pointplot(x=\"biofeedback\", y=\"pressure\", data=data.loc[data['diet']=='present'], hue='drug')"
   ]
  },
  {
   "cell_type": "code",
   "execution_count": 103,
   "metadata": {},
   "outputs": [
    {
     "data": {
      "image/png": "[encoded data removed]",
      "text/plain": [
       "<Figure size 432x288 with 1 Axes>"
      ]
     },
     "metadata": {
      "needs_background": "light"
     },
     "output_type": "display_data"
    },
    {
     "data": {
      "text/plain": [
       "<matplotlib.axes._subplots.AxesSubplot at 0x7fc1982ac3c8>"
      ]
     },
     "execution_count": 103,
     "metadata": {},
     "output_type": "execute_result"
    },
    {
     "data": {
      "image/png": "[encoded data removed]",
      "text/plain": [
       "<Figure size 432x288 with 1 Axes>"
      ]
     },
     "metadata": {
      "needs_background": "light"
     },
     "output_type": "display_data"
    }
   ],
   "source": [
    "plt.title('biofeedback: absent')\n",
    "sns.pointplot(x=\"diet\", y=\"pressure\", data=data.loc[data['biofeedback']=='absent'], hue='drug')\n",
    "\n",
    "plt.show()\n",
    "plt.title('biofeedback: present')\n",
    "sns.pointplot(x=\"diet\", y=\"pressure\", data=data.loc[data['biofeedback']=='present'], hue='drug')"
   ]
  },
  {
   "cell_type": "markdown",
   "metadata": {},
   "source": [
    "Тройное взаимодействие значимо, поэтому разделим выборку по одному из признаков."
   ]
  },
  {
   "cell_type": "markdown",
   "metadata": {},
   "source": [
    "### Двухфакторный дисперсионный анализ для пациентов, проходящих психотерапию"
   ]
  },
  {
   "cell_type": "code",
   "execution_count": 104,
   "metadata": {},
   "outputs": [
    {
     "data": {
      "text/html": [
       "<div>\n",
       "<style scoped>\n",
       "    .dataframe tbody tr th:only-of-type {\n",
       "        vertical-align: middle;\n",
       "    }\n",
       "\n",
       "    .dataframe tbody tr th {\n",
       "        vertical-align: top;\n",
       "    }\n",
       "\n",
       "    .dataframe thead th {\n",
       "        text-align: right;\n",
       "    }\n",
       "</style>\n",
       "<table border=\"1\" class=\"dataframe\">\n",
       "  <thead>\n",
       "    <tr style=\"text-align: right;\">\n",
       "      <th></th>\n",
       "      <th>df</th>\n",
       "      <th>sum_sq</th>\n",
       "      <th>mean_sq</th>\n",
       "      <th>F</th>\n",
       "      <th>PR(&gt;F)</th>\n",
       "    </tr>\n",
       "  </thead>\n",
       "  <tbody>\n",
       "    <tr>\n",
       "      <th>C(diet)</th>\n",
       "      <td>1.0</td>\n",
       "      <td>2209.0</td>\n",
       "      <td>2209.000000</td>\n",
       "      <td>15.248504</td>\n",
       "      <td>0.000496</td>\n",
       "    </tr>\n",
       "    <tr>\n",
       "      <th>C(drug)</th>\n",
       "      <td>2.0</td>\n",
       "      <td>2342.0</td>\n",
       "      <td>1171.000000</td>\n",
       "      <td>8.083295</td>\n",
       "      <td>0.001556</td>\n",
       "    </tr>\n",
       "    <tr>\n",
       "      <th>C(diet):C(drug)</th>\n",
       "      <td>2.0</td>\n",
       "      <td>1634.0</td>\n",
       "      <td>817.000000</td>\n",
       "      <td>5.639669</td>\n",
       "      <td>0.008334</td>\n",
       "    </tr>\n",
       "    <tr>\n",
       "      <th>Residual</th>\n",
       "      <td>30.0</td>\n",
       "      <td>4346.0</td>\n",
       "      <td>144.866667</td>\n",
       "      <td>NaN</td>\n",
       "      <td>NaN</td>\n",
       "    </tr>\n",
       "  </tbody>\n",
       "</table>\n",
       "</div>"
      ],
      "text/plain": [
       "                   df  sum_sq      mean_sq          F    PR(>F)\n",
       "C(diet)           1.0  2209.0  2209.000000  15.248504  0.000496\n",
       "C(drug)           2.0  2342.0  1171.000000   8.083295  0.001556\n",
       "C(diet):C(drug)   2.0  1634.0   817.000000   5.639669  0.008334\n",
       "Residual         30.0  4346.0   144.866667        NaN       NaN"
      ]
     },
     "execution_count": 104,
     "metadata": {},
     "output_type": "execute_result"
    }
   ],
   "source": [
    "lm = ols('pressure ~  C(diet) * C(drug)',data=data.loc[data['biofeedback']=='present']).fit()\n",
    "table = sm.stats.anova_lm(lm)\n",
    "table"
   ]
  },
  {
   "cell_type": "markdown",
   "metadata": {},
   "source": [
    "Есть значимое межфакторное взаимодействие."
   ]
  },
  {
   "cell_type": "markdown",
   "metadata": {},
   "source": [
    "#### Графики"
   ]
  },
  {
   "cell_type": "code",
   "execution_count": 105,
   "metadata": {},
   "outputs": [
    {
     "data": {
      "image/png": "[encoded data removed]",
      "text/plain": [
       "<Figure size 432x288 with 1 Axes>"
      ]
     },
     "metadata": {
      "needs_background": "light"
     },
     "output_type": "display_data"
    },
    {
     "data": {
      "image/png": "[encoded data removed]",
      "text/plain": [
       "<Figure size 432x288 with 1 Axes>"
      ]
     },
     "metadata": {
      "needs_background": "light"
     },
     "output_type": "display_data"
    }
   ],
   "source": [
    "_ = sns.pointplot(x=\"diet\", y=\"pressure\", data=data.loc[data['biofeedback']=='present'], hue='drug')\n",
    "plt.show()\n",
    "_ = sns.pointplot(x=\"drug\", y=\"pressure\", data=data.loc[data['biofeedback']=='present'], hue='diet')"
   ]
  },
  {
   "cell_type": "markdown",
   "metadata": {},
   "source": [
    "Поэтому снова поделим выборку."
   ]
  },
  {
   "cell_type": "markdown",
   "metadata": {},
   "source": [
    "### Однофакторный анализ для пациентов, проходящих психотерапию и сидящих на диете:"
   ]
  },
  {
   "cell_type": "code",
   "execution_count": 106,
   "metadata": {},
   "outputs": [
    {
     "data": {
      "text/plain": [
       "<matplotlib.axes._subplots.AxesSubplot at 0x7fc1980dcc50>"
      ]
     },
     "execution_count": 106,
     "metadata": {},
     "output_type": "execute_result"
    },
    {
     "data": {
      "image/png": "[encoded data removed]",
      "text/plain": [
       "<Figure size 432x288 with 1 Axes>"
      ]
     },
     "metadata": {
      "needs_background": "light"
     },
     "output_type": "display_data"
    }
   ],
   "source": [
    "sns.boxplot(x='drug', y='pressure', data=data[(data['biofeedback']=='present') & (data['diet']=='present')])"
   ]
  },
  {
   "cell_type": "code",
   "execution_count": 107,
   "metadata": {},
   "outputs": [
    {
     "data": {
      "text/html": [
       "<div>\n",
       "<style scoped>\n",
       "    .dataframe tbody tr th:only-of-type {\n",
       "        vertical-align: middle;\n",
       "    }\n",
       "\n",
       "    .dataframe tbody tr th {\n",
       "        vertical-align: top;\n",
       "    }\n",
       "\n",
       "    .dataframe thead th {\n",
       "        text-align: right;\n",
       "    }\n",
       "</style>\n",
       "<table border=\"1\" class=\"dataframe\">\n",
       "  <thead>\n",
       "    <tr style=\"text-align: right;\">\n",
       "      <th></th>\n",
       "      <th>df</th>\n",
       "      <th>sum_sq</th>\n",
       "      <th>mean_sq</th>\n",
       "      <th>F</th>\n",
       "      <th>PR(&gt;F)</th>\n",
       "    </tr>\n",
       "  </thead>\n",
       "  <tbody>\n",
       "    <tr>\n",
       "      <th>C(drug)</th>\n",
       "      <td>2.0</td>\n",
       "      <td>52.0</td>\n",
       "      <td>26.0</td>\n",
       "      <td>0.164141</td>\n",
       "      <td>0.850126</td>\n",
       "    </tr>\n",
       "    <tr>\n",
       "      <th>Residual</th>\n",
       "      <td>15.0</td>\n",
       "      <td>2376.0</td>\n",
       "      <td>158.4</td>\n",
       "      <td>NaN</td>\n",
       "      <td>NaN</td>\n",
       "    </tr>\n",
       "  </tbody>\n",
       "</table>\n",
       "</div>"
      ],
      "text/plain": [
       "            df  sum_sq  mean_sq         F    PR(>F)\n",
       "C(drug)    2.0    52.0     26.0  0.164141  0.850126\n",
       "Residual  15.0  2376.0    158.4       NaN       NaN"
      ]
     },
     "execution_count": 107,
     "metadata": {},
     "output_type": "execute_result"
    }
   ],
   "source": [
    "lm =  ols('pressure ~ C(drug)',data=data.loc[(data['biofeedback']=='present') & (data['diet']=='present')]).fit()\n",
    "table = sm.stats.anova_lm(lm)\n",
    "table"
   ]
  },
  {
   "cell_type": "markdown",
   "metadata": {},
   "source": [
    "Ожидаемый p-value: ```~0.850126```"
   ]
  },
  {
   "cell_type": "markdown",
   "metadata": {},
   "source": [
    "### Однофакторный анализ для пациентов, проходящих психотерапию и не сидящих на диете:"
   ]
  },
  {
   "cell_type": "code",
   "execution_count": 108,
   "metadata": {},
   "outputs": [
    {
     "data": {
      "image/png": "[encoded data removed]",
      "text/plain": [
       "<Figure size 432x288 with 1 Axes>"
      ]
     },
     "metadata": {
      "needs_background": "light"
     },
     "output_type": "display_data"
    }
   ],
   "source": [
    "_ = sns.boxplot(x='drug', y='pressure', data=data[(data['biofeedback']=='present') & (data['diet']=='absent')])"
   ]
  },
  {
   "cell_type": "code",
   "execution_count": 109,
   "metadata": {},
   "outputs": [
    {
     "data": {
      "text/html": [
       "<div>\n",
       "<style scoped>\n",
       "    .dataframe tbody tr th:only-of-type {\n",
       "        vertical-align: middle;\n",
       "    }\n",
       "\n",
       "    .dataframe tbody tr th {\n",
       "        vertical-align: top;\n",
       "    }\n",
       "\n",
       "    .dataframe thead th {\n",
       "        text-align: right;\n",
       "    }\n",
       "</style>\n",
       "<table border=\"1\" class=\"dataframe\">\n",
       "  <thead>\n",
       "    <tr style=\"text-align: right;\">\n",
       "      <th></th>\n",
       "      <th>df</th>\n",
       "      <th>sum_sq</th>\n",
       "      <th>mean_sq</th>\n",
       "      <th>F</th>\n",
       "      <th>PR(&gt;F)</th>\n",
       "    </tr>\n",
       "  </thead>\n",
       "  <tbody>\n",
       "    <tr>\n",
       "      <th>C(drug)</th>\n",
       "      <td>2.0</td>\n",
       "      <td>3924.0</td>\n",
       "      <td>1962.000000</td>\n",
       "      <td>14.939086</td>\n",
       "      <td>0.000269</td>\n",
       "    </tr>\n",
       "    <tr>\n",
       "      <th>Residual</th>\n",
       "      <td>15.0</td>\n",
       "      <td>1970.0</td>\n",
       "      <td>131.333333</td>\n",
       "      <td>NaN</td>\n",
       "      <td>NaN</td>\n",
       "    </tr>\n",
       "  </tbody>\n",
       "</table>\n",
       "</div>"
      ],
      "text/plain": [
       "            df  sum_sq      mean_sq          F    PR(>F)\n",
       "C(drug)    2.0  3924.0  1962.000000  14.939086  0.000269\n",
       "Residual  15.0  1970.0   131.333333        NaN       NaN"
      ]
     },
     "execution_count": 109,
     "metadata": {},
     "output_type": "execute_result"
    }
   ],
   "source": [
    "lm =  ols('pressure ~ C(drug)',data=data.loc[(data['biofeedback']=='present') & (data['diet']=='absent')]).fit()\n",
    "table = sm.stats.anova_lm(lm)\n",
    "table"
   ]
  },
  {
   "cell_type": "markdown",
   "metadata": {},
   "source": [
    "Ожидаемый p-value: ```~0.000269```"
   ]
  },
  {
   "cell_type": "markdown",
   "metadata": {},
   "source": [
    "#### Исследуем различия в воздействии между группами"
   ]
  },
  {
   "cell_type": "code",
   "execution_count": 111,
   "metadata": {},
   "outputs": [
    {
     "name": "stdout",
     "output_type": "stream",
     "text": [
      " Multiple Comparison of Means - Tukey HSD, FWER=0.05 \n",
      "=====================================================\n",
      "group1 group2 meandiff p-adj   lower    upper  reject\n",
      "-----------------------------------------------------\n",
      "     1      2     36.0  0.001  18.8206 53.1794   True\n",
      "     1      3     21.0 0.0163   3.8206 38.1794   True\n",
      "     2      3    -15.0 0.0918 -32.1794  2.1794  False\n",
      "-----------------------------------------------------\n"
     ]
    }
   ],
   "source": [
    "from statsmodels.stats.multicomp import pairwise_tukeyhsd\n",
    "from statsmodels.stats.multicomp import MultiComparison\n",
    "mc = MultiComparison(data.loc[(data['biofeedback']=='present') & (data['diet']=='absent')]['pressure'],\n",
    "                     data.loc[(data['biofeedback']=='present') & (data['diet']=='absent')]['drug'])\n",
    "result = mc.tukeyhsd()\n",
    "\n",
    "print(result)"
   ]
  },
  {
   "cell_type": "markdown",
   "metadata": {},
   "source": [
    "Препарат 1 значимо эффективнее двух других."
   ]
  },
  {
   "cell_type": "markdown",
   "metadata": {},
   "source": [
    "### Двухфакторный дисперсионный анализ для пациентов, не проходящих психотерапию:"
   ]
  },
  {
   "cell_type": "code",
   "execution_count": 112,
   "metadata": {},
   "outputs": [
    {
     "data": {
      "text/html": [
       "<div>\n",
       "<style scoped>\n",
       "    .dataframe tbody tr th:only-of-type {\n",
       "        vertical-align: middle;\n",
       "    }\n",
       "\n",
       "    .dataframe tbody tr th {\n",
       "        vertical-align: top;\n",
       "    }\n",
       "\n",
       "    .dataframe thead th {\n",
       "        text-align: right;\n",
       "    }\n",
       "</style>\n",
       "<table border=\"1\" class=\"dataframe\">\n",
       "  <thead>\n",
       "    <tr style=\"text-align: right;\">\n",
       "      <th></th>\n",
       "      <th>df</th>\n",
       "      <th>sum_sq</th>\n",
       "      <th>mean_sq</th>\n",
       "      <th>F</th>\n",
       "      <th>PR(&gt;F)</th>\n",
       "    </tr>\n",
       "  </thead>\n",
       "  <tbody>\n",
       "    <tr>\n",
       "      <th>C(diet)</th>\n",
       "      <td>1.0</td>\n",
       "      <td>3025.0</td>\n",
       "      <td>3025.000000</td>\n",
       "      <td>17.956074</td>\n",
       "      <td>0.000198</td>\n",
       "    </tr>\n",
       "    <tr>\n",
       "      <th>C(drug)</th>\n",
       "      <td>2.0</td>\n",
       "      <td>1592.0</td>\n",
       "      <td>796.000000</td>\n",
       "      <td>4.724970</td>\n",
       "      <td>0.016448</td>\n",
       "    </tr>\n",
       "    <tr>\n",
       "      <th>C(diet):C(drug)</th>\n",
       "      <td>2.0</td>\n",
       "      <td>344.0</td>\n",
       "      <td>172.000000</td>\n",
       "      <td>1.020973</td>\n",
       "      <td>0.372422</td>\n",
       "    </tr>\n",
       "    <tr>\n",
       "      <th>Residual</th>\n",
       "      <td>30.0</td>\n",
       "      <td>5054.0</td>\n",
       "      <td>168.466667</td>\n",
       "      <td>NaN</td>\n",
       "      <td>NaN</td>\n",
       "    </tr>\n",
       "  </tbody>\n",
       "</table>\n",
       "</div>"
      ],
      "text/plain": [
       "                   df  sum_sq      mean_sq          F    PR(>F)\n",
       "C(diet)           1.0  3025.0  3025.000000  17.956074  0.000198\n",
       "C(drug)           2.0  1592.0   796.000000   4.724970  0.016448\n",
       "C(diet):C(drug)   2.0   344.0   172.000000   1.020973  0.372422\n",
       "Residual         30.0  5054.0   168.466667        NaN       NaN"
      ]
     },
     "execution_count": 112,
     "metadata": {},
     "output_type": "execute_result"
    }
   ],
   "source": [
    "lm = ols('pressure ~ C(diet) * C(drug)',data=data[data['biofeedback']=='absent']).fit()\n",
    "table = sm.stats.anova_lm(lm, typ=1)\n",
    "table"
   ]
  },
  {
   "cell_type": "markdown",
   "metadata": {},
   "source": [
    "Межфакторное взаимодействие незначимо:"
   ]
  },
  {
   "cell_type": "code",
   "execution_count": 113,
   "metadata": {},
   "outputs": [
    {
     "data": {
      "image/png": "[encoded data removed]",
      "text/plain": [
       "<Figure size 432x288 with 1 Axes>"
      ]
     },
     "metadata": {
      "needs_background": "light"
     },
     "output_type": "display_data"
    },
    {
     "data": {
      "image/png": "[encoded data removed]",
      "text/plain": [
       "<Figure size 432x288 with 1 Axes>"
      ]
     },
     "metadata": {
      "needs_background": "light"
     },
     "output_type": "display_data"
    }
   ],
   "source": [
    "_ = sns.pointplot(x=\"diet\", y=\"pressure\", data=data[data['biofeedback']=='absent'], hue='drug')\n",
    "plt.show()\n",
    "_ = sns.pointplot(x=\"drug\", y=\"pressure\", data=data[data['biofeedback']=='absent'], hue='diet')"
   ]
  },
  {
   "cell_type": "markdown",
   "metadata": {},
   "source": [
    "#### Исследуем попарные различия в воздействии каждого из лекарств в зависимости от диеты"
   ]
  },
  {
   "cell_type": "code",
   "execution_count": 115,
   "metadata": {},
   "outputs": [
    {
     "name": "stdout",
     "output_type": "stream",
     "text": [
      " Multiple Comparison of Means - Tukey HSD, FWER=0.05 \n",
      "=====================================================\n",
      "group1 group2 meandiff p-adj   lower    upper  reject\n",
      "-----------------------------------------------------\n",
      "     1      2     24.0  0.001   9.8936 38.1064   True\n",
      "     1      3     21.0 0.0025   6.8936 35.1064   True\n",
      "     2      3     -3.0 0.8504 -17.1064 11.1064  False\n",
      "-----------------------------------------------------\n"
     ]
    }
   ],
   "source": [
    "subset = data[data.diet == 'absent']\n",
    "mc = MultiComparison(subset['pressure'], subset['drug'])\n",
    "result = mc.tukeyhsd()\n",
    "print(result)"
   ]
  },
  {
   "cell_type": "code",
   "execution_count": 116,
   "metadata": {},
   "outputs": [
    {
     "name": "stdout",
     "output_type": "stream",
     "text": [
      " Multiple Comparison of Means - Tukey HSD, FWER=0.05 \n",
      "=====================================================\n",
      "group1 group2 meandiff p-adj   lower    upper  reject\n",
      "-----------------------------------------------------\n",
      "     1      2      8.5 0.2994  -5.3036 22.3036  False\n",
      "     1      3      6.5 0.4892  -7.3036 20.3036  False\n",
      "     2      3     -2.0    0.9 -15.8036 11.8036  False\n",
      "-----------------------------------------------------\n"
     ]
    }
   ],
   "source": [
    "subset = data[data.diet == 'present']\n",
    "mc = MultiComparison(subset['pressure'], subset['drug'])\n",
    "result = mc.tukeyhsd()\n",
    "print(result)"
   ]
  },
  {
   "cell_type": "markdown",
   "metadata": {},
   "source": [
    "## Итого:\n",
    "\n",
    "* если пациент не проходит психотерапию, соблюдение диеты приводит к значимому уменьшению давления при приёме любого из трёх препаратов;\n",
    "* эффективность всех трёх препаратов неразличима для пациентов, сидящих на диете и проходящих психотерапию;\n",
    "* для пациентов, проходящих психотерапию и не сидящих на диете, препарат 1 эффективнее в среднем примерно на 20 мм. рт. ст.\n",
    "* Чтобы сделать другие возможные выводы (например, оценить эффекты психотерапии и эффект диеты для тех, кто проходит психотерапию), нужно разбить трёхфакторный анализ по двум другим признакам.\n",
    "\n",
    "**Maxwell S.E., Delaney H.D. Designing Experiments and Analyzing Data: A Model Comparison Perspective. (1990). Глава 8, стр. 325.**"
   ]
  }
 ],
 "metadata": {
  "kernelspec": {
   "display_name": "Python 3.6.6 (pyenv)",
   "language": "python",
   "name": "pyenv3.6.6"
  },
  "language_info": {
   "codemirror_mode": {
    "name": "ipython",
    "version": 3
   },
   "file_extension": ".py",
   "mimetype": "text/x-python",
   "name": "python",
   "nbconvert_exporter": "python",
   "pygments_lexer": "ipython3",
   "version": "3.6.6"
  }
 },
 "nbformat": 4,
 "nbformat_minor": 4
}
