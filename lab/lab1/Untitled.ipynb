{
 "cells": [
  {
   "cell_type": "code",
   "execution_count": 9,
   "metadata": {},
   "outputs": [],
   "source": [
    "import numpy as np\n",
    "import scipy.stats as st\n",
    "from statsmodels.stats.multitest import multipletests\n",
    "\n",
    "np.random.seed(250320)\n",
    "n = 20\n",
    "m0 = 150\n",
    "# Имеем m0 семплов из N(0, 1) и остальные из N(1, 1); всего их m\n",
    "m_min = 200\n",
    "m_max = 100000\n",
    "m_samples = []\n",
    "sample = m_min\n",
    "grid_param = 2\n",
    "while sample <= m_max:\n",
    "    m_samples.append(sample)\n",
    "    sample *= grid_param\n",
    "m_samples.append(m_max)"
   ]
  },
  {
   "cell_type": "code",
   "execution_count": 10,
   "metadata": {},
   "outputs": [],
   "source": [
    "def fdr(res):\n",
    "    tn = m0 - res[:m0].sum()\n",
    "    fp = res[:m0].sum()\n",
    "    tp = res[m0:].sum()\n",
    "    fdr = fp / (tp + fp)\n",
    "    return fdr"
   ]
  },
  {
   "cell_type": "code",
   "execution_count": 11,
   "metadata": {},
   "outputs": [],
   "source": [
    "methods = ['holm', 'bonferroni', 'holm-sidak']\n",
    "FDR = {key: [] for key in ['poor'] + methods}\n",
    "for m in m_samples:\n",
    "    samples = np.concatenate([np.random.normal(0, 1, size=(m0, n)), np.random.normal(1, 1, size=(m-m0, n))], axis=0)\n",
    "    _, pvals = st.ttest_1samp(samples, np.zeros(m), axis=1)\n",
    "    FDR['poor'].append(fdr(pvals < 0.05))\n",
    "    for method in methods:\n",
    "        FDR[method].append(fdr(multipletests(pvals, alpha=0.05, method=method)[0]))"
   ]
  },
  {
   "cell_type": "code",
   "execution_count": 12,
   "metadata": {},
   "outputs": [
    {
     "name": "stdout",
     "output_type": "stream",
     "text": [
      "Method poor\n",
      "m = 200: FDR = 0.1694915254237288\n",
      "m = 400: FDR = 0.04263565891472868\n",
      "m = 800: FDR = 0.007704160246533128\n",
      "m = 1600: FDR = 0.00554016620498615\n",
      "m = 3200: FDR = 0.0029781601588352085\n",
      "m = 6400: FDR = 0.0008089305937550558\n",
      "m = 12800: FDR = 0.0005603586295228947\n",
      "m = 25600: FDR = 0.00027820833830133937\n",
      "m = 51200: FDR = 0.00021785197948230448\n",
      "m = 100000: FDR = 7.088679379031687e-05\n",
      "Method holm\n",
      "m = 200: FDR = 0.0\n",
      "m = 400: FDR = 0.0\n",
      "m = 800: FDR = 0.0\n",
      "m = 1600: FDR = 0.0\n",
      "m = 3200: FDR = 0.0\n",
      "m = 6400: FDR = 0.0\n",
      "m = 12800: FDR = 0.0\n",
      "m = 25600: FDR = 0.0\n",
      "m = 51200: FDR = 0.0\n",
      "m = 100000: FDR = 0.0\n",
      "Method bonferroni\n",
      "m = 200: FDR = 0.0\n",
      "m = 400: FDR = 0.0\n",
      "m = 800: FDR = 0.0\n",
      "m = 1600: FDR = 0.0\n",
      "m = 3200: FDR = 0.0\n",
      "m = 6400: FDR = 0.0\n",
      "m = 12800: FDR = 0.0\n",
      "m = 25600: FDR = 0.0\n",
      "m = 51200: FDR = 0.0\n",
      "m = 100000: FDR = 0.0\n",
      "Method holm-sidak\n",
      "m = 200: FDR = 0.0\n",
      "m = 400: FDR = 0.0\n",
      "m = 800: FDR = 0.0\n",
      "m = 1600: FDR = 0.0\n",
      "m = 3200: FDR = 0.0\n",
      "m = 6400: FDR = 0.0\n",
      "m = 12800: FDR = 0.0\n",
      "m = 25600: FDR = 0.0\n",
      "m = 51200: FDR = 0.0\n",
      "m = 100000: FDR = 0.0\n"
     ]
    }
   ],
   "source": [
    "for key, array in FDR.items():\n",
    "    print('Method {}'.format(key))\n",
    "    for idx, value in enumerate(array):\n",
    "        print('m = {}: FDR = {}'.format(m_samples[idx], value))"
   ]
  }
 ],
 "metadata": {
  "kernelspec": {
   "display_name": "Python 3",
   "language": "python",
   "name": "python3"
  },
  "language_info": {
   "codemirror_mode": {
    "name": "ipython",
    "version": 3
   },
   "file_extension": ".py",
   "mimetype": "text/x-python",
   "name": "python",
   "nbconvert_exporter": "python",
   "pygments_lexer": "ipython3",
   "version": "3.7.0"
  }
 },
 "nbformat": 4,
 "nbformat_minor": 2
}
