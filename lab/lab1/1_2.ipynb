{
 "cells": [
  {
   "cell_type": "code",
   "execution_count": 29,
   "metadata": {},
   "outputs": [
    {
     "data": {
      "text/html": [
       "<div>\n",
       "<style scoped>\n",
       "    .dataframe tbody tr th:only-of-type {\n",
       "        vertical-align: middle;\n",
       "    }\n",
       "\n",
       "    .dataframe tbody tr th {\n",
       "        vertical-align: top;\n",
       "    }\n",
       "\n",
       "    .dataframe thead th {\n",
       "        text-align: right;\n",
       "    }\n",
       "</style>\n",
       "<table border=\"1\" class=\"dataframe\">\n",
       "  <thead>\n",
       "    <tr style=\"text-align: right;\">\n",
       "      <th></th>\n",
       "      <th>0-1</th>\n",
       "      <th>0-2</th>\n",
       "      <th>1-0</th>\n",
       "      <th>1-2</th>\n",
       "      <th>2-0</th>\n",
       "      <th>2-1</th>\n",
       "    </tr>\n",
       "  </thead>\n",
       "  <tbody>\n",
       "    <tr>\n",
       "      <th>0</th>\n",
       "      <td>-0.930</td>\n",
       "      <td>-1.582</td>\n",
       "      <td>0.930</td>\n",
       "      <td>-0.652</td>\n",
       "      <td>1.582</td>\n",
       "      <td>0.652</td>\n",
       "    </tr>\n",
       "    <tr>\n",
       "      <th>1</th>\n",
       "      <td>0.648</td>\n",
       "      <td>0.444</td>\n",
       "      <td>-0.648</td>\n",
       "      <td>-0.204</td>\n",
       "      <td>-0.444</td>\n",
       "      <td>0.204</td>\n",
       "    </tr>\n",
       "    <tr>\n",
       "      <th>2</th>\n",
       "      <td>-2.796</td>\n",
       "      <td>-4.088</td>\n",
       "      <td>2.796</td>\n",
       "      <td>-1.292</td>\n",
       "      <td>4.088</td>\n",
       "      <td>1.292</td>\n",
       "    </tr>\n",
       "    <tr>\n",
       "      <th>3</th>\n",
       "      <td>-1.082</td>\n",
       "      <td>-1.782</td>\n",
       "      <td>1.082</td>\n",
       "      <td>-0.700</td>\n",
       "      <td>1.782</td>\n",
       "      <td>0.700</td>\n",
       "    </tr>\n",
       "  </tbody>\n",
       "</table>\n",
       "</div>"
      ],
      "text/plain": [
       "     0-1    0-2    1-0    1-2    2-0    2-1\n",
       "0 -0.930 -1.582  0.930 -0.652  1.582  0.652\n",
       "1  0.648  0.444 -0.648 -0.204 -0.444  0.204\n",
       "2 -2.796 -4.088  2.796 -1.292  4.088  1.292\n",
       "3 -1.082 -1.782  1.082 -0.700  1.782  0.700"
      ]
     },
     "execution_count": 29,
     "metadata": {},
     "output_type": "execute_result"
    }
   ],
   "source": [
    "from sklearn.datasets import load_iris\n",
    "import numpy as np\n",
    "import pandas as pd\n",
    "from scipy.stats import pearsonr as ps\n",
    "\n",
    "X, y = load_iris(return_X_y = True)\n",
    "\n",
    "classes = set(y)\n",
    "X_per_cl = {cl: np.array([it\n",
    "                    for num, it in enumerate(X)\n",
    "                    if y[num] == cl]) for cl in classes}\n",
    "means = dict(map(lambda kv: (kv[0], kv[1].mean(axis = 0)), iter(X_per_cl.items())))\n",
    "deltas = {'{}-{}'.format(class_1, class_2): means[class_1] - means[class_2] \n",
    "        for class_1 in classes\n",
    "        for class_2 in classes\n",
    "        if class_1 != class_2}\n",
    "pd.DataFrame(deltas)\n"
   ]
  },
  {
   "cell_type": "code",
   "execution_count": 30,
   "metadata": {},
   "outputs": [
    {
     "name": "stdout",
     "output_type": "stream",
     "text": [
      "Effects size:\n",
      "Param 0: 0.7825612318100814\n",
      "Param 1: -0.4194462002600275\n",
      "Param 2: 0.9490425448523336\n",
      "Param 3: 0.9564638238016173\n"
     ]
    }
   ],
   "source": [
    "print('Effects size:')\n",
    "for num, x in enumerate(X.T):\n",
    "    print('Param {}: {}'.format(num, ps(x, y)[0]))"
   ]
  }
 ],
 "metadata": {
  "kernelspec": {
   "display_name": "Python 3",
   "language": "python",
   "name": "python3"
  },
  "language_info": {
   "codemirror_mode": {
    "name": "ipython",
    "version": 3
   },
   "file_extension": ".py",
   "mimetype": "text/x-python",
   "name": "python",
   "nbconvert_exporter": "python",
   "pygments_lexer": "ipython3",
   "version": "3.7.0"
  }
 },
 "nbformat": 4,
 "nbformat_minor": 2
}
